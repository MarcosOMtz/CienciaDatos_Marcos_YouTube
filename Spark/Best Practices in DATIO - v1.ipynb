{
 "cells": [
  {
   "cell_type": "markdown",
   "metadata": {},
   "source": [
    "<img src=\"../images/Spark_logo.png\" width=\"350\">"
   ]
  },
  {
   "cell_type": "markdown",
   "metadata": {},
   "source": [
    "# Best Practices in DATIO platform"
   ]
  },
  {
   "cell_type": "markdown",
   "metadata": {},
   "source": [
    "<div style=\"background-color:white; text-align:center; padding:10px; color:black; margin-left:0px; border-radius: 10px; font-family:Trebuchet MS; font-size:20px\">\n",
    "<strong>Mexico City, 03 april 2019</strong>\n",
    "</div>"
   ]
  },
  {
   "cell_type": "markdown",
   "metadata": {},
   "source": [
    "<table class=\"table table-bordered table-hover\">\n",
    "  <thead>\n",
    "    <tr>\n",
    "      <th scope=\"col\">Authors</th>\n",
    "      <th scope=\"col\">Organization</th>\n",
    "    </tr>\n",
    "  </thead>\n",
    "  <tbody>\n",
    "    <tr>\n",
    "      <td>Marcos Olguín Martínez</td>\n",
    "      <td>BBVA</td>\n",
    "    </tr>\n",
    "    <tr>\n",
    "      <td>Libertad Pantoja Hernández</td>\n",
    "      <td>DATIO</td>\n",
    "    </tr>\n",
    "    <tr>\n",
    "      <td>Cesar Castañeda Reyes</td>\n",
    "      <td>DATIO</td>\n",
    "    </tr>\n",
    "  </tbody>\n",
    "</table>"
   ]
  },
  {
   "cell_type": "markdown",
   "metadata": {},
   "source": [
    "***"
   ]
  },
  {
   "cell_type": "markdown",
   "metadata": {},
   "source": [
    "<div style=\"background-color:white; text-align:center; padding:10px; color:steelblue; margin-left:0px; border-radius: 10px; font-family:Trebuchet MS; font-size:18px\">\n",
    "The purpose of this document is to show the best of programming and code organization practices to achieve a better use of the DATIO platform and optimize its performance.\n",
    "</div>\n",
    "\n"
   ]
  },
  {
   "cell_type": "markdown",
   "metadata": {},
   "source": [
    "# How should organize yours Jupyter Notebooks?"
   ]
  },
  {
   "cell_type": "markdown",
   "metadata": {},
   "source": [
    "- Spark services\n",
    "- Libraries\n",
    "- Load JSON information (parameters)\n",
    "- Spark code\n",
    "    - Locate related python functions into the same file\n",
    "    - Data Frames in Spark\n",
    "    - Select\n",
    "    - Create new columns\n",
    "    - Filter\n",
    "    - groupBy and aggregate\n",
    "    - Functions\n",
    "    - Results throughout the document (graphs, tables, etc.)\n",
    "    - Save results into Sandbox Manager\n",
    "- Best practices examples"
   ]
  },
  {
   "cell_type": "markdown",
   "metadata": {},
   "source": [
    "## Spark services"
   ]
  },
  {
   "cell_type": "markdown",
   "metadata": {},
   "source": [
    "```python\n",
    "import pyspark\n",
    "sc = pyspark.SparkContext('local[*]')\n",
    "sc\n",
    "```"
   ]
  },
  {
   "cell_type": "markdown",
   "metadata": {},
   "source": [
    "## Libraries"
   ]
  },
  {
   "cell_type": "markdown",
   "metadata": {},
   "source": [
    "```python\n",
    "import pyspark.sql.functions as F\n",
    "from pyspark.sql.types import *\n",
    "from Utilerias import *\n",
    "import matplotlib.pyplot as plt\n",
    "import sys\n",
    "```"
   ]
  },
  {
   "cell_type": "markdown",
   "metadata": {},
   "source": [
    "## JSON files (parameters)"
   ]
  },
  {
   "cell_type": "markdown",
   "metadata": {},
   "source": [
    "The structure structure of JSON file will be as follows:"
   ]
  },
  {
   "cell_type": "markdown",
   "metadata": {},
   "source": [
    "```json\n",
    "{\n",
    "\t\"PATHS\":\n",
    "\t{\n",
    "        \"INSUMOS\" : \"/path/of/your/sandbox/data_base_input\",\n",
    "        \"SALIDAS\" : \"/path/of/your/sandbox/data_base_output\"\n",
    "\t},\n",
    "\t\n",
    "\t\"INPUTS\":\n",
    "\t{\n",
    "\t\t\"BALANCES\"   : \"balances_xxxxxx.csv\",\n",
    "\t\t\"REFUNDIDOS\" : \"cat_refundidos_xxxx_validado.csv\",\n",
    "\t\t\"STSM\"       : \"CLON_XXXXX_EGE_XXXX_300M.csv\"\n",
    "    },\n",
    "\t\n",
    "\t\"OUTPUTS\":\n",
    "\t{\n",
    "\t\t\"DOC_OUTPUT_1\" : \"DOC_SERIE_COHORTE_SEGMENTOS.csv\",\n",
    "\t\t\"DOC_OUTPUT_2\" : \"DOC_SERIE_ANUAL_SEGMENTOS.csv\"\n",
    "    },\n",
    "\n",
    "\t\"SCHEMAS\": \n",
    "\t{\n",
    "\t\t\"BALANCES\" : [[\"CLIENTE\",\"str\"],\n",
    "                      [\"NANOEJER\",\"int\"],\n",
    "                      [\"MES_EJER\", \"str\"],\n",
    "                      [\"TIPO_EMPRESA\",\"str\"],\n",
    "                      [\"CANT_MESES\",\"int\"],\n",
    "                      [\"UNID_MEDIDA\",\"str\"],\n",
    "                      [\"COD_DIVISA\",\"str\"],\n",
    "                      ...\n",
    "     \n",
    "```"
   ]
  },
  {
   "cell_type": "markdown",
   "metadata": {},
   "source": [
    "We create a function in python to read the information that is contained in the JSON and store it inside a python class in a file that in our case we call **\"utilerias.py\"**, but they can put the name that best fits your code ."
   ]
  },
  {
   "cell_type": "markdown",
   "metadata": {},
   "source": [
    "```python\n",
    "import json\n",
    "\n",
    "class Utilerias(object):\n",
    "\n",
    "    #>>> Function that reads the json file\n",
    "    def fnCargaJson(nexus_url):\n",
    "        with open(nexus_url) as json_file: properties = json.load(json_file)\n",
    "        return properties\n",
    "```"
   ]
  },
  {
   "cell_type": "markdown",
   "metadata": {},
   "source": [
    "One way to load the information from JSON files to the Notebook, is as follows:"
   ]
  },
  {
   "cell_type": "markdown",
   "metadata": {},
   "source": [
    "```python\n",
    "# RUTA DE INSUMOS Y NOMBRE DE LOS ARCHIVOS\n",
    "sRuta = \"\"\n",
    "sNombreParam = \"Parametros.json\"\n",
    "\n",
    "# RUTAS COMPLETAS\n",
    "sParametros = sRuta + sNombreParam\n",
    "\n",
    "# CARGANDO PARAMETROS\n",
    "sContenidoJson = Utilerias.fnCargaJson(sParametros)\n",
    "\n",
    "# ALMACENANDO RUTAS DE INSUMOS Y SALIDA\n",
    "sRutaInsumos = sContenidoJson[\"PATHS\"][\"INPUTS\"]\n",
    "sRutaSalidas = sContenidoJson[\"PATHS\"][\"OUTPUTS\"]\n",
    "```"
   ]
  },
  {
   "cell_type": "markdown",
   "metadata": {},
   "source": [
    "Load schemas from JSON file"
   ]
  },
  {
   "cell_type": "markdown",
   "metadata": {},
   "source": [
    "```python\n",
    "# Arreglo auxiliar para cambiar el tipo de dato de python a PySpark\n",
    "dTiposDatos = {\n",
    "               \"int\" :IntegerType(), \"double\" : DoubleType(), \"date\"    : DateType(),\n",
    "               \"str\" : StringType(), \"float\"  : FloatType(),  \"decimal\" : DecimalType(30,10)\n",
    "              }\n",
    "\n",
    "esquemaBalances  = sContenidoJson[\"SCHEMAS\"][\"BALANCES\"]\n",
    "```"
   ]
  },
  {
   "cell_type": "markdown",
   "metadata": {},
   "source": [
    "<div class=\"alert alert-success\" role=\"alert\">\n",
    "\n",
    "<h4 class=\"alert-heading\">Thinking about productivization?</h4>\n",
    "<hr>\n",
    "When you migrate to the archetype, \\*.py files are going to be used to load the parameters. However, the *.json files guarantees a better organization in the preliminar development stages.\n",
    "  <button type=\"button\" class=\"close\" data-dismiss=\"alert\" aria-label=\"Close\">\n",
    "    <span aria-hidden=\"true\">&times;</span>\n",
    "  </button>\n",
    "</div>"
   ]
  },
  {
   "cell_type": "markdown",
   "metadata": {},
   "source": [
    "### How can I load Sparks Schemas?"
   ]
  },
  {
   "cell_type": "markdown",
   "metadata": {},
   "source": [
    "<div class=\"alert alert-danger\" role=\"alert\">\n",
    "Do not load Spark schemes like this because it doesn't work:\n",
    "</div>"
   ]
  },
  {
   "cell_type": "raw",
   "metadata": {},
   "source": [
    "esquemaBalances = sContenidoEsquemas[\"ESQUEMA_BALANCES\"]\n",
    "esquemaBalances = StructType([StructField(X, dTiposDatos[esquemaBalances[X]], True) for X in esquemaBalances.keys()])"
   ]
  },
  {
   "cell_type": "markdown",
   "metadata": {},
   "source": [
    "<div class=\"alert alert-success alert-dismissable\" role=\"alert\">\n",
    "Load Spark scheme like this:\n",
    "</div>"
   ]
  },
  {
   "cell_type": "raw",
   "metadata": {},
   "source": [
    "eBalances = [(esquemaBalances[x][0], dTiposDatos[esquemaBalances[x][1]]) for x in range (0, len(esquemaBalances))]\n",
    "eBalances = StructType([StructField(eBalances[X][0], eBalances[X][1], True) for X in range(0, len(eBalances))])"
   ]
  },
  {
   "cell_type": "markdown",
   "metadata": {},
   "source": [
    "It is important to create functions in python that help with high complexity mathematical processess and not to keep these operations inside the notebook, but in a different class (file). This way we will have a better organized and cleaner code.\n",
    "\n",
    "If we organize the notebook in this way, we will have a loading libraries, load tables and variables transformations sections."
   ]
  },
  {
   "cell_type": "markdown",
   "metadata": {},
   "source": [
    "**Load tables**"
   ]
  },
  {
   "cell_type": "raw",
   "metadata": {},
   "source": [
    "sMCPDMFinal   = sContenidoJson[\"INPUTS\"][\"MC_PDM_FINAL\"]\n",
    "sRat          = sContenidoJson[\"INPUTS\"][\"RATING\"]\n",
    "sRIout        = sContenidoJson[\"INPUTS\"][\"RI_out\"]\n",
    "sGpo          = sContenidoJson[\"INPUTS\"][\"GRUPO\"]\n",
    "sCat_Bca      = sContenidoJson[\"INPUTS\"][\"CAT_BANCA\"]\n",
    "sPuntFinCalib = sContenidoJson[\"INPUTS\"][\"PUNT_FIN_CALIB\"]\n",
    "sBaseCalifM   = sContenidoJson[\"INPUTS\"][\"BASE_CALIF_MOTOR\"]"
   ]
  },
  {
   "cell_type": "markdown",
   "metadata": {},
   "source": [
    "**Load schemes**"
   ]
  },
  {
   "cell_type": "raw",
   "metadata": {},
   "source": [
    "dTiposDatos = {\"int\" : IntegerType(), \"double\" : DoubleType(), \"date\" : DateType(),\n",
    "               \"str\" : StringType(),  \"float\"  : FloatType(),  \"decimal\"  : DecimalType(30,10)}\n",
    "\n",
    "esquemaMCPDMFINAL     = sContenidoJson[\"SCHEMAS\"][\"MC_PDM_FINAL\"]\n",
    "esquemaRATING         = sContenidoJson[\"SCHEMAS\"][\"RATING\"]\n",
    "esquemaRI_out         = sContenidoJson[\"SCHEMAS\"][\"RI_out\"]\n",
    "esquemaGRUPO          = sContenidoJson[\"SCHEMAS\"][\"GRUPO\"]\n",
    "esquemaCAT_BANCA      = sContenidoJson[\"SCHEMAS\"][\"CAT_BANCA\"]\n",
    "esquemaPUNT_FIN_CALIB = sContenidoJson[\"SCHEMAS\"][\"PUNT_FIN_CALIB\"]\n",
    "esquemaBASE_CALIF_M   = sContenidoJson[\"SCHEMAS\"][\"BASE_CALIF_MOTOR\"]"
   ]
  },
  {
   "cell_type": "markdown",
   "metadata": {},
   "source": [
    "## Spark code"
   ]
  },
  {
   "cell_type": "markdown",
   "metadata": {},
   "source": [
    "### Locate related python functions into the same file"
   ]
  },
  {
   "cell_type": "markdown",
   "metadata": {},
   "source": [
    "In the file that in this case we will call **\"Utilerias.py\"**, in addition to the function that loads files of type JSON, store functions that will help us to apply transformations yo the columns, such as formatting columns of date type. We may also include functions that measure how long it takes to execute the code, such as:"
   ]
  },
  {
   "cell_type": "markdown",
   "metadata": {},
   "source": [
    "```python\n",
    "class Utilerias(object):\n",
    "\n",
    "    #>>> Función para devolver la hora actual\n",
    "    def fnHoraActual():\n",
    "        sHoraActual= datetime.datetime.now(pytz.timezone('Mexico/General')).strftime(\"%H:%M:%S %p\")\n",
    "        return sHoraActual\n",
    "\n",
    "    #>>> Función para devolver tiempo transcurrido\n",
    "    def fnTiempoTranscurrido (HoraInicio, HoraFin):\n",
    "        sTiempoTranscurrido = dt.strptime(HoraFin[:8],'%H:%M:%S') - dt.strptime(HoraInicio[:8],'%H:%M:%S')\n",
    "        return str(sTiempoTranscurrido)\n",
    "        \n",
    "    #>>> Función para convertir una fecha String a Date\n",
    "    def fnConvierteFecha (fechaConvertir):\n",
    "        if (fechaConvertir is None):\n",
    "            return None\n",
    "        else:\n",
    "            sTipoFecha  = fechaConvertir[2:3]\n",
    "            if (sTipoFecha == \"/\"):\n",
    "                return dt.strptime(fechaConvertir,'%d/%m/%Y')\n",
    "            else:\n",
    "                sTipoFecha  = fechaConvertir[4:5]\n",
    "            if (sTipoFecha == \"-\"):\n",
    "                return dt.strptime(fechaConvertir,'%Y-%m-%d')\n",
    "            else:\n",
    "                \"9999-01-01\"\n",
    "```"
   ]
  },
  {
   "cell_type": "markdown",
   "metadata": {},
   "source": [
    "### Data Frames in Spark"
   ]
  },
  {
   "cell_type": "markdown",
   "metadata": {},
   "source": [
    "Starting Spark services (just run once)"
   ]
  },
  {
   "cell_type": "code",
   "execution_count": 3,
   "metadata": {},
   "outputs": [
    {
     "data": {
      "text/html": [
       "\n",
       "        <div>\n",
       "            <p><b>SparkContext</b></p>\n",
       "\n",
       "            <p><a href=\"http://macbookpro.local:4040\">Spark UI</a></p>\n",
       "\n",
       "            <dl>\n",
       "              <dt>Version</dt>\n",
       "                <dd><code>v2.3.0</code></dd>\n",
       "              <dt>Master</dt>\n",
       "                <dd><code>local[*]</code></dd>\n",
       "              <dt>AppName</dt>\n",
       "                <dd><code>pyspark-shell</code></dd>\n",
       "            </dl>\n",
       "        </div>\n",
       "        "
      ],
      "text/plain": [
       "<SparkContext master=local[*] appName=pyspark-shell>"
      ]
     },
     "execution_count": 3,
     "metadata": {},
     "output_type": "execute_result"
    }
   ],
   "source": [
    "import pyspark\n",
    "sc = pyspark.SparkContext('local[*]')\n",
    "sc"
   ]
  },
  {
   "cell_type": "code",
   "execution_count": 4,
   "metadata": {},
   "outputs": [],
   "source": [
    "from pyspark.sql import SparkSession"
   ]
  },
  {
   "cell_type": "markdown",
   "metadata": {},
   "source": [
    "To create a data frame in Spark we need to:\n",
    "\n",
    "- Load a data base from a plane file (for instance CSV).\n",
    "- Connect to a large distributed file (like HDFS).\n",
    "- Convert a RDD to DataFrame"
   ]
  },
  {
   "cell_type": "code",
   "execution_count": 5,
   "metadata": {},
   "outputs": [],
   "source": [
    "# This may take some time in your local PC\n",
    "spark = SparkSession.builder.appName(\"Basics\").getOrCreate()"
   ]
  },
  {
   "cell_type": "code",
   "execution_count": 6,
   "metadata": {},
   "outputs": [],
   "source": [
    "# Let's start by reading a new file\n",
    "df = spark.read.json('./data/people2.json')"
   ]
  },
  {
   "cell_type": "code",
   "execution_count": 7,
   "metadata": {},
   "outputs": [
    {
     "name": "stdout",
     "output_type": "stream",
     "text": [
      "root\n",
      " |-- age: long (nullable = true)\n",
      " |-- name: string (nullable = true)\n",
      "\n"
     ]
    }
   ],
   "source": [
    "df.printSchema()"
   ]
  },
  {
   "cell_type": "code",
   "execution_count": 8,
   "metadata": {},
   "outputs": [
    {
     "name": "stdout",
     "output_type": "stream",
     "text": [
      "+----+-------+\n",
      "| age|   name|\n",
      "+----+-------+\n",
      "|null|Michael|\n",
      "|  30|   Andy|\n",
      "|  19| Justin|\n",
      "|   7|  Sofia|\n",
      "|null| Martha|\n",
      "+----+-------+\n",
      "\n"
     ]
    }
   ],
   "source": [
    "df.show()"
   ]
  },
  {
   "cell_type": "code",
   "execution_count": 9,
   "metadata": {},
   "outputs": [
    {
     "data": {
      "text/html": [
       "<div>\n",
       "<style scoped>\n",
       "    .dataframe tbody tr th:only-of-type {\n",
       "        vertical-align: middle;\n",
       "    }\n",
       "\n",
       "    .dataframe tbody tr th {\n",
       "        vertical-align: top;\n",
       "    }\n",
       "\n",
       "    .dataframe thead th {\n",
       "        text-align: right;\n",
       "    }\n",
       "</style>\n",
       "<table border=\"1\" class=\"dataframe\">\n",
       "  <thead>\n",
       "    <tr style=\"text-align: right;\">\n",
       "      <th></th>\n",
       "      <th>age</th>\n",
       "      <th>name</th>\n",
       "    </tr>\n",
       "  </thead>\n",
       "  <tbody>\n",
       "    <tr>\n",
       "      <th>0</th>\n",
       "      <td>NaN</td>\n",
       "      <td>Michael</td>\n",
       "    </tr>\n",
       "    <tr>\n",
       "      <th>1</th>\n",
       "      <td>30.0</td>\n",
       "      <td>Andy</td>\n",
       "    </tr>\n",
       "    <tr>\n",
       "      <th>2</th>\n",
       "      <td>19.0</td>\n",
       "      <td>Justin</td>\n",
       "    </tr>\n",
       "  </tbody>\n",
       "</table>\n",
       "</div>"
      ],
      "text/plain": [
       "    age     name\n",
       "0   NaN  Michael\n",
       "1  30.0     Andy\n",
       "2  19.0   Justin"
      ]
     },
     "execution_count": 9,
     "metadata": {},
     "output_type": "execute_result"
    }
   ],
   "source": [
    "df.limit(3).toPandas()\n",
    "# limit = limit the result to a max \"n\" amount of registers (in this case n = 3)\n",
    "# Convert the limited [limit()] result to a Pandas table (Python)"
   ]
  },
  {
   "cell_type": "code",
   "execution_count": 10,
   "metadata": {},
   "outputs": [
    {
     "data": {
      "text/plain": [
       "['age', 'name']"
      ]
     },
     "execution_count": 10,
     "metadata": {},
     "output_type": "execute_result"
    }
   ],
   "source": [
    "# show the columns compounding the Data Frame (a.k.a. DF)\n",
    "df.columns"
   ]
  },
  {
   "cell_type": "code",
   "execution_count": 11,
   "metadata": {},
   "outputs": [
    {
     "name": "stdout",
     "output_type": "stream",
     "text": [
      "+-------+------------------+-----+\n",
      "|summary|               age| name|\n",
      "+-------+------------------+-----+\n",
      "|  count|                 3|    5|\n",
      "|   mean|18.666666666666668| null|\n",
      "| stddev|11.503622617824933| null|\n",
      "|    min|                 7| Andy|\n",
      "|    max|                30|Sofia|\n",
      "+-------+------------------+-----+\n",
      "\n"
     ]
    }
   ],
   "source": [
    "# Ultra short DF analysis\n",
    "df.describe().show()"
   ]
  },
  {
   "cell_type": "markdown",
   "metadata": {},
   "source": [
    "<div class=\"alert alert-danger\" role=\"alert\">\n",
    "For DataFrames we do not have either the <strong>isEmpty</strong> or <strong>countApprox</strong> methods, so if we want to know if our DataFrame contains data, it is recommended to convert it to a RDD. In general, it is not a good idea to rise a <strong>collect</strong> or a <strong>count</strong> action in DataFrames which magnitude we do not know, since it can involve a high computational cost.\n",
    "</div>"
   ]
  },
  {
   "cell_type": "code",
   "execution_count": 12,
   "metadata": {},
   "outputs": [
    {
     "data": {
      "text/plain": [
       "False"
      ]
     },
     "execution_count": 12,
     "metadata": {},
     "output_type": "execute_result"
    }
   ],
   "source": [
    "df.rdd.isEmpty()"
   ]
  },
  {
   "cell_type": "code",
   "execution_count": 13,
   "metadata": {},
   "outputs": [
    {
     "data": {
      "text/plain": [
       "5"
      ]
     },
     "execution_count": 13,
     "metadata": {},
     "output_type": "execute_result"
    }
   ],
   "source": [
    "df.rdd.countApprox(timeout=800)"
   ]
  },
  {
   "cell_type": "markdown",
   "metadata": {},
   "source": [
    "Spark has tools for adjust the schemas of our table:"
   ]
  },
  {
   "cell_type": "code",
   "execution_count": 14,
   "metadata": {},
   "outputs": [],
   "source": [
    "from pyspark.sql.types import StructField, StringType, IntegerType, StructType"
   ]
  },
  {
   "cell_type": "markdown",
   "metadata": {},
   "source": [
    "Once we load the tools we need to create the list of structured fields (StructFields), which have three parameters mainly.\n",
    "\n",
    "```\n",
    "StructField(String name, DataType dataType, boolean nullable)\n",
    "```\n",
    "\n",
    "\n",
    "* **name:** field name (String).\n",
    "* **dataType:** field `DataType`.\n",
    "* **nullable:** Boolean, can it be either null (None) or not."
   ]
  },
  {
   "cell_type": "code",
   "execution_count": 15,
   "metadata": {},
   "outputs": [],
   "source": [
    "# Manually defined Schema\n",
    "data_schema = [StructField(\"age\", IntegerType(), True),\n",
    "               StructField(\"name\", StringType(), True)]"
   ]
  },
  {
   "cell_type": "markdown",
   "metadata": {},
   "source": [
    "We define the scheme completely."
   ]
  },
  {
   "cell_type": "code",
   "execution_count": 16,
   "metadata": {},
   "outputs": [],
   "source": [
    "final_struc = StructType(fields=data_schema)"
   ]
  },
  {
   "cell_type": "markdown",
   "metadata": {},
   "source": [
    "And finally assign the schema."
   ]
  },
  {
   "cell_type": "code",
   "execution_count": 17,
   "metadata": {},
   "outputs": [],
   "source": [
    "df = spark.read.json('./data/people2.json', schema=final_struc)"
   ]
  },
  {
   "cell_type": "code",
   "execution_count": 18,
   "metadata": {
    "scrolled": true
   },
   "outputs": [
    {
     "name": "stdout",
     "output_type": "stream",
     "text": [
      "root\n",
      " |-- age: integer (nullable = true)\n",
      " |-- name: string (nullable = true)\n",
      "\n"
     ]
    }
   ],
   "source": [
    "df.printSchema()"
   ]
  },
  {
   "cell_type": "markdown",
   "metadata": {},
   "source": [
    "The scheme defined by Spark was:"
   ]
  },
  {
   "cell_type": "raw",
   "metadata": {},
   "source": [
    "root\n",
    " |-- age: long (nullable = true)\n",
    " |-- name: string (nullable = true)"
   ]
  },
  {
   "cell_type": "markdown",
   "metadata": {},
   "source": [
    "<div class=\"alert alert-info\" role=\"alert\">Defining the scheme as previously shown reduces computational costs.</div>"
   ]
  },
  {
   "cell_type": "markdown",
   "metadata": {},
   "source": [
    "<div class=\"alert alert-success\" role=\"alert\">\n",
    "\n",
    "<h4 class=\"alert-heading\">Thinking about productivization?</h4>\n",
    "<hr>\n",
    "Once you are developing the productive version, schemas will be needed to check if the data is as we expect it and if the process outputs have the desired data type.\n",
    "  <button type=\"button\" class=\"close\" data-dismiss=\"alert\" aria-label=\"Close\">\n",
    "    <span aria-hidden=\"true\">&times;</span>\n",
    "  </button>\n",
    "</div>"
   ]
  },
  {
   "cell_type": "markdown",
   "metadata": {},
   "source": [
    "### Select"
   ]
  },
  {
   "cell_type": "code",
   "execution_count": 19,
   "metadata": {},
   "outputs": [
    {
     "name": "stdout",
     "output_type": "stream",
     "text": [
      "+----+\n",
      "| age|\n",
      "+----+\n",
      "|null|\n",
      "|  30|\n",
      "|  19|\n",
      "|   7|\n",
      "|null|\n",
      "+----+\n",
      "\n"
     ]
    }
   ],
   "source": [
    "df[[\"age\"]].show()"
   ]
  },
  {
   "cell_type": "code",
   "execution_count": 20,
   "metadata": {},
   "outputs": [
    {
     "data": {
      "text/plain": [
       "DataFrame[age: int]"
      ]
     },
     "execution_count": 20,
     "metadata": {},
     "output_type": "execute_result"
    }
   ],
   "source": [
    "df.select('age')"
   ]
  },
  {
   "cell_type": "code",
   "execution_count": 21,
   "metadata": {},
   "outputs": [
    {
     "name": "stdout",
     "output_type": "stream",
     "text": [
      "+----+\n",
      "| age|\n",
      "+----+\n",
      "|null|\n",
      "|  30|\n",
      "|  19|\n",
      "|   7|\n",
      "|null|\n",
      "+----+\n",
      "\n"
     ]
    }
   ],
   "source": [
    "df.select('age').show()"
   ]
  },
  {
   "cell_type": "code",
   "execution_count": 22,
   "metadata": {},
   "outputs": [
    {
     "data": {
      "text/plain": [
       "[Row(age=None, name='Michael'), Row(age=30, name='Andy')]"
      ]
     },
     "execution_count": 22,
     "metadata": {},
     "output_type": "execute_result"
    }
   ],
   "source": [
    "# Returns list of Row objects\n",
    "df.head(2)"
   ]
  },
  {
   "cell_type": "markdown",
   "metadata": {},
   "source": [
    "#### Select multiples columns"
   ]
  },
  {
   "cell_type": "code",
   "execution_count": 23,
   "metadata": {},
   "outputs": [
    {
     "data": {
      "text/plain": [
       "DataFrame[age: int, name: string]"
      ]
     },
     "execution_count": 23,
     "metadata": {},
     "output_type": "execute_result"
    }
   ],
   "source": [
    "df.select('age','name')"
   ]
  },
  {
   "cell_type": "code",
   "execution_count": 24,
   "metadata": {},
   "outputs": [
    {
     "name": "stdout",
     "output_type": "stream",
     "text": [
      "+----+-------+\n",
      "| age|   name|\n",
      "+----+-------+\n",
      "|null|Michael|\n",
      "|  30|   Andy|\n",
      "|  19| Justin|\n",
      "|   7|  Sofia|\n",
      "|null| Martha|\n",
      "+----+-------+\n",
      "\n"
     ]
    }
   ],
   "source": [
    "df.select('age','name').show()"
   ]
  },
  {
   "cell_type": "code",
   "execution_count": 25,
   "metadata": {},
   "outputs": [
    {
     "name": "stdout",
     "output_type": "stream",
     "text": [
      "+----+-------+\n",
      "| age|   name|\n",
      "+----+-------+\n",
      "|null|Michael|\n",
      "|  30|   Andy|\n",
      "+----+-------+\n",
      "\n"
     ]
    }
   ],
   "source": [
    "# Remember limit the outputs\n",
    "df.select('age','name').limit(2).show()"
   ]
  },
  {
   "cell_type": "markdown",
   "metadata": {},
   "source": [
    "### Create new columns"
   ]
  },
  {
   "cell_type": "code",
   "execution_count": 26,
   "metadata": {},
   "outputs": [
    {
     "name": "stdout",
     "output_type": "stream",
     "text": [
      "+----+-------+------+\n",
      "| age|   name|newage|\n",
      "+----+-------+------+\n",
      "|null|Michael|  null|\n",
      "|  30|   Andy|    30|\n",
      "|  19| Justin|    19|\n",
      "|   7|  Sofia|     7|\n",
      "|null| Martha|  null|\n",
      "+----+-------+------+\n",
      "\n"
     ]
    }
   ],
   "source": [
    "# Add a new column like a copy of another\n",
    "df.withColumn('newage',df['age']).show()"
   ]
  },
  {
   "cell_type": "code",
   "execution_count": 27,
   "metadata": {},
   "outputs": [
    {
     "name": "stdout",
     "output_type": "stream",
     "text": [
      "+-----------+-------+\n",
      "|supernewage|   name|\n",
      "+-----------+-------+\n",
      "|       null|Michael|\n",
      "|         30|   Andy|\n",
      "|         19| Justin|\n",
      "|          7|  Sofia|\n",
      "|       null| Martha|\n",
      "+-----------+-------+\n",
      "\n"
     ]
    }
   ],
   "source": [
    "# Renaming one column\n",
    "df.withColumnRenamed('age','supernewage').show()"
   ]
  },
  {
   "cell_type": "code",
   "execution_count": 28,
   "metadata": {},
   "outputs": [
    {
     "name": "stdout",
     "output_type": "stream",
     "text": [
      "+---+-------+\n",
      "|age|   name|\n",
      "+---+-------+\n",
      "|  0|Michael|\n",
      "| 30|   Andy|\n",
      "| 19| Justin|\n",
      "|  7|  Sofia|\n",
      "|  0| Martha|\n",
      "+---+-------+\n",
      "\n"
     ]
    }
   ],
   "source": [
    "df.fillna(0).show()\n",
    "#df.fillna(0, subset=['column_a', 'column_b'])"
   ]
  },
  {
   "cell_type": "markdown",
   "metadata": {},
   "source": [
    "<div class=\"alert alert-danger\" role=\"alert\">\n",
    "In the DATIO platform it is not recommended to use the _\"withColumn\"_ instruction, instead **_SELECT_** and **_ALIAS_** should be used.\n",
    "</div>"
   ]
  },
  {
   "cell_type": "code",
   "execution_count": 29,
   "metadata": {},
   "outputs": [
    {
     "data": {
      "text/plain": [
       "['age', 'name']"
      ]
     },
     "execution_count": 29,
     "metadata": {},
     "output_type": "execute_result"
    }
   ],
   "source": [
    "df.columns"
   ]
  },
  {
   "cell_type": "code",
   "execution_count": 30,
   "metadata": {},
   "outputs": [
    {
     "data": {
      "text/plain": [
       "['age', 'name']"
      ]
     },
     "execution_count": 30,
     "metadata": {},
     "output_type": "execute_result"
    }
   ],
   "source": [
    "listaColumnas = df.columns\n",
    "listaColumnas"
   ]
  },
  {
   "cell_type": "code",
   "execution_count": 31,
   "metadata": {},
   "outputs": [],
   "source": [
    "import pyspark.sql.functions as F"
   ]
  },
  {
   "cell_type": "code",
   "execution_count": 32,
   "metadata": {},
   "outputs": [
    {
     "name": "stdout",
     "output_type": "stream",
     "text": [
      "+----+-------+----------+\n",
      "| age|   name|number_one|\n",
      "+----+-------+----------+\n",
      "|null|Michael|         1|\n",
      "|  30|   Andy|         1|\n",
      "|  19| Justin|         1|\n",
      "|   7|  Sofia|         1|\n",
      "|null| Martha|         1|\n",
      "+----+-------+----------+\n",
      "\n"
     ]
    }
   ],
   "source": [
    "df.select(*listaColumnas,\n",
    "          F.lit(1).alias(\"number_one\")\n",
    "         ).show()"
   ]
  },
  {
   "cell_type": "code",
   "execution_count": 33,
   "metadata": {},
   "outputs": [
    {
     "data": {
      "text/html": [
       "<div>\n",
       "<style scoped>\n",
       "    .dataframe tbody tr th:only-of-type {\n",
       "        vertical-align: middle;\n",
       "    }\n",
       "\n",
       "    .dataframe tbody tr th {\n",
       "        vertical-align: top;\n",
       "    }\n",
       "\n",
       "    .dataframe thead th {\n",
       "        text-align: right;\n",
       "    }\n",
       "</style>\n",
       "<table border=\"1\" class=\"dataframe\">\n",
       "  <thead>\n",
       "    <tr style=\"text-align: right;\">\n",
       "      <th></th>\n",
       "      <th>age</th>\n",
       "      <th>name</th>\n",
       "      <th>division</th>\n",
       "    </tr>\n",
       "  </thead>\n",
       "  <tbody>\n",
       "    <tr>\n",
       "      <th>0</th>\n",
       "      <td>NaN</td>\n",
       "      <td>Michael</td>\n",
       "      <td>0.00</td>\n",
       "    </tr>\n",
       "    <tr>\n",
       "      <th>1</th>\n",
       "      <td>30.0</td>\n",
       "      <td>Andy</td>\n",
       "      <td>1.50</td>\n",
       "    </tr>\n",
       "    <tr>\n",
       "      <th>2</th>\n",
       "      <td>19.0</td>\n",
       "      <td>Justin</td>\n",
       "      <td>0.95</td>\n",
       "    </tr>\n",
       "    <tr>\n",
       "      <th>3</th>\n",
       "      <td>7.0</td>\n",
       "      <td>Sofia</td>\n",
       "      <td>0.35</td>\n",
       "    </tr>\n",
       "    <tr>\n",
       "      <th>4</th>\n",
       "      <td>NaN</td>\n",
       "      <td>Martha</td>\n",
       "      <td>0.00</td>\n",
       "    </tr>\n",
       "  </tbody>\n",
       "</table>\n",
       "</div>"
      ],
      "text/plain": [
       "    age     name  division\n",
       "0   NaN  Michael      0.00\n",
       "1  30.0     Andy      1.50\n",
       "2  19.0   Justin      0.95\n",
       "3   7.0    Sofia      0.35\n",
       "4   NaN   Martha      0.00"
      ]
     },
     "execution_count": 33,
     "metadata": {},
     "output_type": "execute_result"
    }
   ],
   "source": [
    "df.select(*listaColumnas,\n",
    "          (F.col(\"age\")/20).alias(\"division\")\n",
    "         ).fillna(0, subset=[\"division\"]).toPandas()"
   ]
  },
  {
   "cell_type": "markdown",
   "metadata": {},
   "source": [
    "#### Some operations are slightly more complicated\n",
    "\n",
    "Remember, we should't use `withColumn`, instead use `select` and `alias`."
   ]
  },
  {
   "cell_type": "code",
   "execution_count": 34,
   "metadata": {},
   "outputs": [
    {
     "name": "stdout",
     "output_type": "stream",
     "text": [
      "+----+-------+---------+\n",
      "| age|   name|doubleage|\n",
      "+----+-------+---------+\n",
      "|null|Michael|     null|\n",
      "|  30|   Andy|       60|\n",
      "|  19| Justin|       38|\n",
      "|   7|  Sofia|       14|\n",
      "|null| Martha|     null|\n",
      "+----+-------+---------+\n",
      "\n"
     ]
    }
   ],
   "source": [
    "#df.withColumn('doubleage',df['age']*2).show()\n",
    "df.select(*listaColumnas, (df['age']*2).alias(\"doubleage\")).show()"
   ]
  },
  {
   "cell_type": "code",
   "execution_count": 35,
   "metadata": {},
   "outputs": [
    {
     "name": "stdout",
     "output_type": "stream",
     "text": [
      "+----+-------+-----------+\n",
      "| age|   name|add_one_age|\n",
      "+----+-------+-----------+\n",
      "|null|Michael|       null|\n",
      "|  30|   Andy|         31|\n",
      "|  19| Justin|         20|\n",
      "|   7|  Sofia|          8|\n",
      "|null| Martha|       null|\n",
      "+----+-------+-----------+\n",
      "\n"
     ]
    }
   ],
   "source": [
    "#df.withColumn('add_one_age',df['age']+1).show()\n",
    "df.select(*listaColumnas, (df['age']+1).alias('add_one_age')).show()"
   ]
  },
  {
   "cell_type": "code",
   "execution_count": 36,
   "metadata": {},
   "outputs": [
    {
     "name": "stdout",
     "output_type": "stream",
     "text": [
      "+----+-------+--------+\n",
      "| age|   name|half_age|\n",
      "+----+-------+--------+\n",
      "|null|Michael|    null|\n",
      "|  30|   Andy|    15.0|\n",
      "|  19| Justin|     9.5|\n",
      "|   7|  Sofia|     3.5|\n",
      "|null| Martha|    null|\n",
      "+----+-------+--------+\n",
      "\n"
     ]
    }
   ],
   "source": [
    "#df.withColumn('half_age',df['age']/2).show()\n",
    "df.select(*listaColumnas, (df['age']/2).alias('half_age')).show()"
   ]
  },
  {
   "cell_type": "code",
   "execution_count": 37,
   "metadata": {},
   "outputs": [
    {
     "name": "stdout",
     "output_type": "stream",
     "text": [
      "root\n",
      " |-- age: integer (nullable = true)\n",
      " |-- name: string (nullable = true)\n",
      " |-- half_age: string (nullable = true)\n",
      "\n"
     ]
    }
   ],
   "source": [
    "#df.withColumn('half_age',df['age']/2)\n",
    "df.select(*listaColumnas, (df['age']/2).alias('half_age').astype(\"string\")).printSchema()"
   ]
  },
  {
   "cell_type": "markdown",
   "metadata": {},
   "source": [
    "### Filter"
   ]
  },
  {
   "cell_type": "code",
   "execution_count": 38,
   "metadata": {},
   "outputs": [],
   "source": [
    "df = spark.read.csv('./data/tempVol_CorpGar.csv', inferSchema=True, header=True)"
   ]
  },
  {
   "cell_type": "code",
   "execution_count": 39,
   "metadata": {},
   "outputs": [
    {
     "name": "stdout",
     "output_type": "stream",
     "text": [
      "root\n",
      " |-- estado: string (nullable = true)\n",
      " |-- FEC_RRENTRAD_CTO: timestamp (nullable = true)\n",
      " |-- XTI_SOLUCION: string (nullable = true)\n",
      " |-- YINC: integer (nullable = true)\n",
      " |-- LGD_OBS_1: double (nullable = true)\n",
      " |-- MARCA_MIT_CURVA_INF: string (nullable = true)\n",
      " |-- LGDCI_1: double (nullable = true)\n",
      " |-- LGDCI_2: double (nullable = true)\n",
      " |-- LGDCI_3: double (nullable = true)\n",
      " |-- LGDCI_4: double (nullable = true)\n",
      " |-- LGDCI_5: double (nullable = true)\n",
      " |-- LGDCI_6: double (nullable = true)\n",
      " |-- LGDCI_7: double (nullable = true)\n",
      " |-- LGDCI_8: double (nullable = true)\n",
      " |-- LGDCI_9: double (nullable = true)\n",
      " |-- LGDCI_10: double (nullable = true)\n",
      " |-- LGDCI_11: double (nullable = true)\n",
      " |-- LGDCI_12: double (nullable = true)\n",
      " |-- LGDCI_13: double (nullable = true)\n",
      " |-- LGDCI_14: double (nullable = true)\n",
      " |-- LGDCI_15: double (nullable = true)\n",
      " |-- LGDCI_16: double (nullable = true)\n",
      " |-- LGDCI_17: double (nullable = true)\n",
      " |-- LGDCI_18: double (nullable = true)\n",
      " |-- LGDCI_19: double (nullable = true)\n",
      " |-- LGDCI_20: double (nullable = true)\n",
      " |-- LGDCI_21: double (nullable = true)\n",
      " |-- LGDCI_22: double (nullable = true)\n",
      " |-- LGDCI_23: double (nullable = true)\n",
      " |-- LGDCI_24: double (nullable = true)\n",
      " |-- LGDCI_25: double (nullable = true)\n",
      " |-- LGDCI_26: double (nullable = true)\n",
      " |-- LGDCI_27: double (nullable = true)\n",
      " |-- LGDCI_28: double (nullable = true)\n",
      " |-- LGDCI_29: double (nullable = true)\n",
      " |-- LGDCI_30: double (nullable = true)\n",
      " |-- LGDCI_31: double (nullable = true)\n",
      " |-- LGDCI_32: double (nullable = true)\n",
      " |-- LGDCI_33: double (nullable = true)\n",
      " |-- LGDCI_34: double (nullable = true)\n",
      " |-- LGDCI_35: double (nullable = true)\n",
      " |-- LGDCI_36: double (nullable = true)\n",
      " |-- LGDCIP_1: double (nullable = true)\n",
      " |-- LGDCIP_2: double (nullable = true)\n",
      " |-- LGDCIP_3: double (nullable = true)\n",
      " |-- LGDCIP_4: double (nullable = true)\n",
      " |-- LGDCIP_5: double (nullable = true)\n",
      " |-- LGDCIP_6: double (nullable = true)\n",
      " |-- LGDCIP_7: double (nullable = true)\n",
      " |-- LGDCIP_8: double (nullable = true)\n",
      " |-- LGDCIP_9: double (nullable = true)\n",
      " |-- LGDCIP_10: double (nullable = true)\n",
      " |-- LGDCIP_11: double (nullable = true)\n",
      " |-- LGDCIP_12: double (nullable = true)\n",
      " |-- LGDCIP_13: double (nullable = true)\n",
      " |-- LGDCIP_14: double (nullable = true)\n",
      " |-- LGDCIP_15: double (nullable = true)\n",
      " |-- LGDCIP_16: double (nullable = true)\n",
      " |-- LGDCIP_17: double (nullable = true)\n",
      " |-- LGDCIP_18: double (nullable = true)\n",
      " |-- LGDCIP_19: double (nullable = true)\n",
      " |-- LGDCIP_20: double (nullable = true)\n",
      " |-- LGDCIP_21: double (nullable = true)\n",
      " |-- LGDCIP_22: double (nullable = true)\n",
      " |-- LGDCIP_23: double (nullable = true)\n",
      " |-- LGDCIP_24: double (nullable = true)\n",
      " |-- LGDCIP_25: double (nullable = true)\n",
      " |-- LGDCIP_26: double (nullable = true)\n",
      " |-- LGDCIP_27: double (nullable = true)\n",
      " |-- LGDCIP_28: double (nullable = true)\n",
      " |-- LGDCIP_29: double (nullable = true)\n",
      " |-- LGDCIP_30: double (nullable = true)\n",
      " |-- LGDCIP_31: double (nullable = true)\n",
      " |-- LGDCIP_32: double (nullable = true)\n",
      " |-- LGDCIP_33: double (nullable = true)\n",
      " |-- LGDCIP_34: double (nullable = true)\n",
      " |-- LGDCIP_35: double (nullable = true)\n",
      " |-- LGDCIP_36: double (nullable = true)\n",
      " |-- PESO_1: double (nullable = true)\n",
      " |-- PESO_2: double (nullable = true)\n",
      " |-- PESO_3: double (nullable = true)\n",
      " |-- PESO_4: double (nullable = true)\n",
      " |-- PESO_5: double (nullable = true)\n",
      " |-- PESO_6: double (nullable = true)\n",
      " |-- PESO_7: double (nullable = true)\n",
      " |-- PESO_8: double (nullable = true)\n",
      " |-- PESO_9: double (nullable = true)\n",
      " |-- PESO_10: double (nullable = true)\n",
      " |-- PESO_11: double (nullable = true)\n",
      " |-- PESO_12: double (nullable = true)\n",
      " |-- PESO_13: double (nullable = true)\n",
      " |-- PESO_14: double (nullable = true)\n",
      " |-- PESO_15: double (nullable = true)\n",
      " |-- PESO_16: double (nullable = true)\n",
      " |-- PESO_17: double (nullable = true)\n",
      " |-- PESO_18: double (nullable = true)\n",
      " |-- PESO_19: double (nullable = true)\n",
      " |-- PESO_20: double (nullable = true)\n",
      " |-- PESO_21: double (nullable = true)\n",
      " |-- PESO_22: double (nullable = true)\n",
      " |-- PESO_23: double (nullable = true)\n",
      " |-- PESO_24: double (nullable = true)\n",
      " |-- PESO_25: double (nullable = true)\n",
      " |-- PESO_26: double (nullable = true)\n",
      " |-- PESO_27: double (nullable = true)\n",
      " |-- PESO_28: double (nullable = true)\n",
      " |-- PESO_29: double (nullable = true)\n",
      " |-- PESO_30: double (nullable = true)\n",
      " |-- PESO_31: double (nullable = true)\n",
      " |-- PESO_32: double (nullable = true)\n",
      " |-- PESO_33: double (nullable = true)\n",
      " |-- PESO_34: double (nullable = true)\n",
      " |-- PESO_35: double (nullable = true)\n",
      " |-- PESO_36: double (nullable = true)\n",
      " |-- LGDM_1: double (nullable = true)\n",
      " |-- LGDM_2: double (nullable = true)\n",
      " |-- LGDM_3: double (nullable = true)\n",
      " |-- LGDM_4: double (nullable = true)\n",
      " |-- LGDM_5: double (nullable = true)\n",
      " |-- LGDM_6: double (nullable = true)\n",
      " |-- LGDM_7: double (nullable = true)\n",
      " |-- LGDM_8: double (nullable = true)\n",
      " |-- LGDM_9: double (nullable = true)\n",
      " |-- LGDM_10: double (nullable = true)\n",
      " |-- LGDM_11: double (nullable = true)\n",
      " |-- LGDM_12: double (nullable = true)\n",
      " |-- LGDM_13: double (nullable = true)\n",
      " |-- LGDM_14: double (nullable = true)\n",
      " |-- LGDM_15: double (nullable = true)\n",
      " |-- LGDM_16: double (nullable = true)\n",
      " |-- LGDM_17: double (nullable = true)\n",
      " |-- LGDM_18: double (nullable = true)\n",
      " |-- LGDM_19: double (nullable = true)\n",
      " |-- LGDM_20: double (nullable = true)\n",
      " |-- LGDM_21: double (nullable = true)\n",
      " |-- LGDM_22: double (nullable = true)\n",
      " |-- LGDM_23: double (nullable = true)\n",
      " |-- LGDM_24: double (nullable = true)\n",
      " |-- LGDM_25: double (nullable = true)\n",
      " |-- LGDM_26: double (nullable = true)\n",
      " |-- LGDM_27: double (nullable = true)\n",
      " |-- LGDM_28: double (nullable = true)\n",
      " |-- LGDM_29: double (nullable = true)\n",
      " |-- LGDM_30: double (nullable = true)\n",
      " |-- LGDM_31: double (nullable = true)\n",
      " |-- LGDM_32: double (nullable = true)\n",
      " |-- LGDM_33: double (nullable = true)\n",
      " |-- LGDM_34: double (nullable = true)\n",
      " |-- LGDM_35: double (nullable = true)\n",
      " |-- LGDM_36: double (nullable = true)\n",
      " |-- NOMISSING_1: integer (nullable = true)\n",
      " |-- NOMISSING_2: integer (nullable = true)\n",
      " |-- NOMISSING_3: integer (nullable = true)\n",
      " |-- NOMISSING_4: integer (nullable = true)\n",
      " |-- NOMISSING_5: integer (nullable = true)\n",
      " |-- NOMISSING_6: integer (nullable = true)\n",
      " |-- NOMISSING_7: integer (nullable = true)\n",
      " |-- NOMISSING_8: integer (nullable = true)\n",
      " |-- NOMISSING_9: integer (nullable = true)\n",
      " |-- NOMISSING_10: integer (nullable = true)\n",
      " |-- NOMISSING_11: integer (nullable = true)\n",
      " |-- NOMISSING_12: integer (nullable = true)\n",
      " |-- NOMISSING_13: integer (nullable = true)\n",
      " |-- NOMISSING_14: integer (nullable = true)\n",
      " |-- NOMISSING_15: integer (nullable = true)\n",
      " |-- NOMISSING_16: integer (nullable = true)\n",
      " |-- NOMISSING_17: integer (nullable = true)\n",
      " |-- NOMISSING_18: integer (nullable = true)\n",
      " |-- NOMISSING_19: integer (nullable = true)\n",
      " |-- NOMISSING_20: integer (nullable = true)\n",
      " |-- NOMISSING_21: integer (nullable = true)\n",
      " |-- NOMISSING_22: integer (nullable = true)\n",
      " |-- NOMISSING_23: integer (nullable = true)\n",
      " |-- NOMISSING_24: integer (nullable = true)\n",
      " |-- NOMISSING_25: integer (nullable = true)\n",
      " |-- NOMISSING_26: integer (nullable = true)\n",
      " |-- NOMISSING_27: integer (nullable = true)\n",
      " |-- NOMISSING_28: integer (nullable = true)\n",
      " |-- NOMISSING_29: integer (nullable = true)\n",
      " |-- NOMISSING_30: integer (nullable = true)\n",
      " |-- NOMISSING_31: integer (nullable = true)\n",
      " |-- NOMISSING_32: integer (nullable = true)\n",
      " |-- NOMISSING_33: integer (nullable = true)\n",
      " |-- NOMISSING_34: integer (nullable = true)\n",
      " |-- NOMISSING_35: integer (nullable = true)\n",
      " |-- NOMISSING_36: integer (nullable = true)\n",
      " |-- FREQ: integer (nullable = true)\n",
      "\n"
     ]
    }
   ],
   "source": [
    "df.printSchema()"
   ]
  },
  {
   "cell_type": "code",
   "execution_count": 40,
   "metadata": {},
   "outputs": [
    {
     "data": {
      "text/html": [
       "<div>\n",
       "<style scoped>\n",
       "    .dataframe tbody tr th:only-of-type {\n",
       "        vertical-align: middle;\n",
       "    }\n",
       "\n",
       "    .dataframe tbody tr th {\n",
       "        vertical-align: top;\n",
       "    }\n",
       "\n",
       "    .dataframe thead th {\n",
       "        text-align: right;\n",
       "    }\n",
       "</style>\n",
       "<table border=\"1\" class=\"dataframe\">\n",
       "  <thead>\n",
       "    <tr style=\"text-align: right;\">\n",
       "      <th></th>\n",
       "      <th>estado</th>\n",
       "      <th>FEC_RRENTRAD_CTO</th>\n",
       "      <th>XTI_SOLUCION</th>\n",
       "      <th>YINC</th>\n",
       "      <th>LGD_OBS_1</th>\n",
       "      <th>MARCA_MIT_CURVA_INF</th>\n",
       "      <th>LGDCI_1</th>\n",
       "      <th>LGDCI_2</th>\n",
       "      <th>LGDCI_3</th>\n",
       "      <th>LGDCI_4</th>\n",
       "      <th>...</th>\n",
       "      <th>NOMISSING_28</th>\n",
       "      <th>NOMISSING_29</th>\n",
       "      <th>NOMISSING_30</th>\n",
       "      <th>NOMISSING_31</th>\n",
       "      <th>NOMISSING_32</th>\n",
       "      <th>NOMISSING_33</th>\n",
       "      <th>NOMISSING_34</th>\n",
       "      <th>NOMISSING_35</th>\n",
       "      <th>NOMISSING_36</th>\n",
       "      <th>FREQ</th>\n",
       "    </tr>\n",
       "  </thead>\n",
       "  <tbody>\n",
       "    <tr>\n",
       "      <th>0</th>\n",
       "      <td>OBSERVADO</td>\n",
       "      <td>2012-10-24</td>\n",
       "      <td>CERRADO</td>\n",
       "      <td>2012</td>\n",
       "      <td>0.505290</td>\n",
       "      <td>None</td>\n",
       "      <td>-0.020440</td>\n",
       "      <td>-0.020440</td>\n",
       "      <td>-0.020440</td>\n",
       "      <td>-0.020440</td>\n",
       "      <td>...</td>\n",
       "      <td>20</td>\n",
       "      <td>20</td>\n",
       "      <td>20</td>\n",
       "      <td>19</td>\n",
       "      <td>19</td>\n",
       "      <td>19</td>\n",
       "      <td>19</td>\n",
       "      <td>18</td>\n",
       "      <td>17</td>\n",
       "      <td>231</td>\n",
       "    </tr>\n",
       "    <tr>\n",
       "      <th>1</th>\n",
       "      <td>OBSERVADO</td>\n",
       "      <td>2016-04-30</td>\n",
       "      <td>CERRADO</td>\n",
       "      <td>2016</td>\n",
       "      <td>0.436739</td>\n",
       "      <td>None</td>\n",
       "      <td>-0.026093</td>\n",
       "      <td>-0.026093</td>\n",
       "      <td>NaN</td>\n",
       "      <td>NaN</td>\n",
       "      <td>...</td>\n",
       "      <td>20</td>\n",
       "      <td>20</td>\n",
       "      <td>20</td>\n",
       "      <td>19</td>\n",
       "      <td>19</td>\n",
       "      <td>19</td>\n",
       "      <td>19</td>\n",
       "      <td>18</td>\n",
       "      <td>17</td>\n",
       "      <td>231</td>\n",
       "    </tr>\n",
       "    <tr>\n",
       "      <th>2</th>\n",
       "      <td>ABCAVE</td>\n",
       "      <td>2013-07-29</td>\n",
       "      <td>VENTA</td>\n",
       "      <td>2013</td>\n",
       "      <td>0.604233</td>\n",
       "      <td>None</td>\n",
       "      <td>0.890917</td>\n",
       "      <td>0.890917</td>\n",
       "      <td>0.890917</td>\n",
       "      <td>0.890917</td>\n",
       "      <td>...</td>\n",
       "      <td>307</td>\n",
       "      <td>298</td>\n",
       "      <td>268</td>\n",
       "      <td>266</td>\n",
       "      <td>265</td>\n",
       "      <td>264</td>\n",
       "      <td>259</td>\n",
       "      <td>254</td>\n",
       "      <td>254</td>\n",
       "      <td>333</td>\n",
       "    </tr>\n",
       "    <tr>\n",
       "      <th>3</th>\n",
       "      <td>ABCAVE</td>\n",
       "      <td>2013-07-29</td>\n",
       "      <td>VENTA</td>\n",
       "      <td>2013</td>\n",
       "      <td>0.604233</td>\n",
       "      <td>None</td>\n",
       "      <td>0.890917</td>\n",
       "      <td>0.890917</td>\n",
       "      <td>0.890917</td>\n",
       "      <td>0.890917</td>\n",
       "      <td>...</td>\n",
       "      <td>307</td>\n",
       "      <td>298</td>\n",
       "      <td>268</td>\n",
       "      <td>266</td>\n",
       "      <td>265</td>\n",
       "      <td>264</td>\n",
       "      <td>259</td>\n",
       "      <td>254</td>\n",
       "      <td>254</td>\n",
       "      <td>333</td>\n",
       "    </tr>\n",
       "    <tr>\n",
       "      <th>4</th>\n",
       "      <td>ABCAVE</td>\n",
       "      <td>2013-07-29</td>\n",
       "      <td>VENTA</td>\n",
       "      <td>2013</td>\n",
       "      <td>0.604233</td>\n",
       "      <td>None</td>\n",
       "      <td>0.890917</td>\n",
       "      <td>0.890917</td>\n",
       "      <td>0.890917</td>\n",
       "      <td>0.890917</td>\n",
       "      <td>...</td>\n",
       "      <td>307</td>\n",
       "      <td>298</td>\n",
       "      <td>268</td>\n",
       "      <td>266</td>\n",
       "      <td>265</td>\n",
       "      <td>264</td>\n",
       "      <td>259</td>\n",
       "      <td>254</td>\n",
       "      <td>254</td>\n",
       "      <td>333</td>\n",
       "    </tr>\n",
       "    <tr>\n",
       "      <th>5</th>\n",
       "      <td>ABCAVE</td>\n",
       "      <td>2013-07-29</td>\n",
       "      <td>VENTA</td>\n",
       "      <td>2013</td>\n",
       "      <td>0.604233</td>\n",
       "      <td>None</td>\n",
       "      <td>0.890917</td>\n",
       "      <td>0.890917</td>\n",
       "      <td>0.890917</td>\n",
       "      <td>0.890917</td>\n",
       "      <td>...</td>\n",
       "      <td>307</td>\n",
       "      <td>298</td>\n",
       "      <td>268</td>\n",
       "      <td>266</td>\n",
       "      <td>265</td>\n",
       "      <td>264</td>\n",
       "      <td>259</td>\n",
       "      <td>254</td>\n",
       "      <td>254</td>\n",
       "      <td>333</td>\n",
       "    </tr>\n",
       "    <tr>\n",
       "      <th>6</th>\n",
       "      <td>ABCAVE</td>\n",
       "      <td>2013-07-29</td>\n",
       "      <td>VENTA</td>\n",
       "      <td>2013</td>\n",
       "      <td>0.604233</td>\n",
       "      <td>None</td>\n",
       "      <td>0.890917</td>\n",
       "      <td>0.890917</td>\n",
       "      <td>0.890917</td>\n",
       "      <td>0.890917</td>\n",
       "      <td>...</td>\n",
       "      <td>307</td>\n",
       "      <td>298</td>\n",
       "      <td>268</td>\n",
       "      <td>266</td>\n",
       "      <td>265</td>\n",
       "      <td>264</td>\n",
       "      <td>259</td>\n",
       "      <td>254</td>\n",
       "      <td>254</td>\n",
       "      <td>333</td>\n",
       "    </tr>\n",
       "    <tr>\n",
       "      <th>7</th>\n",
       "      <td>ABCAVE</td>\n",
       "      <td>2013-07-29</td>\n",
       "      <td>VENTA</td>\n",
       "      <td>2013</td>\n",
       "      <td>0.604233</td>\n",
       "      <td>None</td>\n",
       "      <td>0.890917</td>\n",
       "      <td>0.890917</td>\n",
       "      <td>0.890917</td>\n",
       "      <td>0.890917</td>\n",
       "      <td>...</td>\n",
       "      <td>307</td>\n",
       "      <td>298</td>\n",
       "      <td>268</td>\n",
       "      <td>266</td>\n",
       "      <td>265</td>\n",
       "      <td>264</td>\n",
       "      <td>259</td>\n",
       "      <td>254</td>\n",
       "      <td>254</td>\n",
       "      <td>333</td>\n",
       "    </tr>\n",
       "    <tr>\n",
       "      <th>8</th>\n",
       "      <td>ABCAVE</td>\n",
       "      <td>2013-07-29</td>\n",
       "      <td>VENTA</td>\n",
       "      <td>2013</td>\n",
       "      <td>0.604233</td>\n",
       "      <td>None</td>\n",
       "      <td>0.890917</td>\n",
       "      <td>0.890917</td>\n",
       "      <td>0.890917</td>\n",
       "      <td>0.890917</td>\n",
       "      <td>...</td>\n",
       "      <td>307</td>\n",
       "      <td>298</td>\n",
       "      <td>268</td>\n",
       "      <td>266</td>\n",
       "      <td>265</td>\n",
       "      <td>264</td>\n",
       "      <td>259</td>\n",
       "      <td>254</td>\n",
       "      <td>254</td>\n",
       "      <td>333</td>\n",
       "    </tr>\n",
       "    <tr>\n",
       "      <th>9</th>\n",
       "      <td>OBSERVADO</td>\n",
       "      <td>2015-03-31</td>\n",
       "      <td>CERRADO</td>\n",
       "      <td>2015</td>\n",
       "      <td>0.462892</td>\n",
       "      <td>None</td>\n",
       "      <td>-0.027922</td>\n",
       "      <td>-0.027922</td>\n",
       "      <td>-0.027922</td>\n",
       "      <td>-0.027922</td>\n",
       "      <td>...</td>\n",
       "      <td>20</td>\n",
       "      <td>20</td>\n",
       "      <td>20</td>\n",
       "      <td>19</td>\n",
       "      <td>19</td>\n",
       "      <td>19</td>\n",
       "      <td>19</td>\n",
       "      <td>18</td>\n",
       "      <td>17</td>\n",
       "      <td>231</td>\n",
       "    </tr>\n",
       "  </tbody>\n",
       "</table>\n",
       "<p>10 rows × 187 columns</p>\n",
       "</div>"
      ],
      "text/plain": [
       "      estado FEC_RRENTRAD_CTO XTI_SOLUCION  YINC  LGD_OBS_1  \\\n",
       "0  OBSERVADO       2012-10-24      CERRADO  2012   0.505290   \n",
       "1  OBSERVADO       2016-04-30      CERRADO  2016   0.436739   \n",
       "2     ABCAVE       2013-07-29        VENTA  2013   0.604233   \n",
       "3     ABCAVE       2013-07-29        VENTA  2013   0.604233   \n",
       "4     ABCAVE       2013-07-29        VENTA  2013   0.604233   \n",
       "5     ABCAVE       2013-07-29        VENTA  2013   0.604233   \n",
       "6     ABCAVE       2013-07-29        VENTA  2013   0.604233   \n",
       "7     ABCAVE       2013-07-29        VENTA  2013   0.604233   \n",
       "8     ABCAVE       2013-07-29        VENTA  2013   0.604233   \n",
       "9  OBSERVADO       2015-03-31      CERRADO  2015   0.462892   \n",
       "\n",
       "  MARCA_MIT_CURVA_INF   LGDCI_1   LGDCI_2   LGDCI_3   LGDCI_4  ...   \\\n",
       "0                None -0.020440 -0.020440 -0.020440 -0.020440  ...    \n",
       "1                None -0.026093 -0.026093       NaN       NaN  ...    \n",
       "2                None  0.890917  0.890917  0.890917  0.890917  ...    \n",
       "3                None  0.890917  0.890917  0.890917  0.890917  ...    \n",
       "4                None  0.890917  0.890917  0.890917  0.890917  ...    \n",
       "5                None  0.890917  0.890917  0.890917  0.890917  ...    \n",
       "6                None  0.890917  0.890917  0.890917  0.890917  ...    \n",
       "7                None  0.890917  0.890917  0.890917  0.890917  ...    \n",
       "8                None  0.890917  0.890917  0.890917  0.890917  ...    \n",
       "9                None -0.027922 -0.027922 -0.027922 -0.027922  ...    \n",
       "\n",
       "   NOMISSING_28  NOMISSING_29  NOMISSING_30  NOMISSING_31  NOMISSING_32  \\\n",
       "0            20            20            20            19            19   \n",
       "1            20            20            20            19            19   \n",
       "2           307           298           268           266           265   \n",
       "3           307           298           268           266           265   \n",
       "4           307           298           268           266           265   \n",
       "5           307           298           268           266           265   \n",
       "6           307           298           268           266           265   \n",
       "7           307           298           268           266           265   \n",
       "8           307           298           268           266           265   \n",
       "9            20            20            20            19            19   \n",
       "\n",
       "   NOMISSING_33  NOMISSING_34  NOMISSING_35  NOMISSING_36  FREQ  \n",
       "0            19            19            18            17   231  \n",
       "1            19            19            18            17   231  \n",
       "2           264           259           254           254   333  \n",
       "3           264           259           254           254   333  \n",
       "4           264           259           254           254   333  \n",
       "5           264           259           254           254   333  \n",
       "6           264           259           254           254   333  \n",
       "7           264           259           254           254   333  \n",
       "8           264           259           254           254   333  \n",
       "9            19            19            18            17   231  \n",
       "\n",
       "[10 rows x 187 columns]"
      ]
     },
     "execution_count": 40,
     "metadata": {},
     "output_type": "execute_result"
    }
   ],
   "source": [
    "df.limit(10).toPandas()"
   ]
  },
  {
   "cell_type": "code",
   "execution_count": 41,
   "metadata": {},
   "outputs": [
    {
     "name": "stdout",
     "output_type": "stream",
     "text": [
      "Filas: 610\tColumnas: 187\n"
     ]
    }
   ],
   "source": [
    "print(\"Filas: {0:,}\\tColumnas: {1:,}\".format(df.count(), len(df.columns)))"
   ]
  },
  {
   "cell_type": "code",
   "execution_count": 42,
   "metadata": {},
   "outputs": [
    {
     "name": "stdout",
     "output_type": "stream",
     "text": [
      "+-------+------+------------------+-------------------+-------------------+-----------------+\n",
      "|summary|estado|           LGDCI_1|            LGDCI_2|            LGDCI_3|      NOMISSING_1|\n",
      "+-------+------+------------------+-------------------+-------------------+-----------------+\n",
      "|  count|   610|               610|                596|                581|              610|\n",
      "|   mean|  null|0.4430530852459018|0.46528672651006725| 0.4629620240963857|272.7311475409836|\n",
      "| stddev|  null|0.5011260894417999| 0.3688855521174224|0.36397779629587207|80.80642307499596|\n",
      "|    min|ABCAVE|           -7.8573|          -0.316506|          -0.316506|               46|\n",
      "|    max| QUITA|               1.0|                1.0|                1.0|              333|\n",
      "+-------+------+------------------+-------------------+-------------------+-----------------+\n",
      "\n"
     ]
    }
   ],
   "source": [
    "df.select(\"estado\",\"LGDCI_1\",\"LGDCI_2\",\"LGDCI_3\",\"NOMISSING_1\").describe().show()"
   ]
  },
  {
   "cell_type": "code",
   "execution_count": 43,
   "metadata": {},
   "outputs": [],
   "source": [
    "import pyspark.sql.functions as F"
   ]
  },
  {
   "cell_type": "code",
   "execution_count": 44,
   "metadata": {},
   "outputs": [
    {
     "name": "stdout",
     "output_type": "stream",
     "text": [
      "+------+-------+-------+-------+-----------+\n",
      "|estado|LGDCI_1|LGDCI_2|LGDCI_3|NOMISSING_1|\n",
      "+------+-------+-------+-------+-----------+\n",
      "|     0|      0|     14|     29|          0|\n",
      "+------+-------+-------+-------+-----------+\n",
      "\n"
     ]
    }
   ],
   "source": [
    "listaColumnas = [\"estado\",\"LGDCI_1\",\"LGDCI_2\",\"LGDCI_3\",\"NOMISSING_1\"]\n",
    "df.select([F.count(F.when(F.col(c).isNull(), c)).alias(c) for c in listaColumnas]).show()"
   ]
  },
  {
   "cell_type": "markdown",
   "metadata": {},
   "source": [
    "Another example with **filter**."
   ]
  },
  {
   "cell_type": "code",
   "execution_count": 45,
   "metadata": {},
   "outputs": [
    {
     "data": {
      "text/html": [
       "<div>\n",
       "<style scoped>\n",
       "    .dataframe tbody tr th:only-of-type {\n",
       "        vertical-align: middle;\n",
       "    }\n",
       "\n",
       "    .dataframe tbody tr th {\n",
       "        vertical-align: top;\n",
       "    }\n",
       "\n",
       "    .dataframe thead th {\n",
       "        text-align: right;\n",
       "    }\n",
       "</style>\n",
       "<table border=\"1\" class=\"dataframe\">\n",
       "  <thead>\n",
       "    <tr style=\"text-align: right;\">\n",
       "      <th></th>\n",
       "      <th>estado</th>\n",
       "      <th>FEC_RRENTRAD_CTO</th>\n",
       "      <th>XTI_SOLUCION</th>\n",
       "      <th>YINC</th>\n",
       "      <th>NOMISSING_1</th>\n",
       "    </tr>\n",
       "  </thead>\n",
       "  <tbody>\n",
       "    <tr>\n",
       "      <th>0</th>\n",
       "      <td>QUITA</td>\n",
       "      <td>2016-01-22</td>\n",
       "      <td>QUITA</td>\n",
       "      <td>2016</td>\n",
       "      <td>46</td>\n",
       "    </tr>\n",
       "    <tr>\n",
       "      <th>1</th>\n",
       "      <td>QUITA</td>\n",
       "      <td>2010-04-16</td>\n",
       "      <td>QUITA</td>\n",
       "      <td>2010</td>\n",
       "      <td>46</td>\n",
       "    </tr>\n",
       "    <tr>\n",
       "      <th>2</th>\n",
       "      <td>QUITA</td>\n",
       "      <td>2015-01-05</td>\n",
       "      <td>QUITA</td>\n",
       "      <td>2015</td>\n",
       "      <td>46</td>\n",
       "    </tr>\n",
       "    <tr>\n",
       "      <th>3</th>\n",
       "      <td>QUITA</td>\n",
       "      <td>2014-12-19</td>\n",
       "      <td>QUITA</td>\n",
       "      <td>2014</td>\n",
       "      <td>46</td>\n",
       "    </tr>\n",
       "    <tr>\n",
       "      <th>4</th>\n",
       "      <td>QUITA</td>\n",
       "      <td>2014-12-22</td>\n",
       "      <td>QUITA</td>\n",
       "      <td>2014</td>\n",
       "      <td>46</td>\n",
       "    </tr>\n",
       "  </tbody>\n",
       "</table>\n",
       "</div>"
      ],
      "text/plain": [
       "  estado FEC_RRENTRAD_CTO XTI_SOLUCION  YINC  NOMISSING_1\n",
       "0  QUITA       2016-01-22        QUITA  2016           46\n",
       "1  QUITA       2010-04-16        QUITA  2010           46\n",
       "2  QUITA       2015-01-05        QUITA  2015           46\n",
       "3  QUITA       2014-12-19        QUITA  2014           46\n",
       "4  QUITA       2014-12-22        QUITA  2014           46"
      ]
     },
     "execution_count": 45,
     "metadata": {},
     "output_type": "execute_result"
    }
   ],
   "source": [
    "df.filter(df.NOMISSING_1 < 100).select(\"estado\",\"FEC_RRENTRAD_CTO\",\"XTI_SOLUCION\",\"YINC\",\"NOMISSING_1\") \\\n",
    "    .limit(5).toPandas()"
   ]
  },
  {
   "cell_type": "code",
   "execution_count": 46,
   "metadata": {},
   "outputs": [
    {
     "data": {
      "text/html": [
       "<div>\n",
       "<style scoped>\n",
       "    .dataframe tbody tr th:only-of-type {\n",
       "        vertical-align: middle;\n",
       "    }\n",
       "\n",
       "    .dataframe tbody tr th {\n",
       "        vertical-align: top;\n",
       "    }\n",
       "\n",
       "    .dataframe thead th {\n",
       "        text-align: right;\n",
       "    }\n",
       "</style>\n",
       "<table border=\"1\" class=\"dataframe\">\n",
       "  <thead>\n",
       "    <tr style=\"text-align: right;\">\n",
       "      <th></th>\n",
       "      <th>estado</th>\n",
       "      <th>FEC_RRENTRAD_CTO</th>\n",
       "      <th>XTI_SOLUCION</th>\n",
       "      <th>YINC</th>\n",
       "      <th>NOMISSING_1</th>\n",
       "    </tr>\n",
       "  </thead>\n",
       "  <tbody>\n",
       "    <tr>\n",
       "      <th>0</th>\n",
       "      <td>ABCAVE</td>\n",
       "      <td>2013-07-29</td>\n",
       "      <td>VENTA</td>\n",
       "      <td>2013</td>\n",
       "      <td>333</td>\n",
       "    </tr>\n",
       "    <tr>\n",
       "      <th>1</th>\n",
       "      <td>ABCAVE</td>\n",
       "      <td>2013-07-29</td>\n",
       "      <td>VENTA</td>\n",
       "      <td>2013</td>\n",
       "      <td>333</td>\n",
       "    </tr>\n",
       "    <tr>\n",
       "      <th>2</th>\n",
       "      <td>ABCAVE</td>\n",
       "      <td>2013-07-29</td>\n",
       "      <td>VENTA</td>\n",
       "      <td>2013</td>\n",
       "      <td>333</td>\n",
       "    </tr>\n",
       "    <tr>\n",
       "      <th>3</th>\n",
       "      <td>ABCAVE</td>\n",
       "      <td>2013-07-29</td>\n",
       "      <td>VENTA</td>\n",
       "      <td>2013</td>\n",
       "      <td>333</td>\n",
       "    </tr>\n",
       "    <tr>\n",
       "      <th>4</th>\n",
       "      <td>ABCAVE</td>\n",
       "      <td>2013-07-29</td>\n",
       "      <td>VENTA</td>\n",
       "      <td>2013</td>\n",
       "      <td>333</td>\n",
       "    </tr>\n",
       "  </tbody>\n",
       "</table>\n",
       "</div>"
      ],
      "text/plain": [
       "   estado FEC_RRENTRAD_CTO XTI_SOLUCION  YINC  NOMISSING_1\n",
       "0  ABCAVE       2013-07-29        VENTA  2013          333\n",
       "1  ABCAVE       2013-07-29        VENTA  2013          333\n",
       "2  ABCAVE       2013-07-29        VENTA  2013          333\n",
       "3  ABCAVE       2013-07-29        VENTA  2013          333\n",
       "4  ABCAVE       2013-07-29        VENTA  2013          333"
      ]
     },
     "execution_count": 46,
     "metadata": {},
     "output_type": "execute_result"
    }
   ],
   "source": [
    "df.filter(df.NOMISSING_1 > 300).select(\"estado\",\"FEC_RRENTRAD_CTO\",\"XTI_SOLUCION\",\"YINC\",\"NOMISSING_1\").limit(5).toPandas()"
   ]
  },
  {
   "cell_type": "code",
   "execution_count": 47,
   "metadata": {},
   "outputs": [
    {
     "data": {
      "text/html": [
       "<div>\n",
       "<style scoped>\n",
       "    .dataframe tbody tr th:only-of-type {\n",
       "        vertical-align: middle;\n",
       "    }\n",
       "\n",
       "    .dataframe tbody tr th {\n",
       "        vertical-align: top;\n",
       "    }\n",
       "\n",
       "    .dataframe thead th {\n",
       "        text-align: right;\n",
       "    }\n",
       "</style>\n",
       "<table border=\"1\" class=\"dataframe\">\n",
       "  <thead>\n",
       "    <tr style=\"text-align: right;\">\n",
       "      <th></th>\n",
       "      <th>estado</th>\n",
       "      <th>FEC_RRENTRAD_CTO</th>\n",
       "      <th>XTI_SOLUCION</th>\n",
       "      <th>YINC</th>\n",
       "      <th>NOMISSING_1</th>\n",
       "    </tr>\n",
       "  </thead>\n",
       "  <tbody>\n",
       "    <tr>\n",
       "      <th>0</th>\n",
       "      <td>ABCAVE</td>\n",
       "      <td>2013-07-29</td>\n",
       "      <td>VENTA</td>\n",
       "      <td>2013</td>\n",
       "      <td>333</td>\n",
       "    </tr>\n",
       "    <tr>\n",
       "      <th>1</th>\n",
       "      <td>ABCAVE</td>\n",
       "      <td>2013-07-29</td>\n",
       "      <td>VENTA</td>\n",
       "      <td>2013</td>\n",
       "      <td>333</td>\n",
       "    </tr>\n",
       "    <tr>\n",
       "      <th>2</th>\n",
       "      <td>ABCAVE</td>\n",
       "      <td>2013-07-29</td>\n",
       "      <td>VENTA</td>\n",
       "      <td>2013</td>\n",
       "      <td>333</td>\n",
       "    </tr>\n",
       "    <tr>\n",
       "      <th>3</th>\n",
       "      <td>ABCAVE</td>\n",
       "      <td>2013-07-29</td>\n",
       "      <td>VENTA</td>\n",
       "      <td>2013</td>\n",
       "      <td>333</td>\n",
       "    </tr>\n",
       "    <tr>\n",
       "      <th>4</th>\n",
       "      <td>ABCAVE</td>\n",
       "      <td>2013-07-29</td>\n",
       "      <td>VENTA</td>\n",
       "      <td>2013</td>\n",
       "      <td>333</td>\n",
       "    </tr>\n",
       "  </tbody>\n",
       "</table>\n",
       "</div>"
      ],
      "text/plain": [
       "   estado FEC_RRENTRAD_CTO XTI_SOLUCION  YINC  NOMISSING_1\n",
       "0  ABCAVE       2013-07-29        VENTA  2013          333\n",
       "1  ABCAVE       2013-07-29        VENTA  2013          333\n",
       "2  ABCAVE       2013-07-29        VENTA  2013          333\n",
       "3  ABCAVE       2013-07-29        VENTA  2013          333\n",
       "4  ABCAVE       2013-07-29        VENTA  2013          333"
      ]
     },
     "execution_count": 47,
     "metadata": {},
     "output_type": "execute_result"
    }
   ],
   "source": [
    "#Another way to do it\n",
    "df.filter(\"NOMISSING_1 > 300\").select(\"estado\",\"FEC_RRENTRAD_CTO\",\"XTI_SOLUCION\",\"YINC\",\"NOMISSING_1\").limit(5).toPandas()"
   ]
  },
  {
   "cell_type": "code",
   "execution_count": 48,
   "metadata": {},
   "outputs": [
    {
     "data": {
      "text/html": [
       "<div>\n",
       "<style scoped>\n",
       "    .dataframe tbody tr th:only-of-type {\n",
       "        vertical-align: middle;\n",
       "    }\n",
       "\n",
       "    .dataframe tbody tr th {\n",
       "        vertical-align: top;\n",
       "    }\n",
       "\n",
       "    .dataframe thead th {\n",
       "        text-align: right;\n",
       "    }\n",
       "</style>\n",
       "<table border=\"1\" class=\"dataframe\">\n",
       "  <thead>\n",
       "    <tr style=\"text-align: right;\">\n",
       "      <th></th>\n",
       "      <th>estado</th>\n",
       "      <th>FEC_RRENTRAD_CTO</th>\n",
       "      <th>XTI_SOLUCION</th>\n",
       "      <th>YINC</th>\n",
       "      <th>NOMISSING_1</th>\n",
       "    </tr>\n",
       "  </thead>\n",
       "  <tbody>\n",
       "    <tr>\n",
       "      <th>0</th>\n",
       "      <td>ABCAVE</td>\n",
       "      <td>2013-07-29</td>\n",
       "      <td>VENTA</td>\n",
       "      <td>2013</td>\n",
       "      <td>333</td>\n",
       "    </tr>\n",
       "    <tr>\n",
       "      <th>1</th>\n",
       "      <td>ABCAVE</td>\n",
       "      <td>2013-07-29</td>\n",
       "      <td>VENTA</td>\n",
       "      <td>2013</td>\n",
       "      <td>333</td>\n",
       "    </tr>\n",
       "    <tr>\n",
       "      <th>2</th>\n",
       "      <td>ABCAVE</td>\n",
       "      <td>2013-07-29</td>\n",
       "      <td>VENTA</td>\n",
       "      <td>2013</td>\n",
       "      <td>333</td>\n",
       "    </tr>\n",
       "    <tr>\n",
       "      <th>3</th>\n",
       "      <td>ABCAVE</td>\n",
       "      <td>2013-07-29</td>\n",
       "      <td>VENTA</td>\n",
       "      <td>2013</td>\n",
       "      <td>333</td>\n",
       "    </tr>\n",
       "    <tr>\n",
       "      <th>4</th>\n",
       "      <td>ABCAVE</td>\n",
       "      <td>2013-07-29</td>\n",
       "      <td>VENTA</td>\n",
       "      <td>2013</td>\n",
       "      <td>333</td>\n",
       "    </tr>\n",
       "  </tbody>\n",
       "</table>\n",
       "</div>"
      ],
      "text/plain": [
       "   estado FEC_RRENTRAD_CTO XTI_SOLUCION  YINC  NOMISSING_1\n",
       "0  ABCAVE       2013-07-29        VENTA  2013          333\n",
       "1  ABCAVE       2013-07-29        VENTA  2013          333\n",
       "2  ABCAVE       2013-07-29        VENTA  2013          333\n",
       "3  ABCAVE       2013-07-29        VENTA  2013          333\n",
       "4  ABCAVE       2013-07-29        VENTA  2013          333"
      ]
     },
     "execution_count": 48,
     "metadata": {},
     "output_type": "execute_result"
    }
   ],
   "source": [
    "#Another way to do it\n",
    "df.filter(F.col(\"NOMISSING_1\") > 300).select(\"estado\",\"FEC_RRENTRAD_CTO\",\"XTI_SOLUCION\",\"YINC\",\"NOMISSING_1\").limit(5).toPandas()"
   ]
  },
  {
   "cell_type": "markdown",
   "metadata": {},
   "source": [
    "If we don't use **select**, this code shows all columns:"
   ]
  },
  {
   "cell_type": "code",
   "execution_count": 49,
   "metadata": {
    "scrolled": true
   },
   "outputs": [
    {
     "data": {
      "text/html": [
       "<div>\n",
       "<style scoped>\n",
       "    .dataframe tbody tr th:only-of-type {\n",
       "        vertical-align: middle;\n",
       "    }\n",
       "\n",
       "    .dataframe tbody tr th {\n",
       "        vertical-align: top;\n",
       "    }\n",
       "\n",
       "    .dataframe thead th {\n",
       "        text-align: right;\n",
       "    }\n",
       "</style>\n",
       "<table border=\"1\" class=\"dataframe\">\n",
       "  <thead>\n",
       "    <tr style=\"text-align: right;\">\n",
       "      <th></th>\n",
       "      <th>estado</th>\n",
       "      <th>FEC_RRENTRAD_CTO</th>\n",
       "      <th>XTI_SOLUCION</th>\n",
       "      <th>YINC</th>\n",
       "      <th>LGD_OBS_1</th>\n",
       "      <th>MARCA_MIT_CURVA_INF</th>\n",
       "      <th>LGDCI_1</th>\n",
       "      <th>LGDCI_2</th>\n",
       "      <th>LGDCI_3</th>\n",
       "      <th>LGDCI_4</th>\n",
       "      <th>...</th>\n",
       "      <th>NOMISSING_28</th>\n",
       "      <th>NOMISSING_29</th>\n",
       "      <th>NOMISSING_30</th>\n",
       "      <th>NOMISSING_31</th>\n",
       "      <th>NOMISSING_32</th>\n",
       "      <th>NOMISSING_33</th>\n",
       "      <th>NOMISSING_34</th>\n",
       "      <th>NOMISSING_35</th>\n",
       "      <th>NOMISSING_36</th>\n",
       "      <th>FREQ</th>\n",
       "    </tr>\n",
       "  </thead>\n",
       "  <tbody>\n",
       "    <tr>\n",
       "      <th>0</th>\n",
       "      <td>ABCAVE</td>\n",
       "      <td>2013-07-29</td>\n",
       "      <td>VENTA</td>\n",
       "      <td>2013</td>\n",
       "      <td>0.604233</td>\n",
       "      <td>None</td>\n",
       "      <td>0.890917</td>\n",
       "      <td>0.890917</td>\n",
       "      <td>0.890917</td>\n",
       "      <td>0.890917</td>\n",
       "      <td>...</td>\n",
       "      <td>307</td>\n",
       "      <td>298</td>\n",
       "      <td>268</td>\n",
       "      <td>266</td>\n",
       "      <td>265</td>\n",
       "      <td>264</td>\n",
       "      <td>259</td>\n",
       "      <td>254</td>\n",
       "      <td>254</td>\n",
       "      <td>333</td>\n",
       "    </tr>\n",
       "    <tr>\n",
       "      <th>1</th>\n",
       "      <td>ABCAVE</td>\n",
       "      <td>2013-07-29</td>\n",
       "      <td>VENTA</td>\n",
       "      <td>2013</td>\n",
       "      <td>0.604233</td>\n",
       "      <td>None</td>\n",
       "      <td>0.890917</td>\n",
       "      <td>0.890917</td>\n",
       "      <td>0.890917</td>\n",
       "      <td>0.890917</td>\n",
       "      <td>...</td>\n",
       "      <td>307</td>\n",
       "      <td>298</td>\n",
       "      <td>268</td>\n",
       "      <td>266</td>\n",
       "      <td>265</td>\n",
       "      <td>264</td>\n",
       "      <td>259</td>\n",
       "      <td>254</td>\n",
       "      <td>254</td>\n",
       "      <td>333</td>\n",
       "    </tr>\n",
       "    <tr>\n",
       "      <th>2</th>\n",
       "      <td>ABCAVE</td>\n",
       "      <td>2013-07-29</td>\n",
       "      <td>VENTA</td>\n",
       "      <td>2013</td>\n",
       "      <td>0.604233</td>\n",
       "      <td>None</td>\n",
       "      <td>0.890917</td>\n",
       "      <td>0.890917</td>\n",
       "      <td>0.890917</td>\n",
       "      <td>0.890917</td>\n",
       "      <td>...</td>\n",
       "      <td>307</td>\n",
       "      <td>298</td>\n",
       "      <td>268</td>\n",
       "      <td>266</td>\n",
       "      <td>265</td>\n",
       "      <td>264</td>\n",
       "      <td>259</td>\n",
       "      <td>254</td>\n",
       "      <td>254</td>\n",
       "      <td>333</td>\n",
       "    </tr>\n",
       "    <tr>\n",
       "      <th>3</th>\n",
       "      <td>ABCAVE</td>\n",
       "      <td>2013-07-29</td>\n",
       "      <td>VENTA</td>\n",
       "      <td>2013</td>\n",
       "      <td>0.604233</td>\n",
       "      <td>None</td>\n",
       "      <td>0.890917</td>\n",
       "      <td>0.890917</td>\n",
       "      <td>0.890917</td>\n",
       "      <td>0.890917</td>\n",
       "      <td>...</td>\n",
       "      <td>307</td>\n",
       "      <td>298</td>\n",
       "      <td>268</td>\n",
       "      <td>266</td>\n",
       "      <td>265</td>\n",
       "      <td>264</td>\n",
       "      <td>259</td>\n",
       "      <td>254</td>\n",
       "      <td>254</td>\n",
       "      <td>333</td>\n",
       "    </tr>\n",
       "    <tr>\n",
       "      <th>4</th>\n",
       "      <td>ABCAVE</td>\n",
       "      <td>2013-07-29</td>\n",
       "      <td>VENTA</td>\n",
       "      <td>2013</td>\n",
       "      <td>0.604233</td>\n",
       "      <td>None</td>\n",
       "      <td>0.890917</td>\n",
       "      <td>0.890917</td>\n",
       "      <td>0.890917</td>\n",
       "      <td>0.890917</td>\n",
       "      <td>...</td>\n",
       "      <td>307</td>\n",
       "      <td>298</td>\n",
       "      <td>268</td>\n",
       "      <td>266</td>\n",
       "      <td>265</td>\n",
       "      <td>264</td>\n",
       "      <td>259</td>\n",
       "      <td>254</td>\n",
       "      <td>254</td>\n",
       "      <td>333</td>\n",
       "    </tr>\n",
       "  </tbody>\n",
       "</table>\n",
       "<p>5 rows × 187 columns</p>\n",
       "</div>"
      ],
      "text/plain": [
       "   estado FEC_RRENTRAD_CTO XTI_SOLUCION  YINC  LGD_OBS_1 MARCA_MIT_CURVA_INF  \\\n",
       "0  ABCAVE       2013-07-29        VENTA  2013   0.604233                None   \n",
       "1  ABCAVE       2013-07-29        VENTA  2013   0.604233                None   \n",
       "2  ABCAVE       2013-07-29        VENTA  2013   0.604233                None   \n",
       "3  ABCAVE       2013-07-29        VENTA  2013   0.604233                None   \n",
       "4  ABCAVE       2013-07-29        VENTA  2013   0.604233                None   \n",
       "\n",
       "    LGDCI_1   LGDCI_2   LGDCI_3   LGDCI_4  ...   NOMISSING_28  NOMISSING_29  \\\n",
       "0  0.890917  0.890917  0.890917  0.890917  ...            307           298   \n",
       "1  0.890917  0.890917  0.890917  0.890917  ...            307           298   \n",
       "2  0.890917  0.890917  0.890917  0.890917  ...            307           298   \n",
       "3  0.890917  0.890917  0.890917  0.890917  ...            307           298   \n",
       "4  0.890917  0.890917  0.890917  0.890917  ...            307           298   \n",
       "\n",
       "   NOMISSING_30  NOMISSING_31  NOMISSING_32  NOMISSING_33  NOMISSING_34  \\\n",
       "0           268           266           265           264           259   \n",
       "1           268           266           265           264           259   \n",
       "2           268           266           265           264           259   \n",
       "3           268           266           265           264           259   \n",
       "4           268           266           265           264           259   \n",
       "\n",
       "   NOMISSING_35  NOMISSING_36  FREQ  \n",
       "0           254           254   333  \n",
       "1           254           254   333  \n",
       "2           254           254   333  \n",
       "3           254           254   333  \n",
       "4           254           254   333  \n",
       "\n",
       "[5 rows x 187 columns]"
      ]
     },
     "execution_count": 49,
     "metadata": {},
     "output_type": "execute_result"
    }
   ],
   "source": [
    "df.filter(\"NOMISSING_1 > 300\").limit(5).toPandas()"
   ]
  },
  {
   "cell_type": "markdown",
   "metadata": {},
   "source": [
    "Ok, so, What do the next spark commands do with our original DF?"
   ]
  },
  {
   "cell_type": "code",
   "execution_count": 50,
   "metadata": {},
   "outputs": [
    {
     "data": {
      "text/html": [
       "<div>\n",
       "<style scoped>\n",
       "    .dataframe tbody tr th:only-of-type {\n",
       "        vertical-align: middle;\n",
       "    }\n",
       "\n",
       "    .dataframe tbody tr th {\n",
       "        vertical-align: top;\n",
       "    }\n",
       "\n",
       "    .dataframe thead th {\n",
       "        text-align: right;\n",
       "    }\n",
       "</style>\n",
       "<table border=\"1\" class=\"dataframe\">\n",
       "  <thead>\n",
       "    <tr style=\"text-align: right;\">\n",
       "      <th></th>\n",
       "      <th>estado</th>\n",
       "      <th>FEC_RRENTRAD_CTO</th>\n",
       "      <th>XTI_SOLUCION</th>\n",
       "      <th>YINC</th>\n",
       "      <th>NOMISSING_1</th>\n",
       "    </tr>\n",
       "  </thead>\n",
       "  <tbody>\n",
       "    <tr>\n",
       "      <th>0</th>\n",
       "      <td>ABCAVE</td>\n",
       "      <td>2012-09-23</td>\n",
       "      <td>CASTIGO</td>\n",
       "      <td>2012</td>\n",
       "      <td>333</td>\n",
       "    </tr>\n",
       "    <tr>\n",
       "      <th>1</th>\n",
       "      <td>ABCAVE</td>\n",
       "      <td>2012-09-23</td>\n",
       "      <td>CASTIGO</td>\n",
       "      <td>2012</td>\n",
       "      <td>333</td>\n",
       "    </tr>\n",
       "    <tr>\n",
       "      <th>2</th>\n",
       "      <td>ABCAVE</td>\n",
       "      <td>2012-09-23</td>\n",
       "      <td>CASTIGO</td>\n",
       "      <td>2012</td>\n",
       "      <td>333</td>\n",
       "    </tr>\n",
       "    <tr>\n",
       "      <th>3</th>\n",
       "      <td>ABCAVE</td>\n",
       "      <td>2012-09-23</td>\n",
       "      <td>CASTIGO</td>\n",
       "      <td>2012</td>\n",
       "      <td>333</td>\n",
       "    </tr>\n",
       "    <tr>\n",
       "      <th>4</th>\n",
       "      <td>ABCAVE</td>\n",
       "      <td>2012-09-23</td>\n",
       "      <td>CASTIGO</td>\n",
       "      <td>2012</td>\n",
       "      <td>333</td>\n",
       "    </tr>\n",
       "  </tbody>\n",
       "</table>\n",
       "</div>"
      ],
      "text/plain": [
       "   estado FEC_RRENTRAD_CTO XTI_SOLUCION  YINC  NOMISSING_1\n",
       "0  ABCAVE       2012-09-23      CASTIGO  2012          333\n",
       "1  ABCAVE       2012-09-23      CASTIGO  2012          333\n",
       "2  ABCAVE       2012-09-23      CASTIGO  2012          333\n",
       "3  ABCAVE       2012-09-23      CASTIGO  2012          333\n",
       "4  ABCAVE       2012-09-23      CASTIGO  2012          333"
      ]
     },
     "execution_count": 50,
     "metadata": {},
     "output_type": "execute_result"
    }
   ],
   "source": [
    "df.filter((df['NOMISSING_1'] > 300) & (df['YINC'] == 2012)).select(\"estado\",\"FEC_RRENTRAD_CTO\",\"XTI_SOLUCION\",\"YINC\",\"NOMISSING_1\") \\\n",
    "    .limit(5).toPandas()"
   ]
  },
  {
   "cell_type": "code",
   "execution_count": 51,
   "metadata": {},
   "outputs": [
    {
     "data": {
      "text/html": [
       "<div>\n",
       "<style scoped>\n",
       "    .dataframe tbody tr th:only-of-type {\n",
       "        vertical-align: middle;\n",
       "    }\n",
       "\n",
       "    .dataframe tbody tr th {\n",
       "        vertical-align: top;\n",
       "    }\n",
       "\n",
       "    .dataframe thead th {\n",
       "        text-align: right;\n",
       "    }\n",
       "</style>\n",
       "<table border=\"1\" class=\"dataframe\">\n",
       "  <thead>\n",
       "    <tr style=\"text-align: right;\">\n",
       "      <th></th>\n",
       "      <th>estado</th>\n",
       "      <th>FEC_RRENTRAD_CTO</th>\n",
       "      <th>XTI_SOLUCION</th>\n",
       "      <th>YINC</th>\n",
       "      <th>NOMISSING_1</th>\n",
       "    </tr>\n",
       "  </thead>\n",
       "  <tbody>\n",
       "    <tr>\n",
       "      <th>0</th>\n",
       "      <td>ABCAVE</td>\n",
       "      <td>2013-07-29</td>\n",
       "      <td>VENTA</td>\n",
       "      <td>2013</td>\n",
       "      <td>333</td>\n",
       "    </tr>\n",
       "    <tr>\n",
       "      <th>1</th>\n",
       "      <td>ABCAVE</td>\n",
       "      <td>2013-07-29</td>\n",
       "      <td>VENTA</td>\n",
       "      <td>2013</td>\n",
       "      <td>333</td>\n",
       "    </tr>\n",
       "    <tr>\n",
       "      <th>2</th>\n",
       "      <td>ABCAVE</td>\n",
       "      <td>2013-07-29</td>\n",
       "      <td>VENTA</td>\n",
       "      <td>2013</td>\n",
       "      <td>333</td>\n",
       "    </tr>\n",
       "    <tr>\n",
       "      <th>3</th>\n",
       "      <td>ABCAVE</td>\n",
       "      <td>2013-07-29</td>\n",
       "      <td>VENTA</td>\n",
       "      <td>2013</td>\n",
       "      <td>333</td>\n",
       "    </tr>\n",
       "    <tr>\n",
       "      <th>4</th>\n",
       "      <td>ABCAVE</td>\n",
       "      <td>2013-07-29</td>\n",
       "      <td>VENTA</td>\n",
       "      <td>2013</td>\n",
       "      <td>333</td>\n",
       "    </tr>\n",
       "  </tbody>\n",
       "</table>\n",
       "</div>"
      ],
      "text/plain": [
       "   estado FEC_RRENTRAD_CTO XTI_SOLUCION  YINC  NOMISSING_1\n",
       "0  ABCAVE       2013-07-29        VENTA  2013          333\n",
       "1  ABCAVE       2013-07-29        VENTA  2013          333\n",
       "2  ABCAVE       2013-07-29        VENTA  2013          333\n",
       "3  ABCAVE       2013-07-29        VENTA  2013          333\n",
       "4  ABCAVE       2013-07-29        VENTA  2013          333"
      ]
     },
     "execution_count": 51,
     "metadata": {},
     "output_type": "execute_result"
    }
   ],
   "source": [
    "df.filter((df['NOMISSING_1'] > 300) & ~(df['YINC'] == 2012)).select(\"estado\",\"FEC_RRENTRAD_CTO\",\"XTI_SOLUCION\",\"YINC\",\"NOMISSING_1\") \\\n",
    "    .limit(5).toPandas()\n",
    "# Character \"~\" means denied"
   ]
  },
  {
   "cell_type": "code",
   "execution_count": 52,
   "metadata": {},
   "outputs": [
    {
     "data": {
      "text/html": [
       "<div>\n",
       "<style scoped>\n",
       "    .dataframe tbody tr th:only-of-type {\n",
       "        vertical-align: middle;\n",
       "    }\n",
       "\n",
       "    .dataframe tbody tr th {\n",
       "        vertical-align: top;\n",
       "    }\n",
       "\n",
       "    .dataframe thead th {\n",
       "        text-align: right;\n",
       "    }\n",
       "</style>\n",
       "<table border=\"1\" class=\"dataframe\">\n",
       "  <thead>\n",
       "    <tr style=\"text-align: right;\">\n",
       "      <th></th>\n",
       "      <th>estado</th>\n",
       "      <th>FEC_RRENTRAD_CTO</th>\n",
       "      <th>XTI_SOLUCION</th>\n",
       "      <th>YINC</th>\n",
       "      <th>NOMISSING_1</th>\n",
       "    </tr>\n",
       "  </thead>\n",
       "  <tbody>\n",
       "    <tr>\n",
       "      <th>0</th>\n",
       "      <td>OBSERVADO</td>\n",
       "      <td>2012-10-24</td>\n",
       "      <td>CERRADO</td>\n",
       "      <td>2012</td>\n",
       "      <td>231</td>\n",
       "    </tr>\n",
       "    <tr>\n",
       "      <th>1</th>\n",
       "      <td>OBSERVADO</td>\n",
       "      <td>2016-04-30</td>\n",
       "      <td>CERRADO</td>\n",
       "      <td>2016</td>\n",
       "      <td>231</td>\n",
       "    </tr>\n",
       "    <tr>\n",
       "      <th>2</th>\n",
       "      <td>OBSERVADO</td>\n",
       "      <td>2015-03-31</td>\n",
       "      <td>CERRADO</td>\n",
       "      <td>2015</td>\n",
       "      <td>231</td>\n",
       "    </tr>\n",
       "    <tr>\n",
       "      <th>3</th>\n",
       "      <td>OBSERVADO</td>\n",
       "      <td>2015-03-31</td>\n",
       "      <td>CERRADO</td>\n",
       "      <td>2015</td>\n",
       "      <td>231</td>\n",
       "    </tr>\n",
       "    <tr>\n",
       "      <th>4</th>\n",
       "      <td>OBSERVADO</td>\n",
       "      <td>2015-03-31</td>\n",
       "      <td>CERRADO</td>\n",
       "      <td>2015</td>\n",
       "      <td>231</td>\n",
       "    </tr>\n",
       "  </tbody>\n",
       "</table>\n",
       "</div>"
      ],
      "text/plain": [
       "      estado FEC_RRENTRAD_CTO XTI_SOLUCION  YINC  NOMISSING_1\n",
       "0  OBSERVADO       2012-10-24      CERRADO  2012          231\n",
       "1  OBSERVADO       2016-04-30      CERRADO  2016          231\n",
       "2  OBSERVADO       2015-03-31      CERRADO  2015          231\n",
       "3  OBSERVADO       2015-03-31      CERRADO  2015          231\n",
       "4  OBSERVADO       2015-03-31      CERRADO  2015          231"
      ]
     },
     "execution_count": 52,
     "metadata": {},
     "output_type": "execute_result"
    }
   ],
   "source": [
    "df.filter((df['XTI_SOLUCION'] == \"CERRADO\")).select(\"estado\",\"FEC_RRENTRAD_CTO\",\"XTI_SOLUCION\",\"YINC\",\"NOMISSING_1\") \\\n",
    "    .limit(5).toPandas()"
   ]
  },
  {
   "cell_type": "code",
   "execution_count": 53,
   "metadata": {},
   "outputs": [
    {
     "data": {
      "text/html": [
       "<div>\n",
       "<style scoped>\n",
       "    .dataframe tbody tr th:only-of-type {\n",
       "        vertical-align: middle;\n",
       "    }\n",
       "\n",
       "    .dataframe tbody tr th {\n",
       "        vertical-align: top;\n",
       "    }\n",
       "\n",
       "    .dataframe thead th {\n",
       "        text-align: right;\n",
       "    }\n",
       "</style>\n",
       "<table border=\"1\" class=\"dataframe\">\n",
       "  <thead>\n",
       "    <tr style=\"text-align: right;\">\n",
       "      <th></th>\n",
       "      <th>estado</th>\n",
       "      <th>FEC_RRENTRAD_CTO</th>\n",
       "      <th>XTI_SOLUCION</th>\n",
       "      <th>YINC</th>\n",
       "      <th>MARCA_MIT_CURVA_INF</th>\n",
       "    </tr>\n",
       "  </thead>\n",
       "  <tbody>\n",
       "    <tr>\n",
       "      <th>0</th>\n",
       "      <td>OBSERVADO</td>\n",
       "      <td>2012-10-24</td>\n",
       "      <td>CERRADO</td>\n",
       "      <td>2012</td>\n",
       "      <td>None</td>\n",
       "    </tr>\n",
       "    <tr>\n",
       "      <th>1</th>\n",
       "      <td>OBSERVADO</td>\n",
       "      <td>2016-04-30</td>\n",
       "      <td>CERRADO</td>\n",
       "      <td>2016</td>\n",
       "      <td>None</td>\n",
       "    </tr>\n",
       "    <tr>\n",
       "      <th>2</th>\n",
       "      <td>ABCAVE</td>\n",
       "      <td>2013-07-29</td>\n",
       "      <td>VENTA</td>\n",
       "      <td>2013</td>\n",
       "      <td>None</td>\n",
       "    </tr>\n",
       "    <tr>\n",
       "      <th>3</th>\n",
       "      <td>ABCAVE</td>\n",
       "      <td>2013-07-29</td>\n",
       "      <td>VENTA</td>\n",
       "      <td>2013</td>\n",
       "      <td>None</td>\n",
       "    </tr>\n",
       "    <tr>\n",
       "      <th>4</th>\n",
       "      <td>ABCAVE</td>\n",
       "      <td>2013-07-29</td>\n",
       "      <td>VENTA</td>\n",
       "      <td>2013</td>\n",
       "      <td>None</td>\n",
       "    </tr>\n",
       "  </tbody>\n",
       "</table>\n",
       "</div>"
      ],
      "text/plain": [
       "      estado FEC_RRENTRAD_CTO XTI_SOLUCION  YINC MARCA_MIT_CURVA_INF\n",
       "0  OBSERVADO       2012-10-24      CERRADO  2012                None\n",
       "1  OBSERVADO       2016-04-30      CERRADO  2016                None\n",
       "2     ABCAVE       2013-07-29        VENTA  2013                None\n",
       "3     ABCAVE       2013-07-29        VENTA  2013                None\n",
       "4     ABCAVE       2013-07-29        VENTA  2013                None"
      ]
     },
     "execution_count": 53,
     "metadata": {},
     "output_type": "execute_result"
    }
   ],
   "source": [
    "df.filter(df['MARCA_MIT_CURVA_INF'].isNull() == True).select(\"estado\",\"FEC_RRENTRAD_CTO\",\"XTI_SOLUCION\",\"YINC\",\"MARCA_MIT_CURVA_INF\") \\\n",
    "    .limit(5).toPandas()"
   ]
  },
  {
   "cell_type": "markdown",
   "metadata": {},
   "source": [
    "We can save our information into a dictionary:"
   ]
  },
  {
   "cell_type": "code",
   "execution_count": 54,
   "metadata": {},
   "outputs": [],
   "source": [
    "result = df.filter((df['YINC'] == 2016)).collect()"
   ]
  },
  {
   "cell_type": "code",
   "execution_count": 55,
   "metadata": {},
   "outputs": [],
   "source": [
    "row = result[0]"
   ]
  },
  {
   "cell_type": "code",
   "execution_count": 56,
   "metadata": {},
   "outputs": [
    {
     "data": {
      "text/plain": [
       "{'FEC_RRENTRAD_CTO': datetime.datetime(2016, 4, 30, 0, 0),\n",
       " 'FREQ': 231,\n",
       " 'LGDCIP_1': -0.026093,\n",
       " 'LGDCIP_10': None,\n",
       " 'LGDCIP_11': None,\n",
       " 'LGDCIP_12': None,\n",
       " 'LGDCIP_13': None,\n",
       " 'LGDCIP_14': None,\n",
       " 'LGDCIP_15': None,\n",
       " 'LGDCIP_16': None,\n",
       " 'LGDCIP_17': None,\n",
       " 'LGDCIP_18': None,\n",
       " 'LGDCIP_19': None,\n",
       " 'LGDCIP_2': -0.026093,\n",
       " 'LGDCIP_20': None,\n",
       " 'LGDCIP_21': None,\n",
       " 'LGDCIP_22': None,\n",
       " 'LGDCIP_23': None,\n",
       " 'LGDCIP_24': None,\n",
       " 'LGDCIP_25': None,\n",
       " 'LGDCIP_26': None,\n",
       " 'LGDCIP_27': None,\n",
       " 'LGDCIP_28': None,\n",
       " 'LGDCIP_29': None,\n",
       " 'LGDCIP_3': None,\n",
       " 'LGDCIP_30': None,\n",
       " 'LGDCIP_31': None,\n",
       " 'LGDCIP_32': None,\n",
       " 'LGDCIP_33': None,\n",
       " 'LGDCIP_34': None,\n",
       " 'LGDCIP_35': None,\n",
       " 'LGDCIP_36': None,\n",
       " 'LGDCIP_4': None,\n",
       " 'LGDCIP_5': None,\n",
       " 'LGDCIP_6': None,\n",
       " 'LGDCIP_7': None,\n",
       " 'LGDCIP_8': None,\n",
       " 'LGDCIP_9': None,\n",
       " 'LGDCI_1': -0.026093,\n",
       " 'LGDCI_10': None,\n",
       " 'LGDCI_11': None,\n",
       " 'LGDCI_12': None,\n",
       " 'LGDCI_13': None,\n",
       " 'LGDCI_14': None,\n",
       " 'LGDCI_15': None,\n",
       " 'LGDCI_16': None,\n",
       " 'LGDCI_17': None,\n",
       " 'LGDCI_18': None,\n",
       " 'LGDCI_19': None,\n",
       " 'LGDCI_2': -0.026093,\n",
       " 'LGDCI_20': None,\n",
       " 'LGDCI_21': None,\n",
       " 'LGDCI_22': None,\n",
       " 'LGDCI_23': None,\n",
       " 'LGDCI_24': None,\n",
       " 'LGDCI_25': None,\n",
       " 'LGDCI_26': None,\n",
       " 'LGDCI_27': None,\n",
       " 'LGDCI_28': None,\n",
       " 'LGDCI_29': None,\n",
       " 'LGDCI_3': None,\n",
       " 'LGDCI_30': None,\n",
       " 'LGDCI_31': None,\n",
       " 'LGDCI_32': None,\n",
       " 'LGDCI_33': None,\n",
       " 'LGDCI_34': None,\n",
       " 'LGDCI_35': None,\n",
       " 'LGDCI_36': None,\n",
       " 'LGDCI_4': None,\n",
       " 'LGDCI_5': None,\n",
       " 'LGDCI_6': None,\n",
       " 'LGDCI_7': None,\n",
       " 'LGDCI_8': None,\n",
       " 'LGDCI_9': None,\n",
       " 'LGDM_1': 0.18065591256676664,\n",
       " 'LGDM_10': 0.13997549319628066,\n",
       " 'LGDM_11': 0.1607962202412925,\n",
       " 'LGDM_12': 0.17757641939748983,\n",
       " 'LGDM_13': 0.19529082617884855,\n",
       " 'LGDM_14': 0.14480057036788238,\n",
       " 'LGDM_15': 0.08888815696488475,\n",
       " 'LGDM_16': 0.12341630339869723,\n",
       " 'LGDM_17': 0.15676406926033776,\n",
       " 'LGDM_18': 0.15435403141904944,\n",
       " 'LGDM_19': 0.15435403141904944,\n",
       " 'LGDM_2': 0.20153576751936708,\n",
       " 'LGDM_20': 0.16419775885075352,\n",
       " 'LGDM_21': 0.17689571910755808,\n",
       " 'LGDM_22': 0.20090946472043278,\n",
       " 'LGDM_23': 0.20090946472043278,\n",
       " 'LGDM_24': 0.20090946472043278,\n",
       " 'LGDM_25': 0.20090946472043278,\n",
       " 'LGDM_26': 0.20092057351070827,\n",
       " 'LGDM_27': 0.20092057351070827,\n",
       " 'LGDM_28': 0.20092057351070827,\n",
       " 'LGDM_29': 0.20092057351070827,\n",
       " 'LGDM_3': 0.1783468738569801,\n",
       " 'LGDM_30': 0.20092057351070827,\n",
       " 'LGDM_31': 0.20531642879287673,\n",
       " 'LGDM_32': 0.20531642879287673,\n",
       " 'LGDM_33': 0.20531642879287673,\n",
       " 'LGDM_34': 0.20531642879287673,\n",
       " 'LGDM_35': 0.19216342336056777,\n",
       " 'LGDM_36': 0.19217641176470585,\n",
       " 'LGDM_4': 0.18402035921860352,\n",
       " 'LGDM_5': 0.1459230649328961,\n",
       " 'LGDM_6': 0.16823193453102198,\n",
       " 'LGDM_7': 0.17115255098108897,\n",
       " 'LGDM_8': 0.1650680079989719,\n",
       " 'LGDM_9': 0.1354421764585169,\n",
       " 'LGD_OBS_1': 0.436739,\n",
       " 'MARCA_MIT_CURVA_INF': None,\n",
       " 'NOMISSING_1': 231,\n",
       " 'NOMISSING_10': 99,\n",
       " 'NOMISSING_11': 83,\n",
       " 'NOMISSING_12': 76,\n",
       " 'NOMISSING_13': 70,\n",
       " 'NOMISSING_14': 60,\n",
       " 'NOMISSING_15': 51,\n",
       " 'NOMISSING_16': 38,\n",
       " 'NOMISSING_17': 31,\n",
       " 'NOMISSING_18': 30,\n",
       " 'NOMISSING_19': 30,\n",
       " 'NOMISSING_2': 218,\n",
       " 'NOMISSING_20': 28,\n",
       " 'NOMISSING_21': 26,\n",
       " 'NOMISSING_22': 21,\n",
       " 'NOMISSING_23': 21,\n",
       " 'NOMISSING_24': 21,\n",
       " 'NOMISSING_25': 21,\n",
       " 'NOMISSING_26': 20,\n",
       " 'NOMISSING_27': 20,\n",
       " 'NOMISSING_28': 20,\n",
       " 'NOMISSING_29': 20,\n",
       " 'NOMISSING_3': 204,\n",
       " 'NOMISSING_30': 20,\n",
       " 'NOMISSING_31': 19,\n",
       " 'NOMISSING_32': 19,\n",
       " 'NOMISSING_33': 19,\n",
       " 'NOMISSING_34': 19,\n",
       " 'NOMISSING_35': 18,\n",
       " 'NOMISSING_36': 17,\n",
       " 'NOMISSING_4': 169,\n",
       " 'NOMISSING_5': 147,\n",
       " 'NOMISSING_6': 131,\n",
       " 'NOMISSING_7': 120,\n",
       " 'NOMISSING_8': 113,\n",
       " 'NOMISSING_9': 102,\n",
       " 'PESO_1': 1.0,\n",
       " 'PESO_10': None,\n",
       " 'PESO_11': None,\n",
       " 'PESO_12': None,\n",
       " 'PESO_13': None,\n",
       " 'PESO_14': None,\n",
       " 'PESO_15': None,\n",
       " 'PESO_16': None,\n",
       " 'PESO_17': None,\n",
       " 'PESO_18': None,\n",
       " 'PESO_19': None,\n",
       " 'PESO_2': 1.0,\n",
       " 'PESO_20': None,\n",
       " 'PESO_21': None,\n",
       " 'PESO_22': None,\n",
       " 'PESO_23': None,\n",
       " 'PESO_24': None,\n",
       " 'PESO_25': None,\n",
       " 'PESO_26': None,\n",
       " 'PESO_27': None,\n",
       " 'PESO_28': None,\n",
       " 'PESO_29': None,\n",
       " 'PESO_3': None,\n",
       " 'PESO_30': None,\n",
       " 'PESO_31': None,\n",
       " 'PESO_32': None,\n",
       " 'PESO_33': None,\n",
       " 'PESO_34': None,\n",
       " 'PESO_35': None,\n",
       " 'PESO_36': None,\n",
       " 'PESO_4': None,\n",
       " 'PESO_5': None,\n",
       " 'PESO_6': None,\n",
       " 'PESO_7': None,\n",
       " 'PESO_8': None,\n",
       " 'PESO_9': None,\n",
       " 'XTI_SOLUCION': 'CERRADO',\n",
       " 'YINC': 2016,\n",
       " 'estado': 'OBSERVADO'}"
      ]
     },
     "execution_count": 56,
     "metadata": {},
     "output_type": "execute_result"
    }
   ],
   "source": [
    "row.asDict()"
   ]
  },
  {
   "cell_type": "code",
   "execution_count": 57,
   "metadata": {},
   "outputs": [
    {
     "data": {
      "text/plain": [
       "231"
      ]
     },
     "execution_count": 57,
     "metadata": {},
     "output_type": "execute_result"
    }
   ],
   "source": [
    "row.asDict()['FREQ']"
   ]
  },
  {
   "cell_type": "markdown",
   "metadata": {},
   "source": [
    "### groupBy and aggregate"
   ]
  },
  {
   "cell_type": "code",
   "execution_count": 58,
   "metadata": {},
   "outputs": [
    {
     "name": "stdout",
     "output_type": "stream",
     "text": [
      "Filas: 610\tColumnas: 187\n"
     ]
    }
   ],
   "source": [
    "print(\"Filas: {0:,}\\tColumnas: {1:,}\".format(df.count(), len(df.columns)))"
   ]
  },
  {
   "cell_type": "code",
   "execution_count": 59,
   "metadata": {},
   "outputs": [
    {
     "name": "stdout",
     "output_type": "stream",
     "text": [
      "+-------+-------------------+-------------------+\n",
      "|summary|             PESO_1|            PESO_11|\n",
      "+-------+-------------------+-------------------+\n",
      "|  count|                610|                441|\n",
      "|   mean| 0.9902107754098362| 0.9864593492063495|\n",
      "| stddev|0.09830107049049229|0.11542832104976965|\n",
      "|    min|           0.001633|           0.001633|\n",
      "|    max|                1.0|                1.0|\n",
      "+-------+-------------------+-------------------+\n",
      "\n"
     ]
    }
   ],
   "source": [
    "df.describe(\"PESO_1\",\"PESO_11\").show()"
   ]
  },
  {
   "cell_type": "markdown",
   "metadata": {},
   "source": [
    "**groupBy**"
   ]
  },
  {
   "cell_type": "code",
   "execution_count": 60,
   "metadata": {},
   "outputs": [
    {
     "name": "stdout",
     "output_type": "stream",
     "text": [
      "+-------------------+------------------+\n",
      "|MARCA_MIT_CURVA_INF|       avg(PESO_1)|\n",
      "+-------------------+------------------+\n",
      "|               null|0.9900641813643928|\n",
      "|                  X|               1.0|\n",
      "+-------------------+------------------+\n",
      "\n"
     ]
    }
   ],
   "source": [
    "df.select(\"MARCA_MIT_CURVA_INF\",\"PESO_1\").groupBy(\"MARCA_MIT_CURVA_INF\").mean().show()"
   ]
  },
  {
   "cell_type": "code",
   "execution_count": 61,
   "metadata": {},
   "outputs": [
    {
     "name": "stdout",
     "output_type": "stream",
     "text": [
      "+-------------------+-----------+\n",
      "|MARCA_MIT_CURVA_INF|sum(PESO_1)|\n",
      "+-------------------+-----------+\n",
      "|               null| 595.028573|\n",
      "|                  X|        9.0|\n",
      "+-------------------+-----------+\n",
      "\n"
     ]
    }
   ],
   "source": [
    "df.select(\"MARCA_MIT_CURVA_INF\",\"PESO_1\").groupBy(\"MARCA_MIT_CURVA_INF\").sum().show()"
   ]
  },
  {
   "cell_type": "code",
   "execution_count": 62,
   "metadata": {},
   "outputs": [
    {
     "name": "stdout",
     "output_type": "stream",
     "text": [
      "+------------+---------+\n",
      "|XTI_SOLUCION|max(YINC)|\n",
      "+------------+---------+\n",
      "|     CASTIGO|     2016|\n",
      "|       QUITA|     2016|\n",
      "|     ABIERTO|     2012|\n",
      "|     CERRADO|     2016|\n",
      "|       VENTA|     2013|\n",
      "+------------+---------+\n",
      "\n"
     ]
    }
   ],
   "source": [
    "df.select(\"XTI_SOLUCION\",\"YINC\").groupBy(\"XTI_SOLUCION\").max().show()"
   ]
  },
  {
   "cell_type": "code",
   "execution_count": 63,
   "metadata": {},
   "outputs": [
    {
     "name": "stdout",
     "output_type": "stream",
     "text": [
      "+------------+-----+\n",
      "|XTI_SOLUCION|count|\n",
      "+------------+-----+\n",
      "|     CASTIGO|  254|\n",
      "|       QUITA|   46|\n",
      "|     ABIERTO|   24|\n",
      "|     CERRADO|  231|\n",
      "|       VENTA|   55|\n",
      "+------------+-----+\n",
      "\n"
     ]
    }
   ],
   "source": [
    "df.groupBy(\"XTI_SOLUCION\").count().show()"
   ]
  },
  {
   "cell_type": "markdown",
   "metadata": {},
   "source": [
    "**aggregate**"
   ]
  },
  {
   "cell_type": "markdown",
   "metadata": {},
   "source": [
    "<div class=\"alert alert-info\"> When dont use groupBy sentence, we are calculating across the all data</div>"
   ]
  },
  {
   "cell_type": "code",
   "execution_count": 64,
   "metadata": {},
   "outputs": [],
   "source": [
    "df2 = spark.read.csv('./data/sales_info.csv', inferSchema=True, header=True)"
   ]
  },
  {
   "cell_type": "code",
   "execution_count": 65,
   "metadata": {},
   "outputs": [
    {
     "name": "stdout",
     "output_type": "stream",
     "text": [
      "+----------+\n",
      "|sum(Sales)|\n",
      "+----------+\n",
      "|    4327.0|\n",
      "+----------+\n",
      "\n"
     ]
    }
   ],
   "source": [
    "df2.agg({'Sales':'sum'}).show()"
   ]
  },
  {
   "cell_type": "code",
   "execution_count": 66,
   "metadata": {},
   "outputs": [
    {
     "name": "stdout",
     "output_type": "stream",
     "text": [
      "+----------+\n",
      "|max(Sales)|\n",
      "+----------+\n",
      "|     870.0|\n",
      "+----------+\n",
      "\n"
     ]
    }
   ],
   "source": [
    "df2.agg({'Sales':'max'}).show()"
   ]
  },
  {
   "cell_type": "code",
   "execution_count": 67,
   "metadata": {},
   "outputs": [
    {
     "name": "stdout",
     "output_type": "stream",
     "text": [
      "+----------+-----------------+\n",
      "|sum(Sales)|       avg(Sales)|\n",
      "+----------+-----------------+\n",
      "|    4327.0|360.5833333333333|\n",
      "+----------+-----------------+\n",
      "\n"
     ]
    }
   ],
   "source": [
    "df2.agg(F.sum(\"Sales\"), F.avg(\"Sales\")).show()"
   ]
  },
  {
   "cell_type": "code",
   "execution_count": 68,
   "metadata": {},
   "outputs": [
    {
     "name": "stdout",
     "output_type": "stream",
     "text": [
      "+-------+----------+-----------------+\n",
      "|Company|sum(Sales)|       avg(Sales)|\n",
      "+-------+----------+-----------------+\n",
      "|   APPL|    1480.0|            370.0|\n",
      "|   GOOG|     660.0|            220.0|\n",
      "|     FB|    1220.0|            610.0|\n",
      "|   MSFT|     967.0|322.3333333333333|\n",
      "+-------+----------+-----------------+\n",
      "\n"
     ]
    }
   ],
   "source": [
    "df2.groupBy(\"Company\").agg(F.sum(\"Sales\"), F.avg(\"Sales\")).show()"
   ]
  },
  {
   "cell_type": "code",
   "execution_count": 69,
   "metadata": {},
   "outputs": [
    {
     "name": "stdout",
     "output_type": "stream",
     "text": [
      "+-------+------+-----------------+\n",
      "|Company|  suma|         promedio|\n",
      "+-------+------+-----------------+\n",
      "|   APPL|1480.0|            370.0|\n",
      "|   GOOG| 660.0|            220.0|\n",
      "|     FB|1220.0|            610.0|\n",
      "|   MSFT| 967.0|322.3333333333333|\n",
      "+-------+------+-----------------+\n",
      "\n"
     ]
    }
   ],
   "source": [
    "df2.groupBy(\"Company\").agg(F.sum(\"Sales\").alias(\"suma\"), F.avg(\"Sales\").alias(\"promedio\")).show()"
   ]
  },
  {
   "cell_type": "code",
   "execution_count": 70,
   "metadata": {},
   "outputs": [
    {
     "data": {
      "text/html": [
       "<div>\n",
       "<style scoped>\n",
       "    .dataframe tbody tr th:only-of-type {\n",
       "        vertical-align: middle;\n",
       "    }\n",
       "\n",
       "    .dataframe tbody tr th {\n",
       "        vertical-align: top;\n",
       "    }\n",
       "\n",
       "    .dataframe thead th {\n",
       "        text-align: right;\n",
       "    }\n",
       "</style>\n",
       "<table border=\"1\" class=\"dataframe\">\n",
       "  <thead>\n",
       "    <tr style=\"text-align: right;\">\n",
       "      <th></th>\n",
       "      <th>Company</th>\n",
       "      <th>suma</th>\n",
       "      <th>promedio</th>\n",
       "    </tr>\n",
       "  </thead>\n",
       "  <tbody>\n",
       "    <tr>\n",
       "      <th>0</th>\n",
       "      <td>APPL</td>\n",
       "      <td>1480.0</td>\n",
       "      <td>370.000000</td>\n",
       "    </tr>\n",
       "    <tr>\n",
       "      <th>1</th>\n",
       "      <td>GOOG</td>\n",
       "      <td>660.0</td>\n",
       "      <td>220.000000</td>\n",
       "    </tr>\n",
       "    <tr>\n",
       "      <th>2</th>\n",
       "      <td>FB</td>\n",
       "      <td>1220.0</td>\n",
       "      <td>610.000000</td>\n",
       "    </tr>\n",
       "    <tr>\n",
       "      <th>3</th>\n",
       "      <td>MSFT</td>\n",
       "      <td>967.0</td>\n",
       "      <td>322.333333</td>\n",
       "    </tr>\n",
       "  </tbody>\n",
       "</table>\n",
       "</div>"
      ],
      "text/plain": [
       "  Company    suma    promedio\n",
       "0    APPL  1480.0  370.000000\n",
       "1    GOOG   660.0  220.000000\n",
       "2      FB  1220.0  610.000000\n",
       "3    MSFT   967.0  322.333333"
      ]
     },
     "execution_count": 70,
     "metadata": {},
     "output_type": "execute_result"
    }
   ],
   "source": [
    "df2.groupBy(\"Company\").agg(F.sum(\"Sales\").alias(\"suma\"), F.avg(\"Sales\").alias(\"promedio\")).toPandas()"
   ]
  },
  {
   "cell_type": "code",
   "execution_count": 71,
   "metadata": {},
   "outputs": [
    {
     "name": "stdout",
     "output_type": "stream",
     "text": [
      "+-------+------+-----------------+\n",
      "|Company|  suma|         promedio|\n",
      "+-------+------+-----------------+\n",
      "|   GOOG| 660.0|            220.0|\n",
      "|   MSFT| 967.0|322.3333333333333|\n",
      "|   APPL|1480.0|            370.0|\n",
      "|     FB|1220.0|            610.0|\n",
      "+-------+------+-----------------+\n",
      "\n"
     ]
    }
   ],
   "source": [
    "df2.groupBy(\"Company\").agg(F.sum(\"Sales\").alias(\"suma\"), F.avg(\"Sales\").alias(\"promedio\")).sort(\"promedio\").show()"
   ]
  },
  {
   "cell_type": "code",
   "execution_count": 72,
   "metadata": {},
   "outputs": [
    {
     "name": "stdout",
     "output_type": "stream",
     "text": [
      "+-------+------+-----------------+\n",
      "|Company|  suma|         promedio|\n",
      "+-------+------+-----------------+\n",
      "|     FB|1220.0|            610.0|\n",
      "|   APPL|1480.0|            370.0|\n",
      "|   MSFT| 967.0|322.3333333333333|\n",
      "|   GOOG| 660.0|            220.0|\n",
      "+-------+------+-----------------+\n",
      "\n"
     ]
    }
   ],
   "source": [
    "df2.groupBy(\"Company\").agg(F.sum(\"Sales\").alias(\"suma\"), F.avg(\"Sales\").alias(\"promedio\")).sort(F.desc(\"promedio\")).show()"
   ]
  },
  {
   "cell_type": "markdown",
   "metadata": {},
   "source": [
    "Another example:"
   ]
  },
  {
   "cell_type": "code",
   "execution_count": 73,
   "metadata": {},
   "outputs": [],
   "source": [
    "group_data = df2.groupBy(\"Company\")"
   ]
  },
  {
   "cell_type": "code",
   "execution_count": 74,
   "metadata": {},
   "outputs": [
    {
     "name": "stdout",
     "output_type": "stream",
     "text": [
      "+-------+----------+\n",
      "|Company|max(Sales)|\n",
      "+-------+----------+\n",
      "|   APPL|     750.0|\n",
      "|   GOOG|     340.0|\n",
      "|     FB|     870.0|\n",
      "|   MSFT|     600.0|\n",
      "+-------+----------+\n",
      "\n"
     ]
    }
   ],
   "source": [
    "group_data.agg({'Sales':'max'}).show()"
   ]
  },
  {
   "cell_type": "markdown",
   "metadata": {},
   "source": [
    "There are more functions, like:"
   ]
  },
  {
   "cell_type": "code",
   "execution_count": 75,
   "metadata": {},
   "outputs": [],
   "source": [
    "from pyspark.sql.functions import countDistinct, avg, stddev"
   ]
  },
  {
   "cell_type": "markdown",
   "metadata": {},
   "source": [
    "#### What happened with Null values?"
   ]
  },
  {
   "cell_type": "raw",
   "metadata": {},
   "source": [
    "difDescargaVtas = descargaDf \\\n",
    "    .join(balancesDf , \"LLAVE\", \"left_outer\")\\\n",
    "    .join(ventasDf   , \"LLAVE\", \"left_outer\") \\\n",
    "    .select(descargaDf.PROB_INCUMP, descargaDf.EMPRESA, descargaDf.INDICADOR_AJUSTE, F.col(\"MESES_EJERCICIO\"),\n",
    "            F.col(\"IMPORTE\").alias(\"VENTAS_CUENTA\")\n",
    "           ).filter(F.col(\"MESES_EJERCICIO\").isNull() != True)\\\n",
    "            .filter(F.col(\"VENTAS_CUENTA\").isNull() != True)\n"
   ]
  },
  {
   "cell_type": "markdown",
   "metadata": {},
   "source": [
    "### Functions"
   ]
  },
  {
   "cell_type": "markdown",
   "metadata": {},
   "source": [
    "The python fuctions to has have no more than 100 lines with in, if any function pass the limit you need split it into two or more functions depends of the situation."
   ]
  },
  {
   "cell_type": "markdown",
   "metadata": {},
   "source": [
    "<img src=\"../images/large_functions.png\" width=\"600\">"
   ]
  },
  {
   "cell_type": "markdown",
   "metadata": {},
   "source": [
    "Another important thing is to always add descriptions to the functions."
   ]
  },
  {
   "cell_type": "markdown",
   "metadata": {},
   "source": [
    "<img src=\"../images/desc_function.png\" width=\"900\">"
   ]
  },
  {
   "cell_type": "markdown",
   "metadata": {},
   "source": [
    "<div class=\"alert alert-info\" role=\"alert\">Persistir middle results</div>"
   ]
  },
  {
   "cell_type": "markdown",
   "metadata": {},
   "source": [
    "<div class=\"alert alert-info\" role=\"alert\">Be careful with Order</div>"
   ]
  },
  {
   "cell_type": "markdown",
   "metadata": {},
   "source": [
    "## Best Practices Examples"
   ]
  },
  {
   "cell_type": "markdown",
   "metadata": {},
   "source": [
    "### Multiple operations"
   ]
  },
  {
   "cell_type": "markdown",
   "metadata": {},
   "source": [
    "**SAS** code:"
   ]
  },
  {
   "cell_type": "markdown",
   "metadata": {},
   "source": [
    "```sas\n",
    "\n",
    "/* CALCULAMOS LA DESVIACIÓN ESTANDAR PONDERADA POR PUNTO */\n",
    "\n",
    "PROC SQL;\n",
    "     CREATE TABLE SDTPXESTADO_&SEGMENTO.  AS \n",
    "     SELECT DISTINCT ESTADO, %IF &SEGMENTO. EQ EMP_NGAR %THEN %DO;  SEGM, %END;\n",
    "\t \t\t/*DESVIACION ESTANDAR*/\n",
    "\t\t\t%DO I=1 %TO 36;\n",
    "\t\t\t\tSQRT( SUM(PESO_&I.*(LGDCIP_&I.-LGDM_&I.)**2)\n",
    "\t\t\t\t\t\t/\n",
    "\t\t\t\t\t\t( (NOMISSING_&I.-1)*SUM(PESO_&I.)/NOMISSING_&I. )\n",
    "                    ) AS SDTP_&I.,\n",
    "\t\t\t%END;\n",
    "\t\t\t/*ERROR ESTANDAR*/\n",
    "\t\t\t%DO I=1 %TO 36;\n",
    "\t\t\t\tCALCULATED SDTP_&I. / SQRT( SUM(PESO_&I.) ) AS EESDT_&I. ,\n",
    "\t\t\t%END;\n",
    "\t\t\tCOUNT(*) AS FREQ\n",
    "     FROM TEMP_VOL\n",
    "\t GROUP BY %IF &SEGMENTO. EQ EMP_NGAR %THEN %DO;  SEGM, %END; ESTADO;\n",
    "QUIT;\n",
    "\n",
    "```"
   ]
  },
  {
   "cell_type": "markdown",
   "metadata": {},
   "source": [
    "**Spark** code:"
   ]
  },
  {
   "cell_type": "code",
   "execution_count": 76,
   "metadata": {},
   "outputs": [],
   "source": [
    "desv_est = [(F.sqrt(F.sum(F.col(\"PESO_\"+str(x))*(F.col(\"LGDCIP_\"+str(x)) - F.col(\"LGDM_\"+str(x)))**2) /\n",
    "             ((F.count(F.col(\"NOMISSING_\"+str(x)))-1)*F.sum(F.col(\"PESO_\"+str(x)))/F.count(F.col(\"NOMISSING_\"+str(x)))))\n",
    "             ).alias(\"SDTP_\"+str(x)) for x in range(1,37)]\n",
    "\n",
    "error_est = [((F.sqrt(F.sum(F.col(\"PESO_\"+str(x))*(F.col(\"LGDCIP_\"+str(x)) - F.col(\"LGDM_\"+str(x)))**2) /\n",
    "              ((F.count(F.col(\"NOMISSING_\"+str(x)))-1)*F.sum(F.col(\"PESO_\"+str(x)))/F.count(F.col(\"NOMISSING_\"+str(x)))))) /\n",
    "              F.sqrt(F.sum(F.col(\"PESO_\"+str(x))))\n",
    "             ).alias(\"EESDT_\"+str(x)) for x in range(1,37)]\n",
    "\n",
    "table_results = df \\\n",
    "    .groupBy(\"estado\") \\\n",
    "    .agg(*desv_est,\n",
    "         *error_est,\n",
    "         (F.count(F.col(\"estado\"))).alias(\"FREQ\")\n",
    "        ) \\\n",
    "    .orderBy(F.asc(\"estado\"))"
   ]
  },
  {
   "cell_type": "code",
   "execution_count": 77,
   "metadata": {},
   "outputs": [
    {
     "data": {
      "text/plain": [
       "[Column<b'(SQRT((sum((PESO_1 * POWER((LGDCIP_1 - LGDM_1), 2))) / (((count(NOMISSING_1) - 1) * sum(PESO_1)) / count(NOMISSING_1)))) / SQRT(sum(PESO_1))) AS `EESDT_1`'>,\n",
       " Column<b'(SQRT((sum((PESO_2 * POWER((LGDCIP_2 - LGDM_2), 2))) / (((count(NOMISSING_2) - 1) * sum(PESO_2)) / count(NOMISSING_2)))) / SQRT(sum(PESO_2))) AS `EESDT_2`'>,\n",
       " Column<b'(SQRT((sum((PESO_3 * POWER((LGDCIP_3 - LGDM_3), 2))) / (((count(NOMISSING_3) - 1) * sum(PESO_3)) / count(NOMISSING_3)))) / SQRT(sum(PESO_3))) AS `EESDT_3`'>,\n",
       " Column<b'(SQRT((sum((PESO_4 * POWER((LGDCIP_4 - LGDM_4), 2))) / (((count(NOMISSING_4) - 1) * sum(PESO_4)) / count(NOMISSING_4)))) / SQRT(sum(PESO_4))) AS `EESDT_4`'>,\n",
       " Column<b'(SQRT((sum((PESO_5 * POWER((LGDCIP_5 - LGDM_5), 2))) / (((count(NOMISSING_5) - 1) * sum(PESO_5)) / count(NOMISSING_5)))) / SQRT(sum(PESO_5))) AS `EESDT_5`'>,\n",
       " Column<b'(SQRT((sum((PESO_6 * POWER((LGDCIP_6 - LGDM_6), 2))) / (((count(NOMISSING_6) - 1) * sum(PESO_6)) / count(NOMISSING_6)))) / SQRT(sum(PESO_6))) AS `EESDT_6`'>,\n",
       " Column<b'(SQRT((sum((PESO_7 * POWER((LGDCIP_7 - LGDM_7), 2))) / (((count(NOMISSING_7) - 1) * sum(PESO_7)) / count(NOMISSING_7)))) / SQRT(sum(PESO_7))) AS `EESDT_7`'>,\n",
       " Column<b'(SQRT((sum((PESO_8 * POWER((LGDCIP_8 - LGDM_8), 2))) / (((count(NOMISSING_8) - 1) * sum(PESO_8)) / count(NOMISSING_8)))) / SQRT(sum(PESO_8))) AS `EESDT_8`'>,\n",
       " Column<b'(SQRT((sum((PESO_9 * POWER((LGDCIP_9 - LGDM_9), 2))) / (((count(NOMISSING_9) - 1) * sum(PESO_9)) / count(NOMISSING_9)))) / SQRT(sum(PESO_9))) AS `EESDT_9`'>,\n",
       " Column<b'(SQRT((sum((PESO_10 * POWER((LGDCIP_10 - LGDM_10), 2))) / (((count(NOMISSING_10) - 1) * sum(PESO_10)) / count(NOMISSING_10)))) / SQRT(sum(PESO_10))) AS `EESDT_10`'>,\n",
       " Column<b'(SQRT((sum((PESO_11 * POWER((LGDCIP_11 - LGDM_11), 2))) / (((count(NOMISSING_11) - 1) * sum(PESO_11)) / count(NOMISSING_11)))) / SQRT(sum(PESO_11))) AS `EESDT_11`'>,\n",
       " Column<b'(SQRT((sum((PESO_12 * POWER((LGDCIP_12 - LGDM_12), 2))) / (((count(NOMISSING_12) - 1) * sum(PESO_12)) / count(NOMISSING_12)))) / SQRT(sum(PESO_12))) AS `EESDT_12`'>,\n",
       " Column<b'(SQRT((sum((PESO_13 * POWER((LGDCIP_13 - LGDM_13), 2))) / (((count(NOMISSING_13) - 1) * sum(PESO_13)) / count(NOMISSING_13)))) / SQRT(sum(PESO_13))) AS `EESDT_13`'>,\n",
       " Column<b'(SQRT((sum((PESO_14 * POWER((LGDCIP_14 - LGDM_14), 2))) / (((count(NOMISSING_14) - 1) * sum(PESO_14)) / count(NOMISSING_14)))) / SQRT(sum(PESO_14))) AS `EESDT_14`'>,\n",
       " Column<b'(SQRT((sum((PESO_15 * POWER((LGDCIP_15 - LGDM_15), 2))) / (((count(NOMISSING_15) - 1) * sum(PESO_15)) / count(NOMISSING_15)))) / SQRT(sum(PESO_15))) AS `EESDT_15`'>,\n",
       " Column<b'(SQRT((sum((PESO_16 * POWER((LGDCIP_16 - LGDM_16), 2))) / (((count(NOMISSING_16) - 1) * sum(PESO_16)) / count(NOMISSING_16)))) / SQRT(sum(PESO_16))) AS `EESDT_16`'>,\n",
       " Column<b'(SQRT((sum((PESO_17 * POWER((LGDCIP_17 - LGDM_17), 2))) / (((count(NOMISSING_17) - 1) * sum(PESO_17)) / count(NOMISSING_17)))) / SQRT(sum(PESO_17))) AS `EESDT_17`'>,\n",
       " Column<b'(SQRT((sum((PESO_18 * POWER((LGDCIP_18 - LGDM_18), 2))) / (((count(NOMISSING_18) - 1) * sum(PESO_18)) / count(NOMISSING_18)))) / SQRT(sum(PESO_18))) AS `EESDT_18`'>,\n",
       " Column<b'(SQRT((sum((PESO_19 * POWER((LGDCIP_19 - LGDM_19), 2))) / (((count(NOMISSING_19) - 1) * sum(PESO_19)) / count(NOMISSING_19)))) / SQRT(sum(PESO_19))) AS `EESDT_19`'>,\n",
       " Column<b'(SQRT((sum((PESO_20 * POWER((LGDCIP_20 - LGDM_20), 2))) / (((count(NOMISSING_20) - 1) * sum(PESO_20)) / count(NOMISSING_20)))) / SQRT(sum(PESO_20))) AS `EESDT_20`'>,\n",
       " Column<b'(SQRT((sum((PESO_21 * POWER((LGDCIP_21 - LGDM_21), 2))) / (((count(NOMISSING_21) - 1) * sum(PESO_21)) / count(NOMISSING_21)))) / SQRT(sum(PESO_21))) AS `EESDT_21`'>,\n",
       " Column<b'(SQRT((sum((PESO_22 * POWER((LGDCIP_22 - LGDM_22), 2))) / (((count(NOMISSING_22) - 1) * sum(PESO_22)) / count(NOMISSING_22)))) / SQRT(sum(PESO_22))) AS `EESDT_22`'>,\n",
       " Column<b'(SQRT((sum((PESO_23 * POWER((LGDCIP_23 - LGDM_23), 2))) / (((count(NOMISSING_23) - 1) * sum(PESO_23)) / count(NOMISSING_23)))) / SQRT(sum(PESO_23))) AS `EESDT_23`'>,\n",
       " Column<b'(SQRT((sum((PESO_24 * POWER((LGDCIP_24 - LGDM_24), 2))) / (((count(NOMISSING_24) - 1) * sum(PESO_24)) / count(NOMISSING_24)))) / SQRT(sum(PESO_24))) AS `EESDT_24`'>,\n",
       " Column<b'(SQRT((sum((PESO_25 * POWER((LGDCIP_25 - LGDM_25), 2))) / (((count(NOMISSING_25) - 1) * sum(PESO_25)) / count(NOMISSING_25)))) / SQRT(sum(PESO_25))) AS `EESDT_25`'>,\n",
       " Column<b'(SQRT((sum((PESO_26 * POWER((LGDCIP_26 - LGDM_26), 2))) / (((count(NOMISSING_26) - 1) * sum(PESO_26)) / count(NOMISSING_26)))) / SQRT(sum(PESO_26))) AS `EESDT_26`'>,\n",
       " Column<b'(SQRT((sum((PESO_27 * POWER((LGDCIP_27 - LGDM_27), 2))) / (((count(NOMISSING_27) - 1) * sum(PESO_27)) / count(NOMISSING_27)))) / SQRT(sum(PESO_27))) AS `EESDT_27`'>,\n",
       " Column<b'(SQRT((sum((PESO_28 * POWER((LGDCIP_28 - LGDM_28), 2))) / (((count(NOMISSING_28) - 1) * sum(PESO_28)) / count(NOMISSING_28)))) / SQRT(sum(PESO_28))) AS `EESDT_28`'>,\n",
       " Column<b'(SQRT((sum((PESO_29 * POWER((LGDCIP_29 - LGDM_29), 2))) / (((count(NOMISSING_29) - 1) * sum(PESO_29)) / count(NOMISSING_29)))) / SQRT(sum(PESO_29))) AS `EESDT_29`'>,\n",
       " Column<b'(SQRT((sum((PESO_30 * POWER((LGDCIP_30 - LGDM_30), 2))) / (((count(NOMISSING_30) - 1) * sum(PESO_30)) / count(NOMISSING_30)))) / SQRT(sum(PESO_30))) AS `EESDT_30`'>,\n",
       " Column<b'(SQRT((sum((PESO_31 * POWER((LGDCIP_31 - LGDM_31), 2))) / (((count(NOMISSING_31) - 1) * sum(PESO_31)) / count(NOMISSING_31)))) / SQRT(sum(PESO_31))) AS `EESDT_31`'>,\n",
       " Column<b'(SQRT((sum((PESO_32 * POWER((LGDCIP_32 - LGDM_32), 2))) / (((count(NOMISSING_32) - 1) * sum(PESO_32)) / count(NOMISSING_32)))) / SQRT(sum(PESO_32))) AS `EESDT_32`'>,\n",
       " Column<b'(SQRT((sum((PESO_33 * POWER((LGDCIP_33 - LGDM_33), 2))) / (((count(NOMISSING_33) - 1) * sum(PESO_33)) / count(NOMISSING_33)))) / SQRT(sum(PESO_33))) AS `EESDT_33`'>,\n",
       " Column<b'(SQRT((sum((PESO_34 * POWER((LGDCIP_34 - LGDM_34), 2))) / (((count(NOMISSING_34) - 1) * sum(PESO_34)) / count(NOMISSING_34)))) / SQRT(sum(PESO_34))) AS `EESDT_34`'>,\n",
       " Column<b'(SQRT((sum((PESO_35 * POWER((LGDCIP_35 - LGDM_35), 2))) / (((count(NOMISSING_35) - 1) * sum(PESO_35)) / count(NOMISSING_35)))) / SQRT(sum(PESO_35))) AS `EESDT_35`'>,\n",
       " Column<b'(SQRT((sum((PESO_36 * POWER((LGDCIP_36 - LGDM_36), 2))) / (((count(NOMISSING_36) - 1) * sum(PESO_36)) / count(NOMISSING_36)))) / SQRT(sum(PESO_36))) AS `EESDT_36`'>]"
      ]
     },
     "execution_count": 77,
     "metadata": {},
     "output_type": "execute_result"
    }
   ],
   "source": [
    "error_est"
   ]
  },
  {
   "cell_type": "code",
   "execution_count": 78,
   "metadata": {},
   "outputs": [
    {
     "data": {
      "text/html": [
       "<div>\n",
       "<style scoped>\n",
       "    .dataframe tbody tr th:only-of-type {\n",
       "        vertical-align: middle;\n",
       "    }\n",
       "\n",
       "    .dataframe tbody tr th {\n",
       "        vertical-align: top;\n",
       "    }\n",
       "\n",
       "    .dataframe thead th {\n",
       "        text-align: right;\n",
       "    }\n",
       "</style>\n",
       "<table border=\"1\" class=\"dataframe\">\n",
       "  <thead>\n",
       "    <tr style=\"text-align: right;\">\n",
       "      <th></th>\n",
       "      <th>estado</th>\n",
       "      <th>SDTP_1</th>\n",
       "      <th>SDTP_2</th>\n",
       "      <th>SDTP_3</th>\n",
       "      <th>EESDT_1</th>\n",
       "      <th>EESDT_2</th>\n",
       "      <th>EESDT_3</th>\n",
       "      <th>FREQ</th>\n",
       "    </tr>\n",
       "  </thead>\n",
       "  <tbody>\n",
       "    <tr>\n",
       "      <th>0</th>\n",
       "      <td>ABCAVE</td>\n",
       "      <td>0.234424</td>\n",
       "      <td>0.234106</td>\n",
       "      <td>0.234259</td>\n",
       "      <td>0.012865</td>\n",
       "      <td>0.012867</td>\n",
       "      <td>0.012895</td>\n",
       "      <td>333</td>\n",
       "    </tr>\n",
       "    <tr>\n",
       "      <th>1</th>\n",
       "      <td>OBSERVADO</td>\n",
       "      <td>0.410424</td>\n",
       "      <td>0.392338</td>\n",
       "      <td>0.369797</td>\n",
       "      <td>0.027121</td>\n",
       "      <td>0.026695</td>\n",
       "      <td>0.026019</td>\n",
       "      <td>231</td>\n",
       "    </tr>\n",
       "    <tr>\n",
       "      <th>2</th>\n",
       "      <td>QUITA</td>\n",
       "      <td>0.249383</td>\n",
       "      <td>0.249383</td>\n",
       "      <td>0.249383</td>\n",
       "      <td>0.038028</td>\n",
       "      <td>0.038028</td>\n",
       "      <td>0.038028</td>\n",
       "      <td>46</td>\n",
       "    </tr>\n",
       "  </tbody>\n",
       "</table>\n",
       "</div>"
      ],
      "text/plain": [
       "      estado    SDTP_1    SDTP_2    SDTP_3   EESDT_1   EESDT_2   EESDT_3  FREQ\n",
       "0     ABCAVE  0.234424  0.234106  0.234259  0.012865  0.012867  0.012895   333\n",
       "1  OBSERVADO  0.410424  0.392338  0.369797  0.027121  0.026695  0.026019   231\n",
       "2      QUITA  0.249383  0.249383  0.249383  0.038028  0.038028  0.038028    46"
      ]
     },
     "execution_count": 78,
     "metadata": {},
     "output_type": "execute_result"
    }
   ],
   "source": [
    "table_results.select(\"estado\",\"SDTP_1\",\"SDTP_2\",\"SDTP_3\",\"EESDT_1\",\"EESDT_2\",\"EESDT_3\",\"FREQ\").toPandas()"
   ]
  },
  {
   "cell_type": "code",
   "execution_count": 79,
   "metadata": {},
   "outputs": [
    {
     "data": {
      "text/plain": [
       "['estado',\n",
       " 'SDTP_1',\n",
       " 'SDTP_2',\n",
       " 'SDTP_3',\n",
       " 'SDTP_4',\n",
       " 'SDTP_5',\n",
       " 'SDTP_6',\n",
       " 'SDTP_7',\n",
       " 'SDTP_8',\n",
       " 'SDTP_9',\n",
       " 'SDTP_10',\n",
       " 'SDTP_11',\n",
       " 'SDTP_12',\n",
       " 'SDTP_13',\n",
       " 'SDTP_14',\n",
       " 'SDTP_15',\n",
       " 'SDTP_16',\n",
       " 'SDTP_17',\n",
       " 'SDTP_18',\n",
       " 'SDTP_19',\n",
       " 'SDTP_20',\n",
       " 'SDTP_21',\n",
       " 'SDTP_22',\n",
       " 'SDTP_23',\n",
       " 'SDTP_24',\n",
       " 'SDTP_25',\n",
       " 'SDTP_26',\n",
       " 'SDTP_27',\n",
       " 'SDTP_28',\n",
       " 'SDTP_29',\n",
       " 'SDTP_30',\n",
       " 'SDTP_31',\n",
       " 'SDTP_32',\n",
       " 'SDTP_33',\n",
       " 'SDTP_34',\n",
       " 'SDTP_35',\n",
       " 'SDTP_36',\n",
       " 'EESDT_1',\n",
       " 'EESDT_2',\n",
       " 'EESDT_3',\n",
       " 'EESDT_4',\n",
       " 'EESDT_5',\n",
       " 'EESDT_6',\n",
       " 'EESDT_7',\n",
       " 'EESDT_8',\n",
       " 'EESDT_9',\n",
       " 'EESDT_10',\n",
       " 'EESDT_11',\n",
       " 'EESDT_12',\n",
       " 'EESDT_13',\n",
       " 'EESDT_14',\n",
       " 'EESDT_15',\n",
       " 'EESDT_16',\n",
       " 'EESDT_17',\n",
       " 'EESDT_18',\n",
       " 'EESDT_19',\n",
       " 'EESDT_20',\n",
       " 'EESDT_21',\n",
       " 'EESDT_22',\n",
       " 'EESDT_23',\n",
       " 'EESDT_24',\n",
       " 'EESDT_25',\n",
       " 'EESDT_26',\n",
       " 'EESDT_27',\n",
       " 'EESDT_28',\n",
       " 'EESDT_29',\n",
       " 'EESDT_30',\n",
       " 'EESDT_31',\n",
       " 'EESDT_32',\n",
       " 'EESDT_33',\n",
       " 'EESDT_34',\n",
       " 'EESDT_35',\n",
       " 'EESDT_36',\n",
       " 'FREQ']"
      ]
     },
     "execution_count": 79,
     "metadata": {},
     "output_type": "execute_result"
    }
   ],
   "source": [
    "table_results.columns"
   ]
  },
  {
   "cell_type": "markdown",
   "metadata": {},
   "source": [
    "### Make contract (concat) and segment (classificate)"
   ]
  },
  {
   "cell_type": "markdown",
   "metadata": {},
   "source": [
    "**SAS** code:"
   ]
  },
  {
   "cell_type": "markdown",
   "metadata": {},
   "source": [
    "```sas\n",
    "/**** MACRO TABLAS INSUMOS ****/\n",
    "%MACRO IFRS9(CARTE,MES,APROV,LIBN,SALIDA,AA,MM);\n",
    "\n",
    "\tDATA &CARTE._&SALIDA._&MES.;\n",
    "\t\tSET &LIBN..F&APROV._MXMAEST_CONTR_V16_F4&AA.\n",
    "    /*\tF_CURR.IFRS9_MINORISTA_BE */\n",
    "        (KEEP =  CMCO_COD_COFICI CMCO_COD_CBANCO CMCO_COD_COFICI CMCO_NUM_CUOTIMP\n",
    "\t\t\t\t CMCO_COD_CCONTR CMCO_COD_FAMILIA \n",
    "\t\t\t\t CMCO_POR_PUNHER_SCO CMCO_PLZ_INCUMP_CLI CMCO_IND_STAGE_FINAL\n",
    "\t\t\t\t CMCO_COD_HERRAM_SCO CMCO_IMP_PROV_FINAL CMCO_IMP_RACREG_CON \n",
    "\t\t\t\t CMCO_IMP_DBLEDU_CON CMCO_IMP_SDFUBA_CON CMCO_IND_PREAPROB\n",
    "\t\t\t\t CMCO_IMP_EAD_ACTUAL  CMCO_IMP_LIMITE_CON CMCO_IMP_EAD_Y01 \n",
    "\t\t\t\t CMCO_POR_PD_MARGINAL CMCO_POR_LGD CMCO_POR_CCF\n",
    "\t\t\t\t CMCO_PLZ_INCUMP_CON CMCO_IND_REESTR_CON CMCO_POR_PD_LT_ACTUAL_ORIG CMCO_FEC_APERTURA\n",
    "\t\t\t\t CMCO_PLZ_TRANSCUR CMCO_IND_TIPO_MORA CMCO_COD_MOTIVO_TL\n",
    "\t\t\t\t CMCO_COD_CLAVE_PD CMCO_COD_CLAVE_LGD CMCO_COD_CLAVE_CCF\n",
    "\t\t\t\t CMCO_IND_REESTR_CON CMCO_POR_RIESGO_Y01\n",
    "\t\t\t\t CMCO_POR_DECAIM_EAD_Y01 CMCO_POR_TIPINT_INI CMCO_POR_EIR CMCO_IND_TIPINT &MM.\n",
    "\t\t\t\t\t\t\t\t\t\t\t\t\t\t\t\t\t\t\t\t\t\t\t\t\t\t\t\t\t\t\t);\n",
    "\n",
    "\n",
    "\t\tIF CMCO_COD_FAMILIA IN (&FAMILIAS.);\n",
    "\n",
    "\t\tformat CCONTUNI $18. CARTERA $20. ;\n",
    "\t/* Crea contrato */\n",
    "\t\tIF CMCO_COD_COFICI <=9 then CCONTUNI = \"00\"||trim(left(CMCO_COD_CBANCO))||\"000\"||trim(left(CMCO_COD_COFICI))||trim(left(CMCO_COD_CCONTR));\n",
    "\t\tELSE IF CMCO_COD_COFICI <=99 then CCONTUNI = \"00\"||trim(left(CMCO_COD_CBANCO))||\"00\"||trim(left(CMCO_COD_COFICI))||trim(left(CMCO_COD_CCONTR));\n",
    "\t\tELSE IF CMCO_COD_COFICI <=999 then CCONTUNI = \"00\"||trim(left(CMCO_COD_CBANCO))||\"0\"||trim(left(CMCO_COD_COFICI))||trim(left(CMCO_COD_CCONTR));\n",
    "\t\tELSE IF CMCO_COD_COFICI <=9999 then CCONTUNI = \"00\"||trim(left(CMCO_COD_CBANCO))||trim(left(CMCO_COD_COFICI))||trim(left(CMCO_COD_CCONTR));\n",
    "\n",
    "\t/* Crea segmento */\n",
    "\t\tIF cmco_cod_familia in ('0010003' '0010004' '0010005') then CARTERA = 'TdC Banco';\n",
    "\t\tIF cmco_cod_familia in ('0010006' '0010007') then CARTERA =  \"TdC Finanzia\";\n",
    "\t\tIF cmco_cod_familia in ('0010008') then CARTERA =  \"TdC Infinity\";\n",
    "\n",
    "\t\tIF CMCO_COD_FAMILIA IN ('0020101' '0020102' '0020501' '0020701') THEN CARTERA = 'Personal';\n",
    "\t\tIF CMCO_COD_FAMILIA IN ('0020201' '0020202' ) THEN CARTERA = 'Nomina';\n",
    "\t\tIF CMCO_COD_FAMILIA IN ('0020901' ) THEN CARTERA = 'Nomina Pemex';\n",
    "\t\tIF CMCO_COD_FAMILIA IN ('0020301' '0020302' '0020401' '0020801') THEN CARTERA = 'Autos';\n",
    "\t\tIF CMCO_COD_FAMILIA IN ('0020601' '0020602' '0020603' '0020604' '0020605' '0020606') THEN CARTERA = 'Consumo Otros';\n",
    "\n",
    "\t\tCUOTAS_IMP = CMCO_NUM_CUOTIMP * 1;\n",
    "\n",
    "\tRUN; \n",
    "\n",
    "%MEND;\n",
    "%IFRS9(&CART.,&MES2.,&APROV2.,F_CURR  ,FIN ,_F, MARCA);\n",
    "```"
   ]
  },
  {
   "cell_type": "markdown",
   "metadata": {},
   "source": [
    "**Spark** code:"
   ]
  },
  {
   "cell_type": "code",
   "execution_count": 80,
   "metadata": {},
   "outputs": [],
   "source": [
    "from pyspark import SparkContext\n",
    "from pyspark.sql import SQLContext\n",
    "sqlContext = SQLContext(sc)\n",
    "import pyspark.sql.functions as F\n",
    "from pyspark.sql.functions import col as c\n",
    "import json\n",
    "import itertools\n",
    "from pyspark.sql.types import StringType,FloatType, IntegerType\n",
    "from pyspark.sql.window import Window\n",
    "from functools import reduce\n",
    "\n",
    "from Utils import Utils"
   ]
  },
  {
   "cell_type": "code",
   "execution_count": 81,
   "metadata": {},
   "outputs": [],
   "source": [
    "#read data\n",
    "all_ifrs9_df = sqlContext.read.format(\"csv\").option(\"header\", \"true\").load('data/Jul_2018.csv')\n",
    "#read params\n",
    "names = \"data/schemaNames.json\"\n",
    "names_json = Utils.load_json(names)\n",
    "params = \"data/params.json\"\n",
    "params_json = Utils.load_json(params)\n",
    "#choose selected columns\n",
    "old_columns = list(names_json.keys())\n",
    "new_columns = [names_json[i] for i in old_columns]\n",
    "all_ifrs9_df = reduce(lambda all_ifrs9_df, idx: all_ifrs9_df.withColumnRenamed(old_columns[idx], new_columns[idx]), range(len(old_columns)), all_ifrs9_df)\n",
    "#choose working fields\n",
    "fields = params_json[\"working_fields\"]\n",
    "ifrs9_df = all_ifrs9_df.select(*fields)"
   ]
  },
  {
   "cell_type": "code",
   "execution_count": 84,
   "metadata": {},
   "outputs": [],
   "source": [
    "# When family_id belongs to any of the members of \"portfolios\"\n",
    "column_family = F.col(\"family_id\")\n",
    "meta_con = [ F.when(\n",
    "        column_family.isin(y[\"portfolio\"]),y[\"name\"])\n",
    "            for x,y in params_json[\"portfolios\"].items()]\n",
    "\n",
    "ifrs9_cartera_df = ifrs9_df.select(*fields,\n",
    "    Utils.recursive_when(meta_con,len(meta_con)-1).alias(\"Cartera\")\n",
    "                                   )\n",
    "#CCountuni\n",
    "ccountuni= F.when(c('branch_id') <= 9, \n",
    "     F.concat(F.lit(\"00\"),c(\"entity_id\"),F.lit(\"000\"),c('branch_id'),c('contract_number_id'))).otherwise(\n",
    "     F.when(c('branch_id') <= 99,\n",
    "     F.concat(F.lit(\"00\"),c(\"entity_id\"),F.lit(\"00\"),c('branch_id'),c('contract_number_id'))).otherwise(\n",
    "     F.when(c('branch_id') <= 999,\n",
    "     F.concat(F.lit(\"00\"),c(\"entity_id\"),F.lit(\"0\"),c('branch_id'),c('contract_number_id'))).otherwise(\n",
    "     F.when(c('branch_id') <= 9999,\n",
    "     F.concat(F.lit(\"00\"),c(\"entity_id\"),c('branch_id'),c('contract_number_id'))).otherwise(None\n",
    "    )))).alias(\"ccountuni\")\n",
    "\n",
    "ifrs9_cartera_ccountuni_df = ifrs9_cartera_df.select('*',\n",
    "                       ccountuni\n",
    "                       )"
   ]
  },
  {
   "cell_type": "code",
   "execution_count": 85,
   "metadata": {},
   "outputs": [
    {
     "data": {
      "text/html": [
       "<div>\n",
       "<style scoped>\n",
       "    .dataframe tbody tr th:only-of-type {\n",
       "        vertical-align: middle;\n",
       "    }\n",
       "\n",
       "    .dataframe tbody tr th {\n",
       "        vertical-align: top;\n",
       "    }\n",
       "\n",
       "    .dataframe thead th {\n",
       "        text-align: right;\n",
       "    }\n",
       "</style>\n",
       "<table border=\"1\" class=\"dataframe\">\n",
       "  <thead>\n",
       "    <tr style=\"text-align: right;\">\n",
       "      <th></th>\n",
       "      <th>family_id</th>\n",
       "      <th>Cartera</th>\n",
       "    </tr>\n",
       "  </thead>\n",
       "  <tbody>\n",
       "    <tr>\n",
       "      <th>0</th>\n",
       "      <td>0000027</td>\n",
       "      <td>None</td>\n",
       "    </tr>\n",
       "    <tr>\n",
       "      <th>1</th>\n",
       "      <td>0000027</td>\n",
       "      <td>None</td>\n",
       "    </tr>\n",
       "    <tr>\n",
       "      <th>2</th>\n",
       "      <td>0000027</td>\n",
       "      <td>None</td>\n",
       "    </tr>\n",
       "    <tr>\n",
       "      <th>3</th>\n",
       "      <td>0000027</td>\n",
       "      <td>None</td>\n",
       "    </tr>\n",
       "    <tr>\n",
       "      <th>4</th>\n",
       "      <td>0000027</td>\n",
       "      <td>None</td>\n",
       "    </tr>\n",
       "    <tr>\n",
       "      <th>5</th>\n",
       "      <td>0000027</td>\n",
       "      <td>None</td>\n",
       "    </tr>\n",
       "    <tr>\n",
       "      <th>6</th>\n",
       "      <td>0000027</td>\n",
       "      <td>None</td>\n",
       "    </tr>\n",
       "    <tr>\n",
       "      <th>7</th>\n",
       "      <td>0000027</td>\n",
       "      <td>None</td>\n",
       "    </tr>\n",
       "    <tr>\n",
       "      <th>8</th>\n",
       "      <td>0000027</td>\n",
       "      <td>None</td>\n",
       "    </tr>\n",
       "    <tr>\n",
       "      <th>9</th>\n",
       "      <td>0000027</td>\n",
       "      <td>None</td>\n",
       "    </tr>\n",
       "  </tbody>\n",
       "</table>\n",
       "</div>"
      ],
      "text/plain": [
       "  family_id Cartera\n",
       "0   0000027    None\n",
       "1   0000027    None\n",
       "2   0000027    None\n",
       "3   0000027    None\n",
       "4   0000027    None\n",
       "5   0000027    None\n",
       "6   0000027    None\n",
       "7   0000027    None\n",
       "8   0000027    None\n",
       "9   0000027    None"
      ]
     },
     "execution_count": 85,
     "metadata": {},
     "output_type": "execute_result"
    }
   ],
   "source": [
    "ifrs9_cartera_df.select(\"family_id\", \"Cartera\").limit(10).toPandas()"
   ]
  },
  {
   "cell_type": "code",
   "execution_count": 86,
   "metadata": {},
   "outputs": [
    {
     "data": {
      "text/plain": [
       "[Column<b'CASE WHEN (family_id IN (0010003, 0010004, 0010005)) THEN TdC banco END'>,\n",
       " Column<b'CASE WHEN (family_id IN (0010006, 0010007)) THEN TdC finanzia END'>,\n",
       " Column<b'CASE WHEN (family_id IN (0010008)) THEN TdC infinity END'>,\n",
       " Column<b'CASE WHEN (family_id IN (0020101, 0020102, 0020501, 0020701)) THEN Personal END'>,\n",
       " Column<b'CASE WHEN (family_id IN (0020201, 0020202)) THEN Nomina END'>,\n",
       " Column<b'CASE WHEN (family_id IN (0020901)) THEN Nomina Pemex END'>,\n",
       " Column<b'CASE WHEN (family_id IN (0020301, 0020302, 0020401, 0020801)) THEN Autos END'>,\n",
       " Column<b'CASE WHEN (family_id IN (0020601, 0020602, 0020603, 0020604, 0020605, 0020606)) THEN Consumo Otros END'>]"
      ]
     },
     "execution_count": 86,
     "metadata": {},
     "output_type": "execute_result"
    }
   ],
   "source": [
    "meta_con"
   ]
  },
  {
   "cell_type": "code",
   "execution_count": 87,
   "metadata": {},
   "outputs": [
    {
     "data": {
      "text/html": [
       "<div>\n",
       "<style scoped>\n",
       "    .dataframe tbody tr th:only-of-type {\n",
       "        vertical-align: middle;\n",
       "    }\n",
       "\n",
       "    .dataframe tbody tr th {\n",
       "        vertical-align: top;\n",
       "    }\n",
       "\n",
       "    .dataframe thead th {\n",
       "        text-align: right;\n",
       "    }\n",
       "</style>\n",
       "<table border=\"1\" class=\"dataframe\">\n",
       "  <thead>\n",
       "    <tr style=\"text-align: right;\">\n",
       "      <th></th>\n",
       "      <th>ccountuni</th>\n",
       "    </tr>\n",
       "  </thead>\n",
       "  <tbody>\n",
       "    <tr>\n",
       "      <th>0</th>\n",
       "      <td>0050000100374</td>\n",
       "    </tr>\n",
       "    <tr>\n",
       "      <th>1</th>\n",
       "      <td>0050000101228</td>\n",
       "    </tr>\n",
       "    <tr>\n",
       "      <th>2</th>\n",
       "      <td>0050000101433</td>\n",
       "    </tr>\n",
       "    <tr>\n",
       "      <th>3</th>\n",
       "      <td>0050000101436</td>\n",
       "    </tr>\n",
       "    <tr>\n",
       "      <th>4</th>\n",
       "      <td>0050000101441</td>\n",
       "    </tr>\n",
       "    <tr>\n",
       "      <th>5</th>\n",
       "      <td>0050000101475</td>\n",
       "    </tr>\n",
       "    <tr>\n",
       "      <th>6</th>\n",
       "      <td>0050000101485</td>\n",
       "    </tr>\n",
       "    <tr>\n",
       "      <th>7</th>\n",
       "      <td>0050000101499</td>\n",
       "    </tr>\n",
       "    <tr>\n",
       "      <th>8</th>\n",
       "      <td>0050000101517</td>\n",
       "    </tr>\n",
       "    <tr>\n",
       "      <th>9</th>\n",
       "      <td>0050000101521</td>\n",
       "    </tr>\n",
       "  </tbody>\n",
       "</table>\n",
       "</div>"
      ],
      "text/plain": [
       "       ccountuni\n",
       "0  0050000100374\n",
       "1  0050000101228\n",
       "2  0050000101433\n",
       "3  0050000101436\n",
       "4  0050000101441\n",
       "5  0050000101475\n",
       "6  0050000101485\n",
       "7  0050000101499\n",
       "8  0050000101517\n",
       "9  0050000101521"
      ]
     },
     "execution_count": 87,
     "metadata": {},
     "output_type": "execute_result"
    }
   ],
   "source": [
    "ifrs9_cartera_ccountuni_df.select(\"ccountuni\").limit(10).toPandas()"
   ]
  },
  {
   "cell_type": "markdown",
   "metadata": {},
   "source": [
    "### Profiles"
   ]
  },
  {
   "cell_type": "markdown",
   "metadata": {},
   "source": [
    "**SAS** code:"
   ]
  },
  {
   "cell_type": "markdown",
   "metadata": {},
   "source": [
    "\n",
    "```sas\n",
    "proc transpose data=aux_tmens out=tmens_tr prefix=cohor_;\n",
    "by cod_cclien;\n",
    "var p_ventas;\n",
    "id orden;\n",
    "run;\n",
    "\n",
    "\n",
    "%let na5 = 2005;  %let na6 = 2006;  %let na7 = 2007;\n",
    "%let na8 = 2008;  %let na9 = 2009;  %let na10 = 2010;\n",
    "%let na11 = 2011; %let na12 = 2012; %let na13 = 2013;\n",
    "%let na14 = 2014; %let na15 = 2015; %let NA16 = 2016;\n",
    "\n",
    "%let nmes1 = 01;  %let nmes2=02;    %let nmes3 = 03;\n",
    "%let nmes4 = 04;  %let nmes5 = 05;  %let nmes6 = 06;\n",
    "%let nmes7 = 07;  %let nmes8 = 08;  %let nmes9 = 09;\n",
    "%let nmes10 = 10; %let nmes11 = 11; %let nmes12 = 12;\n",
    "\n",
    "data tmens_tr;\n",
    "format  cod_cclien\n",
    "\t\tcohor_200501 - cohor_200512\n",
    "\t\tcohor_200601 - cohor_200612\n",
    "\t\tcohor_200701 - cohor_200712\n",
    "\t\tcohor_200801 - cohor_200812\n",
    "\t\tcohor_200901 - cohor_200912\n",
    "\t\tcohor_201001 - cohor_201012\n",
    "\t\tcohor_201101 - cohor_201112\n",
    "\t\tcohor_201201 - cohor_201212\n",
    "\t\tcohor_201301 - cohor_201312\n",
    "\t\tcohor_201401 - cohor_201412\n",
    "\t\tcohor_201501 - cohor_201512\n",
    "\t\tcohor_201601 - cohor_201612\n",
    ";\n",
    "\n",
    "\n",
    "set tmens_tr;\n",
    "\n",
    "\n",
    "RUN;\n",
    "\n",
    "\n",
    "%MACRO PERFIL;\n",
    "\n",
    "DATA AUX;\n",
    "SET TMENS_TR;\n",
    "\n",
    "FORMAT \t%DO i= 5 %to 16;\n",
    "\t\t\t%DO J=1 %TO 12;\n",
    "\t\t\t\tCOHOR_&&NA&I.&&NMES&J $15.\n",
    "\t\t\t%END;\n",
    "\t\t%END;\n",
    ";\n",
    "\n",
    "\t%DO i= 5 %to 15;\n",
    "\t\t%LET K=%EVAL(&i.+1);\n",
    "\t\t\n",
    "\t\t%DO J=1 %TO 12;\n",
    "\t\t\t%IF &i. Le 15 %THEN %DO;\n",
    "\t\t\tIF COHOR_&&NA&K&&NMES&j EQ \"\"  THEN DO; \n",
    "\t\t\t\t\t\t\t\t\t\t\t\tCOHOR_&&NA&K&&NMES&j = COHOR_&&NA&I.&&NMES12;\n",
    "\t\t\t\t\t\t\t\t\t\t\t\tEND;\n",
    "\t\t\t\t\t\t\t\t%END;\n",
    "\t\t%END;\n",
    "\t%END;\n",
    "\n",
    "\t%LET i=5;\n",
    "\n",
    "\t%DO J=1 %TO 12;\n",
    "\t\t\t%IF &i. Le 15 %THEN %DO;\n",
    "\t\t\tIF COHOR_&&NA&i&&NMES&j EQ \"\"  THEN DO; \n",
    "\t\t\t\t\t\t\t\t\t\t\t\tCOHOR_&&NA&i&&NMES&j = COHOR_&&NA&I.&&NMES12;\n",
    "\t\t\t\t\t\t\t\t\t\t\t\tEND;\n",
    "\t\t\t\t\t\t\t\t%END;\n",
    "\t%END;\n",
    "\n",
    "RUN;\n",
    "\n",
    "\n",
    "data AUX_perfiles;\n",
    "\n",
    "FORMAT cod_cclien\t%DO i= 5 %to 16;\n",
    "\t\t\t%DO J=1 %TO 12;\n",
    "\t\t\t\tCOHOR_&&NA&I.&&NMES&J $15.\n",
    "\t\t\t%END;\n",
    "\t\t%END;\n",
    ";\n",
    "SET AUX;\n",
    "run;\n",
    "\n",
    "%MEND;\n",
    "\n",
    "%PERFIL;\n",
    "\n",
    "proc transpose data=aux_perfiles out= perf_tmens prefix=perfil_;\n",
    "by cod_cclien;\n",
    "var cohor_200501 - cohor_200512\n",
    "\tcohor_200601 - cohor_200612\n",
    "\tcohor_200701 - cohor_200712\n",
    "\tcohor_200801 - cohor_200812\n",
    "\tcohor_200901 - cohor_200912\n",
    "\tcohor_201001 - cohor_201012\n",
    "\tcohor_201101 - cohor_201112\n",
    "\tcohor_201201 - cohor_201212\n",
    "\tcohor_201301 - cohor_201312\n",
    "\tcohor_201401 - cohor_201412\n",
    "\tcohor_201501 - cohor_201512\n",
    "\t\n",
    ";\n",
    "run;\n",
    "\n",
    "```"
   ]
  },
  {
   "cell_type": "markdown",
   "metadata": {},
   "source": [
    "**Spark** code:"
   ]
  },
  {
   "cell_type": "code",
   "execution_count": 88,
   "metadata": {},
   "outputs": [],
   "source": [
    "aux_tmens_df=spark.read.parquet(\"data/AUX_TMENS_DF.parquet\")"
   ]
  },
  {
   "cell_type": "code",
   "execution_count": 89,
   "metadata": {},
   "outputs": [],
   "source": [
    "from pyspark.sql.types import *"
   ]
  },
  {
   "cell_type": "code",
   "execution_count": 90,
   "metadata": {},
   "outputs": [
    {
     "name": "stdout",
     "output_type": "stream",
     "text": [
      "+--------+------+-----------+\n",
      "| CLIENTE| ORDEN|   P_VENTAS|\n",
      "+--------+------+-----------+\n",
      "|02418800|200712|CORPORATIVO|\n",
      "|02418800|200512|CORPORATIVO|\n",
      "|02418800|200812|CORPORATIVO|\n",
      "|02418800|200612|CORPORATIVO|\n",
      "+--------+------+-----------+\n",
      "\n"
     ]
    }
   ],
   "source": [
    "aux_tmens_df.filter(\"CLIENTE='02418800'\").select(\n",
    "    \"CLIENTE\",\n",
    "    \"ORDEN\",\n",
    "    \"P_VENTAS\"\n",
    ").show()"
   ]
  },
  {
   "cell_type": "code",
   "execution_count": 91,
   "metadata": {},
   "outputs": [],
   "source": [
    "def fn_fill_years(l_orden, l_perfil):\n",
    "    l_years=[200512, 200612, 200712, 200812, 200912, 201012, 201112, 201212, 201312, 201412, 201512]\n",
    "    l_tmp=[]\n",
    "    i=0\n",
    "##Completar los 11 años por cliente\n",
    "    for x in l_years:\n",
    "        if any(x==j for j in l_orden):\n",
    "            i+=1    \n",
    "            l_tmp.append(str(x)+\"|\"+l_perfil[i-1])\n",
    "        else:\n",
    "            l_tmp.append(str(x)+\"|\")\n",
    "    return l_tmp"
   ]
  },
  {
   "cell_type": "code",
   "execution_count": 92,
   "metadata": {},
   "outputs": [],
   "source": [
    "def fn_fill_months_year(perfil_act,perfil_sig,anio,inicio,l_final):\n",
    "    if inicio:\n",
    "        for x in range(1,13):\n",
    "#            if (x == 12) & (perfil_act != \"\"):\n",
    "#                l_final.append(str((anio+2005)*100+x)+\"|\"+perfil_act)\n",
    "            if perfil_act != \"\":\n",
    "                l_final.append(str((anio+2005)*100+x)+\"|\"+perfil_act)\n",
    "            else:\n",
    "                l_final.append(str((anio+2005)*100+x)+\"|\")\n",
    "    else:\n",
    "        for x in range(1,13):\n",
    "            if (x == 12) & (perfil_sig != \"\"):\n",
    "                l_final.append(str((anio+2005)*100+x)+\"|\"+perfil_sig)\n",
    "            else:\n",
    "                l_final.append(str((anio+2005)*100+x)+\"|\"+perfil_act)           "
   ]
  },
  {
   "cell_type": "code",
   "execution_count": 93,
   "metadata": {},
   "outputs": [],
   "source": [
    "def fn_fill_profile(l_order, l_profile):\n",
    "    l_tmp_orden=fn_fill_years(l_order, l_profile)\n",
    "    actual=None\n",
    "    siguiente=None\n",
    "    num_orden=len(l_tmp_orden)\n",
    "    inicio=True\n",
    "    l_final=[]\n",
    "    inicio=True\n",
    "    for i in range(0,num_orden-1):\n",
    "        actual=l_tmp_orden[i].split(\"|\")\n",
    "        perfil_act=actual[1]\n",
    "        orden_act=actual[0]\n",
    "    \n",
    "        siguiente=l_tmp_orden[i+1].split(\"|\")\n",
    "        perfil_sig=siguiente[1]\n",
    "        orden_sig=siguiente[0]\n",
    "        if inicio:        \n",
    "            fn_fill_months_year(perfil_act,perfil_sig,i,inicio,l_final)        \n",
    "            inicio=False\n",
    "        if perfil_sig == \"\":\n",
    "            l_tmp_orden[i+1]=orden_sig+\"|\"+perfil_act\n",
    "        fn_fill_months_year(perfil_act,perfil_sig,i+1,inicio,l_final)\n",
    "    return l_final\n",
    "udf_fn_fill_profile=F.udf(lambda l_order,l_profile: fn_fill_profile(l_order,l_profile), ArrayType(StringType()))"
   ]
  },
  {
   "cell_type": "code",
   "execution_count": 94,
   "metadata": {},
   "outputs": [],
   "source": [
    "profiles_df=aux_tmens_df.orderBy(\"CLIENTE\",\"ORDEN\").groupBy(\"CLIENTE\").agg(\n",
    "    F.collect_list(\"ORDEN\").alias(\"ORDEN\"),F.collect_list(\"P_VENTAS\").alias(\"P_VENTAS\")\n",
    ")"
   ]
  },
  {
   "cell_type": "code",
   "execution_count": null,
   "metadata": {},
   "outputs": [],
   "source": [
    "profiles_df.limit(10).show()"
   ]
  },
  {
   "cell_type": "code",
   "execution_count": 97,
   "metadata": {},
   "outputs": [],
   "source": [
    "def fn_split_by(column,char_split,index):\n",
    "    return column.split(char_split)[index]\n",
    "udf_fn_split_by=F.udf(fn_split_by,StringType())"
   ]
  },
  {
   "cell_type": "code",
   "execution_count": 98,
   "metadata": {},
   "outputs": [],
   "source": [
    "profiles_df=profiles_df.select(\n",
    "    \"CLIENTE\",F.explode(udf_fn_fill_profile(F.col(\"ORDEN\"),F.col(\"P_VENTAS\"))).alias(\"X\")\n",
    ").select(\n",
    "    F.col(\"CLIENTE\"),\n",
    "    udf_fn_split_by(F.col(\"X\"),F.lit(\"|\"),F.lit(0)).alias(\"ORDEN\"),\n",
    "    udf_fn_split_by(F.col(\"X\"),F.lit(\"|\"),F.lit(1)).alias(\"P_VENTAS\")\n",
    ").select(\n",
    "    F.col(\"CLIENTE\"),\n",
    "    F.col(\"ORDEN\"),\n",
    "    F.when(F.col(\"P_VENTAS\")=='',None).otherwise(F.col(\"P_VENTAS\")).alias(\"P_VENTAS\")\n",
    ")"
   ]
  },
  {
   "cell_type": "code",
   "execution_count": null,
   "metadata": {},
   "outputs": [],
   "source": [
    "profiles_df.filter(\"CLIENTE='02418800'\").limit(50).toPandas()"
   ]
  },
  {
   "cell_type": "markdown",
   "metadata": {},
   "source": [
    "### Curva Media Ponderada"
   ]
  },
  {
   "cell_type": "markdown",
   "metadata": {},
   "source": [
    "**SAS** code:"
   ]
  },
  {
   "cell_type": "markdown",
   "metadata": {},
   "source": [
    "```sas\n",
    "/*GENERAMOS LA CURVAS MEDIAS PONDERADAS*/\n",
    "%MACRO CURVA_MEDPOND (BIN, BOUT, ETIQUETA, CONDICION);\n",
    "PROC SUMMARY DATA=&BIN. ORDER=INTERNAL NWAY MISSING;\n",
    "WHERE &CONDICION.;\n",
    "OUTPUT  OUT=SUMA_&BOUT.\n",
    "%DO I=1 %TO 84;\n",
    "SUM(PESO_&I.)=\n",
    "SUM(&ETIQUETA._&I.)=\n",
    "%END;\n",
    ";\n",
    "RUN;\n",
    "\n",
    "/*GENERAMOS LA CURVA MEDIA PONDERADA POR PESO OUTLIER*/\n",
    "DATA  &BOUT. (DROP=PESO_:);\n",
    "       SET SUMA_&BOUT.;\n",
    "\t   ARRAY P(84) PESO_1 - PESO_84;\n",
    "\t   ARRAY LGD(84) &ETIQUETA._1 - &ETIQUETA._84;\n",
    "\t   \tDO I=1 TO 84;\n",
    " \t\t\tIF P(I) > 0 THEN LGD(I)=LGD(I)/P(I);\n",
    "\t\t\tELSE LGD(I)=.;\n",
    "\t\tEND;\n",
    "\t\t\tDO I=2 TO 84;\n",
    "\t\t\t\t\n",
    "\t\t\t\n",
    "\t\t\t\tIF LGD(I) < LGD(I-1) AND I <= ULTMES_INF THEN DO;\n",
    "\t\t\t\t\tLGD(I)=MAX( LGD(I-1), LGD(I) );\n",
    "\t\t\t\t\tCORR_TENDENCIA='S';\n",
    "\t\t\t\tEND;\n",
    "\t\t\t\tIF LGD(I) > 1.5 THEN DO;\n",
    "\t\t\t\t\tLGD(I)=1.5;\n",
    "\t\t\t\t\tACOT_TENDENCIA='S';\n",
    "\t\t\t\tEND;\n",
    "\t\t\t\tIF . < LGD(I) < -2 THEN DO;\n",
    "\t\t\t\t\tLGD(I)=-2;\n",
    "\t\t\t\t\tACOT_TENDENCIA='I';\n",
    "\t\t\t\tEND;\n",
    "\t\tEND;\t\t\n",
    "RUN;\n",
    "%MEND;\n",
    "\n",
    "```"
   ]
  },
  {
   "cell_type": "markdown",
   "metadata": {},
   "source": [
    "**Spark** code:"
   ]
  },
  {
   "cell_type": "code",
   "execution_count": 100,
   "metadata": {},
   "outputs": [],
   "source": [
    "    def fn_get_columns(tag, start, end):\n",
    "        return [tag+str(x) for x in range(start,end+1)]"
   ]
  },
  {
   "cell_type": "code",
   "execution_count": 101,
   "metadata": {},
   "outputs": [],
   "source": [
    "    def fn_extract_columns(root_column, column_name, start, end):\n",
    "        l_columns=[]\n",
    "        for i in range(start,end+1):\n",
    "            l_columns.append(F.col(root_column)[column_name + str(i)].alias(column_name + str(i)))\n",
    "        return l_columns\n",
    "\n",
    "    def fn_curva_medpond_part_1(l_lgd, l_peso):#, last_month_inf):\n",
    "        l_lgd_tmp=[]\n",
    "        corr_tendencia=None\n",
    "        acot_tendencia=None\n",
    "        for i in range(0,84):\n",
    "            #Le haces una copia a la lista de lgd\n",
    "            l_lgd_tmp.append(l_lgd[i])\n",
    "            \n",
    "            if Utils.fn_is_null(l_peso[i],0) > 0:\n",
    "                l_lgd_tmp[i]=Utils.fn_safe_div(l_lgd_tmp[i],l_peso[i])\n",
    "            else:\n",
    "                l_lgd_tmp[i]=None\n",
    "            if i > 0:\n",
    "                if (Utils.fn_is_null(l_lgd_tmp[i],0) < Utils.fn_is_null(l_lgd_tmp[i-1],0)) :#& (i < last_month_inf) :\n",
    "                    l_lgd_tmp[i]=Utils.fn_max(l_lgd_tmp[i-1],l_lgd_tmp[i])\n",
    "                    corr_tendencia=\"S\"\n",
    "                if Utils.fn_is_null(l_lgd_tmp[i],0) > 1.5:\n",
    "                    l_lgd_tmp[i]=1.5\n",
    "                    acot_tendencia=\"S\"\n",
    "                if (l_lgd_tmp[i] is not None) & (Utils.fn_is_null(l_lgd_tmp[i],0) < -2):\n",
    "                    l_lgd_tmp[i]=-2\n",
    "                    acot_tendencia=\"I\"\n",
    "        l_lgd_tmp.append(corr_tendencia)\n",
    "        l_lgd_tmp.append(acot_tendencia)\n",
    "        return l_lgd_tmp\n",
    "    \n",
    "    def fn_curva_medpond(df_source, tag, condition):\n",
    "        #l_columns=[x for x in df_source.columns if re.search(\"(PESO|\"+tag+\")\\_[0-9]{1,2}\",x) is None]\n",
    "        l_cols_peso=[F.sum(\"PESO\"+\"_\"+str(x)).alias(\"PESO\"+\"_\"+str(x)) for x in range(1,85)]\n",
    "        l_cols_lgd=[F.sum(tag+\"_\"+str(x)).alias(tag+\"_\"+str(x)) for x in range(1,85)]\n",
    "        \n",
    "        df_source_sum=df_source.filter(condition).agg(\n",
    "            *l_cols_peso,\n",
    "            *l_cols_lgd\n",
    "            )\n",
    "        \n",
    "        l_lgd=fn_get_columns(tag + \"_\", 1, 84)\n",
    "        l_peso=fn_get_columns(\"PESO_\", 1, 84)\n",
    "        \n",
    "        l_fields=[StructField(x,DoubleType(),True) for x in l_lgd]\n",
    "        l_fields.append(StructField(\"CORR_TENDENCIA\",DoubleType(),True))\n",
    "        l_fields.append(StructField(\"ACOT_TENDENCIA\",DoubleType(),True))\n",
    "        schema_lgd=StructType(l_fields)\n",
    "        \n",
    "        udf_fn_curva_medpond_part_1=F.udf(fn_curva_medpond_part_1,schema_lgd)\n",
    "        \n",
    "        return df_source_sum.select(\n",
    "            udf_fn_curva_medpond_part_1(F.struct(l_lgd),F.struct(l_peso)#, F.col(\"ULTMES_INF\")\n",
    "                                ).alias(\"LGDS\")\n",
    "        ).select(\n",
    "            F.col(\"LGDS\")[\"CORR_TENDENCIA\"].alias(\"CORR_TENDENCIA\"),\n",
    "            F.col(\"LGDS\")[\"ACOT_TENDENCIA\"].alias(\"ACOT_TENDENCIA\"),\n",
    "            *fn_extract_columns(\"LGDS\", tag + \"_\", 1, 84)\n",
    "        )"
   ]
  },
  {
   "cell_type": "code",
   "execution_count": 102,
   "metadata": {},
   "outputs": [],
   "source": [
    "curvas_x_ciclo_df=sqlContext.read.parquet(\"data/CURVAS_X_CICLO_DF.parquet\")"
   ]
  },
  {
   "cell_type": "code",
   "execution_count": 103,
   "metadata": {},
   "outputs": [],
   "source": [
    "c_when= (F.col(\"PERFIL_VENTAS\") == F.lit(\"EMPRESARIAL\")) & F.col(\"GAR_ELEGIBLE\").isNull()\n",
    "curva_emp_nogar_antinf_df=fn_curva_medpond(curvas_x_ciclo_df,\"LGDCP\",c_when).select(\"*\",F.lit(\"EMP_NOGAR\").alias(\"SEGMENTO\"))\n",
    "#SAS\n",
    "#1"
   ]
  },
  {
   "cell_type": "code",
   "execution_count": 104,
   "metadata": {
    "scrolled": true
   },
   "outputs": [
    {
     "data": {
      "text/html": [
       "<div>\n",
       "<style scoped>\n",
       "    .dataframe tbody tr th:only-of-type {\n",
       "        vertical-align: middle;\n",
       "    }\n",
       "\n",
       "    .dataframe tbody tr th {\n",
       "        vertical-align: top;\n",
       "    }\n",
       "\n",
       "    .dataframe thead th {\n",
       "        text-align: right;\n",
       "    }\n",
       "</style>\n",
       "<table border=\"1\" class=\"dataframe\">\n",
       "  <thead>\n",
       "    <tr style=\"text-align: right;\">\n",
       "      <th></th>\n",
       "      <th>CORR_TENDENCIA</th>\n",
       "      <th>ACOT_TENDENCIA</th>\n",
       "      <th>LGDCP_1</th>\n",
       "      <th>LGDCP_2</th>\n",
       "      <th>LGDCP_3</th>\n",
       "      <th>LGDCP_4</th>\n",
       "      <th>LGDCP_5</th>\n",
       "      <th>LGDCP_6</th>\n",
       "      <th>LGDCP_7</th>\n",
       "      <th>LGDCP_8</th>\n",
       "      <th>...</th>\n",
       "      <th>LGDCP_76</th>\n",
       "      <th>LGDCP_77</th>\n",
       "      <th>LGDCP_78</th>\n",
       "      <th>LGDCP_79</th>\n",
       "      <th>LGDCP_80</th>\n",
       "      <th>LGDCP_81</th>\n",
       "      <th>LGDCP_82</th>\n",
       "      <th>LGDCP_83</th>\n",
       "      <th>LGDCP_84</th>\n",
       "      <th>SEGMENTO</th>\n",
       "    </tr>\n",
       "  </thead>\n",
       "  <tbody>\n",
       "    <tr>\n",
       "      <th>0</th>\n",
       "      <td>None</td>\n",
       "      <td>None</td>\n",
       "      <td>0.593868</td>\n",
       "      <td>0.611014</td>\n",
       "      <td>0.65748</td>\n",
       "      <td>0.702431</td>\n",
       "      <td>0.727555</td>\n",
       "      <td>0.73675</td>\n",
       "      <td>0.7484</td>\n",
       "      <td>0.753374</td>\n",
       "      <td>...</td>\n",
       "      <td>0.985943</td>\n",
       "      <td>0.985943</td>\n",
       "      <td>0.985943</td>\n",
       "      <td>0.985943</td>\n",
       "      <td>0.985943</td>\n",
       "      <td>0.985943</td>\n",
       "      <td>0.985943</td>\n",
       "      <td>0.985943</td>\n",
       "      <td>0.985981</td>\n",
       "      <td>EMP_NOGAR</td>\n",
       "    </tr>\n",
       "  </tbody>\n",
       "</table>\n",
       "<p>1 rows × 87 columns</p>\n",
       "</div>"
      ],
      "text/plain": [
       "  CORR_TENDENCIA ACOT_TENDENCIA   LGDCP_1   LGDCP_2  LGDCP_3   LGDCP_4  \\\n",
       "0           None           None  0.593868  0.611014  0.65748  0.702431   \n",
       "\n",
       "    LGDCP_5  LGDCP_6  LGDCP_7   LGDCP_8    ...      LGDCP_76  LGDCP_77  \\\n",
       "0  0.727555  0.73675   0.7484  0.753374    ...      0.985943  0.985943   \n",
       "\n",
       "   LGDCP_78  LGDCP_79  LGDCP_80  LGDCP_81  LGDCP_82  LGDCP_83  LGDCP_84  \\\n",
       "0  0.985943  0.985943  0.985943  0.985943  0.985943  0.985943  0.985981   \n",
       "\n",
       "    SEGMENTO  \n",
       "0  EMP_NOGAR  \n",
       "\n",
       "[1 rows x 87 columns]"
      ]
     },
     "execution_count": 104,
     "metadata": {},
     "output_type": "execute_result"
    }
   ],
   "source": [
    "curva_emp_nogar_antinf_df.toPandas()"
   ]
  },
  {
   "cell_type": "markdown",
   "metadata": {},
   "source": [
    "### Scope"
   ]
  },
  {
   "cell_type": "code",
   "execution_count": 105,
   "metadata": {},
   "outputs": [],
   "source": [
    "from datetime import datetime as dt"
   ]
  },
  {
   "cell_type": "code",
   "execution_count": 106,
   "metadata": {},
   "outputs": [],
   "source": [
    "birthday = dt.strptime(\"09-10-1987\",\"%d-%m-%Y\")"
   ]
  },
  {
   "cell_type": "code",
   "execution_count": 107,
   "metadata": {},
   "outputs": [],
   "source": [
    "#globals()"
   ]
  },
  {
   "cell_type": "code",
   "execution_count": 108,
   "metadata": {},
   "outputs": [
    {
     "data": {
      "text/plain": [
       "datetime.datetime(1987, 10, 9, 0, 0)"
      ]
     },
     "execution_count": 108,
     "metadata": {},
     "output_type": "execute_result"
    }
   ],
   "source": [
    "globals()[\"birthday\"]"
   ]
  },
  {
   "cell_type": "code",
   "execution_count": 109,
   "metadata": {},
   "outputs": [
    {
     "name": "stdout",
     "output_type": "stream",
     "text": [
      "My birthday is: 09-10-1987\n"
     ]
    }
   ],
   "source": [
    "print(\"My birthday is: \"+dt.strftime(globals()[\"birthday\"],\"%d-%m-%Y\"))"
   ]
  },
  {
   "cell_type": "code",
   "execution_count": 110,
   "metadata": {},
   "outputs": [
    {
     "data": {
      "text/plain": [
       "{'result': 15}"
      ]
     },
     "execution_count": 110,
     "metadata": {},
     "output_type": "execute_result"
    }
   ],
   "source": [
    "#Local scope\n",
    "def add(x, y):\n",
    "    result=x+y\n",
    "    del(x)\n",
    "    del(y)\n",
    "    d_local=locals()\n",
    "    return d_local\n",
    "\n",
    "#call to function\n",
    "d_result=add(5,10)\n",
    "d_result"
   ]
  },
  {
   "cell_type": "code",
   "execution_count": 111,
   "metadata": {},
   "outputs": [
    {
     "name": "stdout",
     "output_type": "stream",
     "text": [
      "10\n"
     ]
    }
   ],
   "source": [
    "#Scope global\n",
    "def subtract(x,y):\n",
    "    global result\n",
    "    result=x-y\n",
    "\n",
    "#call to function\n",
    "subtract(15,5)\n",
    "print(result)"
   ]
  },
  {
   "cell_type": "markdown",
   "metadata": {},
   "source": [
    "### Create a Data Frame from a LIST"
   ]
  },
  {
   "cell_type": "code",
   "execution_count": 112,
   "metadata": {},
   "outputs": [],
   "source": [
    "from pyspark.sql.types import *\n",
    "import pyspark.sql.functions as F"
   ]
  },
  {
   "cell_type": "code",
   "execution_count": 113,
   "metadata": {},
   "outputs": [],
   "source": [
    "l_peoples=[\n",
    "    [\"cesar\", \"castañeda reyes\", 31.0],\n",
    "    [\"juana\", \"reyes vazquez\", 61.0],\n",
    "    [\"cesar\", \"castañeda vazquez\", 0.5]\n",
    "]\n",
    "\n",
    "l_peoples_rdd=sc.parallelize(l_peoples)\n",
    "\n",
    "schema_peoples=StructType([\n",
    "    StructField(\"name\", StringType(), True),\n",
    "    StructField(\"last_name\", StringType(), True),\n",
    "    StructField(\"age\", DoubleType(), True)\n",
    "])"
   ]
  },
  {
   "cell_type": "code",
   "execution_count": 114,
   "metadata": {},
   "outputs": [
    {
     "name": "stdout",
     "output_type": "stream",
     "text": [
      "root\n",
      " |-- name: string (nullable = true)\n",
      " |-- last_name: string (nullable = true)\n",
      " |-- age: double (nullable = true)\n",
      "\n"
     ]
    }
   ],
   "source": [
    "peoples_df=spark.createDataFrame(l_peoples_rdd, schema_peoples)\n",
    "#peoples_df=sqlContext.createDataFrame(l_peoples, schema_peoples)\n",
    "peoples_df.printSchema()"
   ]
  },
  {
   "cell_type": "code",
   "execution_count": 115,
   "metadata": {},
   "outputs": [
    {
     "name": "stdout",
     "output_type": "stream",
     "text": [
      "+-----+-----------------+----+\n",
      "| name|        last_name| age|\n",
      "+-----+-----------------+----+\n",
      "|cesar|  castañeda reyes|31.0|\n",
      "|juana|    reyes vazquez|61.0|\n",
      "|cesar|castañeda vazquez| 0.5|\n",
      "+-----+-----------------+----+\n",
      "\n"
     ]
    }
   ],
   "source": [
    "peoples_df.show()"
   ]
  },
  {
   "cell_type": "markdown",
   "metadata": {},
   "source": [
    "<div style=\"background-color:white; text-align:center; padding:10px; color:black; margin-left:0px; border-radius: 10px; font-family:Trebuchet MS; font-size:45px\">\n",
    "<strong>Gracias!</strong>\n",
    "</div>"
   ]
  },
  {
   "cell_type": "markdown",
   "metadata": {},
   "source": [
    "<div style=\"background-color:white; text-align:center; padding:30px; color:black; margin-left:0px; border-radius: 10px; font-family:Trebuchet MS; font-size:90px\">\n",
    "<strong>FIN</strong>\n",
    "</div>"
   ]
  },
  {
   "cell_type": "code",
   "execution_count": null,
   "metadata": {},
   "outputs": [],
   "source": []
  }
 ],
 "metadata": {
  "kernelspec": {
   "display_name": "Python 3",
   "language": "python",
   "name": "python3"
  },
  "language_info": {
   "codemirror_mode": {
    "name": "ipython",
    "version": 3
   },
   "file_extension": ".py",
   "mimetype": "text/x-python",
   "name": "python",
   "nbconvert_exporter": "python",
   "pygments_lexer": "ipython3",
   "version": "3.9.2"
  }
 },
 "nbformat": 4,
 "nbformat_minor": 4
}
