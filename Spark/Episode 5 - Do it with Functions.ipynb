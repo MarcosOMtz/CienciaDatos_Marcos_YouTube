{
 "cells": [
  {
   "cell_type": "markdown",
   "metadata": {},
   "source": [
    "<div style=\"background-color:white; text-align:center; padding:10px; color:black; margin-left:0px; border-radius: 10px; font-family:Trebuchet MS; font-size:45px\">\n",
    "<strong>Mejores prácticas en Ciencia de Datos</strong>\n",
    "</div>"
   ]
  },
  {
   "cell_type": "markdown",
   "metadata": {},
   "source": [
    "<center><img src=\"../images/Spark_logo.png\" width=\"450\"></center>"
   ]
  },
  {
   "cell_type": "markdown",
   "metadata": {},
   "source": [
    "<div style=\"background-color:palegreen; text-align:center; padding:1px; color:black; margin-left:0px; border-radius: 5px; font-family:Trebuchet MS; font-size:35px\">\n",
    "Hazlo con Funciones!\n",
    "</div>"
   ]
  },
  {
   "cell_type": "markdown",
   "metadata": {},
   "source": [
    "<table class=\"table table-bordered table-hover\">\n",
    "  <thead>\n",
    "    <tr>\n",
    "      <th scope=\"col\">Autor</th>\n",
    "      <th scope=\"col\">Fecha</th>\n",
    "      <th scope=\"col\">Lugar</th>\n",
    "    </tr>\n",
    "  </thead>\n",
    "  <tbody>\n",
    "    <tr>\n",
    "      <td>Marcos << Data Scientist >> </td>\n",
    "      <td>Noviembre de 2020</td>\n",
    "      <td>Ciudad de México, México</td>\n",
    "    </tr>\n",
    "  </tbody>\n",
    "</table>"
   ]
  },
  {
   "cell_type": "markdown",
   "metadata": {},
   "source": [
    "# Servicios de Spark"
   ]
  },
  {
   "cell_type": "code",
   "execution_count": 1,
   "metadata": {},
   "outputs": [],
   "source": [
    "import pyspark\n",
    "sc = pyspark.SparkContext('local[*]')"
   ]
  },
  {
   "cell_type": "code",
   "execution_count": 2,
   "metadata": {},
   "outputs": [
    {
     "data": {
      "text/html": [
       "\n",
       "        <div>\n",
       "            <p><b>SparkContext</b></p>\n",
       "\n",
       "            <p><a href=\"http://localhost:4040\">Spark UI</a></p>\n",
       "\n",
       "            <dl>\n",
       "              <dt>Version</dt>\n",
       "                <dd><code>v3.0.1</code></dd>\n",
       "              <dt>Master</dt>\n",
       "                <dd><code>local[*]</code></dd>\n",
       "              <dt>AppName</dt>\n",
       "                <dd><code>pyspark-shell</code></dd>\n",
       "            </dl>\n",
       "        </div>\n",
       "        "
      ],
      "text/plain": [
       "<SparkContext master=local[*] appName=pyspark-shell>"
      ]
     },
     "execution_count": 2,
     "metadata": {},
     "output_type": "execute_result"
    }
   ],
   "source": [
    "sc"
   ]
  },
  {
   "cell_type": "code",
   "execution_count": 3,
   "metadata": {},
   "outputs": [],
   "source": [
    "from pyspark.sql import SQLContext\n",
    "from pyspark.sql.types import *\n",
    "sqlContext = SQLContext(sc)"
   ]
  },
  {
   "cell_type": "markdown",
   "metadata": {},
   "source": [
    "# Cargamos la base de datos del ejemplo"
   ]
  },
  {
   "cell_type": "code",
   "execution_count": 4,
   "metadata": {},
   "outputs": [],
   "source": [
    "schema = StructType([StructField('incmpl', IntegerType(), True),\n",
    "                     StructField('date', IntegerType(), True),\n",
    "                     StructField('ratio_1', DoubleType(), True),\n",
    "                     StructField('ratio_2', DoubleType(), True),\n",
    "                     StructField('ratio_3', DoubleType(), True),\n",
    "                     StructField('ratio_4', DoubleType(), True),\n",
    "                     StructField('ratio_5', DoubleType(), True),\n",
    "                     StructField('num_1', DoubleType(), True),\n",
    "                     StructField('num_2', DoubleType(), True),\n",
    "                     StructField('num_3', DoubleType(), True),\n",
    "                     StructField('year', IntegerType(), True),\n",
    "                     StructField('month', IntegerType(), True),\n",
    "                     StructField('date_2', DateType(), True)])"
   ]
  },
  {
   "cell_type": "code",
   "execution_count": 5,
   "metadata": {},
   "outputs": [],
   "source": [
    "df = sqlContext.read.csv('../data/credit_tiny_dummy.csv', sep=',', header=True, schema=schema)"
   ]
  },
  {
   "cell_type": "code",
   "execution_count": 6,
   "metadata": {},
   "outputs": [
    {
     "name": "stdout",
     "output_type": "stream",
     "text": [
      "root\n",
      " |-- incmpl: integer (nullable = true)\n",
      " |-- date: integer (nullable = true)\n",
      " |-- ratio_1: double (nullable = true)\n",
      " |-- ratio_2: double (nullable = true)\n",
      " |-- ratio_3: double (nullable = true)\n",
      " |-- ratio_4: double (nullable = true)\n",
      " |-- ratio_5: double (nullable = true)\n",
      " |-- num_1: double (nullable = true)\n",
      " |-- num_2: double (nullable = true)\n",
      " |-- num_3: double (nullable = true)\n",
      " |-- year: integer (nullable = true)\n",
      " |-- month: integer (nullable = true)\n",
      " |-- date_2: date (nullable = true)\n",
      "\n"
     ]
    }
   ],
   "source": [
    "df.printSchema()"
   ]
  },
  {
   "cell_type": "code",
   "execution_count": 7,
   "metadata": {},
   "outputs": [
    {
     "name": "stdout",
     "output_type": "stream",
     "text": [
      "+------+----------+----+-----+-------+------------------+-------+------------+------------+------------+\n",
      "|  date|    date_2|year|month|ratio_1|           ratio_2|ratio_3|       num_1|       num_2|       num_3|\n",
      "+------+----------+----+-----+-------+------------------+-------+------------+------------+------------+\n",
      "|201201|2012-01-01|2012|    1|   1.27|0.7708797184999999|   1.23|8.3481306975|0.8482867987|0.0025750175|\n",
      "|201202|2012-02-01|2012|    2|   1.27|0.7708797184999999|   1.23|8.3481306975|0.8482867987|0.0025750175|\n",
      "|201203|2012-03-01|2012|    3|   1.27|0.7708797184999999|   1.23|8.3481306975|0.8482867987|0.0025750175|\n",
      "|201204|2012-04-01|2012|    4|   1.27|0.7708797184999999|   1.23|8.3481306975|0.8482867987|0.0025750175|\n",
      "|201205|2012-05-01|2012|    5|   1.27|0.7708797184999999|   1.23|8.3481306975|0.8482867987|0.0025750175|\n",
      "+------+----------+----+-----+-------+------------------+-------+------------+------------+------------+\n",
      "only showing top 5 rows\n",
      "\n"
     ]
    }
   ],
   "source": [
    "df.select('date','date_2','year','month','ratio_1','ratio_2','ratio_3','num_1','num_2','num_3').show(5)"
   ]
  },
  {
   "cell_type": "markdown",
   "metadata": {},
   "source": [
    "# Supongamos que buscamos realizar calculos para un mes en particular\n",
    "#### Ejemplo: Diciembre 2014"
   ]
  },
  {
   "cell_type": "code",
   "execution_count": 8,
   "metadata": {},
   "outputs": [],
   "source": [
    "from pyspark.sql.functions import col, sum as _sum"
   ]
  },
  {
   "cell_type": "code",
   "execution_count": 9,
   "metadata": {},
   "outputs": [],
   "source": [
    "df2 = df.filter('date_2 == \"2014-12-01\"'\n",
    "               ).select('*',\n",
    "                        (col('num_3')*100).alias('new_column').cast(DecimalType(20,5)))"
   ]
  },
  {
   "cell_type": "code",
   "execution_count": 10,
   "metadata": {},
   "outputs": [
    {
     "name": "stdout",
     "output_type": "stream",
     "text": [
      "+----------+------------+----------+\n",
      "|    date_2|       num_3|new_column|\n",
      "+----------+------------+----------+\n",
      "|2014-12-01|0.0103605209|   1.03605|\n",
      "|2014-12-01| 0.012011615|   1.20116|\n",
      "|2014-12-01|0.1216192209|  12.16192|\n",
      "|2014-12-01|0.1341868555|  13.41869|\n",
      "|2014-12-01|-0.033046993|  -3.30470|\n",
      "+----------+------------+----------+\n",
      "only showing top 5 rows\n",
      "\n"
     ]
    }
   ],
   "source": [
    "df2.select('date_2','num_3','new_column').show(5)"
   ]
  },
  {
   "cell_type": "code",
   "execution_count": 11,
   "metadata": {},
   "outputs": [
    {
     "name": "stdout",
     "output_type": "stream",
     "text": [
      "Filas: 20,200\n"
     ]
    }
   ],
   "source": [
    "print('Filas: {:,}'.format(df2.count()))"
   ]
  },
  {
   "cell_type": "code",
   "execution_count": 12,
   "metadata": {},
   "outputs": [],
   "source": [
    "df2.write.partitionBy('date_2').mode('overwrite').parquet('../output/example5a')"
   ]
  },
  {
   "cell_type": "markdown",
   "metadata": {},
   "source": [
    "Listo!, ya quedó guardada la tabla como se muestra en la siguiente imagen"
   ]
  },
  {
   "cell_type": "markdown",
   "metadata": {},
   "source": [
    "<img src=\"../output/example5a.png\" width=\"450\">"
   ]
  },
  {
   "cell_type": "markdown",
   "metadata": {},
   "source": [
    "### Revisamos los resultados"
   ]
  },
  {
   "cell_type": "code",
   "execution_count": 13,
   "metadata": {},
   "outputs": [],
   "source": [
    "df2 = sqlContext.read.parquet('../output/example5a')"
   ]
  },
  {
   "cell_type": "code",
   "execution_count": 14,
   "metadata": {},
   "outputs": [
    {
     "name": "stdout",
     "output_type": "stream",
     "text": [
      "Filas: 20,200\n"
     ]
    }
   ],
   "source": [
    "print('Filas: {:,}'.format(df2.count()))"
   ]
  },
  {
   "cell_type": "code",
   "execution_count": 15,
   "metadata": {},
   "outputs": [
    {
     "name": "stdout",
     "output_type": "stream",
     "text": [
      "+------+----------+----+-----+-------+------------------+-------+------------+------------------+------------+\n",
      "|  date|    date_2|year|month|ratio_1|           ratio_2|ratio_3|       num_1|             num_2|       num_3|\n",
      "+------+----------+----+-----+-------+------------------+-------+------------+------------------+------------+\n",
      "|201412|2014-12-01|2014|   12|   1.23|      0.7629253159|   1.06|7.5041156394|0.8716100398000001|0.0103605209|\n",
      "|201412|2014-12-01|2014|   12|   0.65|      0.5630340219|   2.32|9.7269471799|      1.0397253728| 0.012011615|\n",
      "|201412|2014-12-01|2014|   12|   0.29|      0.9821823361|   0.51|1.6189236708|       0.488424288|0.1216192209|\n",
      "|201412|2014-12-01|2014|   12|   0.58|0.6503938054999999|   0.45| 1.638700494|      0.7900542656|0.1341868555|\n",
      "|201412|2014-12-01|2014|   12|   0.91|      0.6164210334|   2.06|-9.9999993E7|      0.1311900016|-0.033046993|\n",
      "+------+----------+----+-----+-------+------------------+-------+------------+------------------+------------+\n",
      "only showing top 5 rows\n",
      "\n"
     ]
    }
   ],
   "source": [
    "df2.select('date','date_2','year','month','ratio_1','ratio_2','ratio_3','num_1','num_2','num_3').show(5)"
   ]
  },
  {
   "cell_type": "markdown",
   "metadata": {},
   "source": [
    "# Si quisieramos calificar otro mes deberíamos hacer lo mismo\n",
    "### Por ejemplo: enero 2015 a marzo 2015"
   ]
  },
  {
   "cell_type": "code",
   "execution_count": null,
   "metadata": {},
   "outputs": [],
   "source": [
    "df2 = df.filter('date_2 in (\"2015-01-01\",\"2015-02-01\",\"2015-03-01\")'\n",
    "               ).select('*',\n",
    "                        (col('num_3')*100).alias('new_column').cast(DecimalType(20,5)))\n",
    "\n",
    "\n",
    "df2.write.partitionBy('date_2').mode('append').parquet('../output/example5a')"
   ]
  },
  {
   "cell_type": "markdown",
   "metadata": {},
   "source": [
    "# Hazlo con funciones!"
   ]
  },
  {
   "cell_type": "markdown",
   "metadata": {},
   "source": [
    "## Funciones"
   ]
  },
  {
   "cell_type": "code",
   "execution_count": 16,
   "metadata": {},
   "outputs": [],
   "source": [
    "import datetime\n",
    "import pytz\n",
    "from dateutil.relativedelta import relativedelta"
   ]
  },
  {
   "cell_type": "code",
   "execution_count": 17,
   "metadata": {},
   "outputs": [],
   "source": [
    "def get_dates_range(start_date, months_count):\n",
    "    start_date = str(start_date)\n",
    "    date_1 = datetime.datetime.strptime(start_date,'%Y-%m-%d').date().replace(day=1)\n",
    "    date_list = list(map(str, [date_1 + relativedelta(months=x) for x in range(0, months_count)]))\n",
    "    return date_list"
   ]
  },
  {
   "cell_type": "code",
   "execution_count": 18,
   "metadata": {},
   "outputs": [],
   "source": [
    "def progress_time(str_log):\n",
    "    currdate = datetime.datetime.strftime(datetime.datetime.now(pytz.timezone('America/Mexico_City')),'%Y-%m-%d %T')\n",
    "    print('[' + currdate + ']: ' + str_log)"
   ]
  },
  {
   "cell_type": "code",
   "execution_count": 19,
   "metadata": {},
   "outputs": [],
   "source": [
    "def delete_info(sc, path):\n",
    "    fs = (sc._jvm.org.apache.hadoop.fs.FileSystem.get(sc._jsc.hadoopConfiguration()))\n",
    "    fs.delete(sc._jvm.org.apache.hadoop.fs.Path(path), True)"
   ]
  },
  {
   "cell_type": "code",
   "execution_count": 20,
   "metadata": {},
   "outputs": [],
   "source": [
    "def saving_data(table, path_file, table_name, partition, dates_list):\n",
    "    for x in dates_list:\n",
    "        delete_info(sc, path_file + table_name + '/' + partition + '=' + str(x))\n",
    "        progress_time(table_name + ' >> ' + partition + ' = ' + str(x))\n",
    "        table.filter(col(partition)==x).write.partitionBy(partition).mode('append').parquet(path_file+table_name)"
   ]
  },
  {
   "cell_type": "code",
   "execution_count": 21,
   "metadata": {},
   "outputs": [],
   "source": [
    "def calculus_and_saving_data(table, start_date, months_count, path_file, table_name, partition):\n",
    "    range_list = get_dates_range(start_date,months_count)\n",
    "    print('Dates to process:',range_list)\n",
    "    w = input('Is it dates correct [y/n]?:')\n",
    "    \n",
    "    if w=='y':\n",
    "        tmp = table.filter(col('date_2').isin(range_list)) \\\n",
    "                   .select('*', (col('num_3')*100).alias('new_column').cast(DecimalType(20,5)))\n",
    "        saving_data(tmp, path_file, table_name, partition, range_list)\n",
    "        progress_time('end process')\n",
    "    else:\n",
    "        print('Set dates correctly')"
   ]
  },
  {
   "cell_type": "markdown",
   "metadata": {},
   "source": [
    "## Variables"
   ]
  },
  {
   "cell_type": "code",
   "execution_count": 22,
   "metadata": {},
   "outputs": [],
   "source": [
    "example_path = '../output/'\n",
    "df_name = 'example5b'"
   ]
  },
  {
   "cell_type": "markdown",
   "metadata": {},
   "source": [
    "## Ejemplo del funcionamiento"
   ]
  },
  {
   "cell_type": "code",
   "execution_count": 23,
   "metadata": {},
   "outputs": [
    {
     "data": {
      "text/plain": [
       "['2014-12-01', '2015-01-01', '2015-02-01', '2015-03-01', '2015-04-01']"
      ]
     },
     "execution_count": 23,
     "metadata": {},
     "output_type": "execute_result"
    }
   ],
   "source": [
    "get_dates_range('2014-12-01',5)"
   ]
  },
  {
   "cell_type": "code",
   "execution_count": 24,
   "metadata": {},
   "outputs": [
    {
     "name": "stdout",
     "output_type": "stream",
     "text": [
      "[2020-11-06 00:05:43]: esto es un ejemplo\n"
     ]
    }
   ],
   "source": [
    "progress_time('esto es un ejemplo')"
   ]
  },
  {
   "cell_type": "markdown",
   "metadata": {},
   "source": [
    "# Supongamos que necesitamos hacer calculos para varios meses"
   ]
  },
  {
   "cell_type": "markdown",
   "metadata": {},
   "source": [
    "## Ejemplo: diciembre 2014 a abril 2015"
   ]
  },
  {
   "cell_type": "code",
   "execution_count": 25,
   "metadata": {},
   "outputs": [
    {
     "name": "stdout",
     "output_type": "stream",
     "text": [
      "Dates to process: ['2014-12-01', '2015-01-01', '2015-02-01', '2015-03-01', '2015-04-01']\n"
     ]
    },
    {
     "name": "stdin",
     "output_type": "stream",
     "text": [
      "Is it dates correct [y/n]?: n\n"
     ]
    },
    {
     "name": "stdout",
     "output_type": "stream",
     "text": [
      "Set dates correctly\n"
     ]
    }
   ],
   "source": [
    "calculus_and_saving_data(df, '2014-12-01', 5, example_path, df_name, 'date_2')"
   ]
  },
  {
   "cell_type": "code",
   "execution_count": 26,
   "metadata": {},
   "outputs": [
    {
     "name": "stdout",
     "output_type": "stream",
     "text": [
      "Dates to process: ['2014-12-01', '2015-01-01', '2015-02-01', '2015-03-01', '2015-04-01']\n"
     ]
    },
    {
     "name": "stdin",
     "output_type": "stream",
     "text": [
      "Is it dates correct [y/n]?: y\n"
     ]
    },
    {
     "name": "stdout",
     "output_type": "stream",
     "text": [
      "[2020-11-06 00:06:12]: example5b >> date_2 = 2014-12-01\n",
      "[2020-11-06 00:06:14]: example5b >> date_2 = 2015-01-01\n",
      "[2020-11-06 00:06:15]: example5b >> date_2 = 2015-02-01\n",
      "[2020-11-06 00:06:17]: example5b >> date_2 = 2015-03-01\n",
      "[2020-11-06 00:06:18]: example5b >> date_2 = 2015-04-01\n",
      "[2020-11-06 00:06:19]: end process\n"
     ]
    }
   ],
   "source": [
    "calculus_and_saving_data(df, '2014-12-01', 5, example_path, df_name, 'date_2')"
   ]
  },
  {
   "cell_type": "markdown",
   "metadata": {},
   "source": [
    "En la siguiente imagen podemos verificar que se ha guardado la tabla"
   ]
  },
  {
   "cell_type": "markdown",
   "metadata": {},
   "source": [
    "<img src=\"../output/example5b.png\" width=\"450\">"
   ]
  },
  {
   "cell_type": "markdown",
   "metadata": {},
   "source": [
    "## Revisamos los resultados"
   ]
  },
  {
   "cell_type": "code",
   "execution_count": 27,
   "metadata": {},
   "outputs": [],
   "source": [
    "tmp = sqlContext.read.parquet(example_path + df_name)"
   ]
  },
  {
   "cell_type": "code",
   "execution_count": 28,
   "metadata": {},
   "outputs": [
    {
     "name": "stdout",
     "output_type": "stream",
     "text": [
      "Filas: 97,768\n"
     ]
    }
   ],
   "source": [
    "print('Filas: {:,}'.format(tmp.count()))"
   ]
  },
  {
   "cell_type": "code",
   "execution_count": 29,
   "metadata": {},
   "outputs": [
    {
     "name": "stdout",
     "output_type": "stream",
     "text": [
      "+----------+------------+----------+\n",
      "|    date_2|       num_3|new_column|\n",
      "+----------+------------+----------+\n",
      "|2015-01-01|-0.020233211|  -2.02332|\n",
      "|2015-01-01|-0.077430956|  -7.74310|\n",
      "|2015-01-01| 0.012011615|   1.20116|\n",
      "|2015-01-01|0.1341868555|  13.41869|\n",
      "|2015-01-01|-0.033046993|  -3.30470|\n",
      "+----------+------------+----------+\n",
      "only showing top 5 rows\n",
      "\n"
     ]
    }
   ],
   "source": [
    "tmp.select('date_2','num_3','new_column').show(5)"
   ]
  },
  {
   "cell_type": "code",
   "execution_count": 30,
   "metadata": {},
   "outputs": [
    {
     "name": "stdout",
     "output_type": "stream",
     "text": [
      "+----------+---------------+\n",
      "|    date_2|sum(new_column)|\n",
      "+----------+---------------+\n",
      "|2014-12-01|    66569.82316|\n",
      "|2015-01-01|    86451.51560|\n",
      "|2015-02-01|    86482.35292|\n",
      "|2015-03-01|    81442.42464|\n",
      "|2015-04-01|    79700.30998|\n",
      "+----------+---------------+\n",
      "\n"
     ]
    }
   ],
   "source": [
    "tmp.groupBy('date_2').agg(_sum('new_column')).orderBy('date_2').show()"
   ]
  },
  {
   "cell_type": "code",
   "execution_count": 32,
   "metadata": {},
   "outputs": [
    {
     "name": "stdout",
     "output_type": "stream",
     "text": [
      "+----------+-----+\n",
      "|    date_2|count|\n",
      "+----------+-----+\n",
      "|2014-12-01|20200|\n",
      "|2015-01-01|19998|\n",
      "|2015-02-01|19594|\n",
      "|2015-03-01|19392|\n",
      "|2015-04-01|18584|\n",
      "+----------+-----+\n",
      "\n"
     ]
    }
   ],
   "source": [
    "tmp.groupBy('date_2').count().orderBy('date_2').show()"
   ]
  },
  {
   "cell_type": "markdown",
   "metadata": {},
   "source": [
    "<div style=\"color:black; font-size:40px\">\n",
    "<strong>Gracias!</strong>\n",
    "</div>"
   ]
  },
  {
   "cell_type": "code",
   "execution_count": null,
   "metadata": {},
   "outputs": [],
   "source": []
  },
  {
   "cell_type": "code",
   "execution_count": null,
   "metadata": {},
   "outputs": [],
   "source": []
  },
  {
   "cell_type": "code",
   "execution_count": null,
   "metadata": {},
   "outputs": [],
   "source": []
  }
 ],
 "metadata": {
  "kernelspec": {
   "display_name": "Python 3",
   "language": "python",
   "name": "python3"
  },
  "language_info": {
   "codemirror_mode": {
    "name": "ipython",
    "version": 3
   },
   "file_extension": ".py",
   "mimetype": "text/x-python",
   "name": "python",
   "nbconvert_exporter": "python",
   "pygments_lexer": "ipython3",
   "version": "3.9.1"
  },
  "toc-autonumbering": true,
  "toc-showmarkdowntxt": false
 },
 "nbformat": 4,
 "nbformat_minor": 4
}
