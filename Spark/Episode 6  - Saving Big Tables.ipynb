{
 "cells": [
  {
   "cell_type": "markdown",
   "metadata": {},
   "source": [
    "<div style=\"background-color:white; text-align:center; padding:10px; color:black; margin-left:0px; border-radius: 10px; font-family:Trebuchet MS; font-size:45px\">\n",
    "<strong>Mejores prácticas en Ciencia de Datos</strong>\n",
    "</div>"
   ]
  },
  {
   "cell_type": "markdown",
   "metadata": {},
   "source": [
    "<center><img src=\"../images/Spark_logo.png\" width=\"450\"></center>"
   ]
  },
  {
   "cell_type": "markdown",
   "metadata": {},
   "source": [
    "<div style=\"background-color:palegreen; text-align:center; padding:1px; color:black; margin-left:0px; border-radius: 5px; font-family:Trebuchet MS; font-size:35px\">\n",
    "Tips para el uso de Spark\n",
    "</div>"
   ]
  },
  {
   "cell_type": "markdown",
   "metadata": {},
   "source": [
    "<table class=\"table table-bordered table-hover\">\n",
    "  <thead>\n",
    "    <tr>\n",
    "      <th scope=\"col\">Autor</th>\n",
    "      <th scope=\"col\">Fecha</th>\n",
    "      <th scope=\"col\">Lugar</th>\n",
    "    </tr>\n",
    "  </thead>\n",
    "  <tbody>\n",
    "    <tr>\n",
    "      <td>Marcos << Data Scientist >> </td>\n",
    "      <td>Noviembre de 2020</td>\n",
    "      <td>Ciudad de México, México</td>\n",
    "    </tr>\n",
    "  </tbody>\n",
    "</table>"
   ]
  },
  {
   "cell_type": "markdown",
   "metadata": {},
   "source": [
    "# Iniciamos Spark"
   ]
  },
  {
   "cell_type": "code",
   "execution_count": 1,
   "metadata": {},
   "outputs": [
    {
     "data": {
      "text/html": [
       "\n",
       "        <div>\n",
       "            <p><b>SparkContext</b></p>\n",
       "\n",
       "            <p><a href=\"http://192.168.0.21:4040\">Spark UI</a></p>\n",
       "\n",
       "            <dl>\n",
       "              <dt>Version</dt>\n",
       "                <dd><code>v3.0.1</code></dd>\n",
       "              <dt>Master</dt>\n",
       "                <dd><code>local[*]</code></dd>\n",
       "              <dt>AppName</dt>\n",
       "                <dd><code>pyspark-shell</code></dd>\n",
       "            </dl>\n",
       "        </div>\n",
       "        "
      ],
      "text/plain": [
       "<SparkContext master=local[*] appName=pyspark-shell>"
      ]
     },
     "execution_count": 1,
     "metadata": {},
     "output_type": "execute_result"
    }
   ],
   "source": [
    "import pyspark\n",
    "sc = pyspark.SparkContext('local[*]')\n",
    "sc"
   ]
  },
  {
   "cell_type": "code",
   "execution_count": 2,
   "metadata": {},
   "outputs": [],
   "source": [
    "from pyspark.sql import SQLContext\n",
    "from pyspark.sql.types import *\n",
    "sqlContext = SQLContext(sc)"
   ]
  },
  {
   "cell_type": "markdown",
   "metadata": {},
   "source": [
    "# Cargamos la base de datos del ejemplo"
   ]
  },
  {
   "cell_type": "code",
   "execution_count": 3,
   "metadata": {},
   "outputs": [],
   "source": [
    "schema = StructType([StructField('Loan_ID', StringType(), True),\n",
    "                     StructField('Customer_ID', StringType(), True),\n",
    "                     StructField('Loan_Status', StringType(), True),\n",
    "                     StructField('Current_Loan_Amount', DoubleType(), True),\n",
    "                     StructField('Term', StringType(), True),\n",
    "                     StructField('Credit_Score', DoubleType(), True),\n",
    "                     StructField('Annual_Income', DoubleType(), True),\n",
    "                     StructField('Years_in_current_job', StringType(), True),\n",
    "                     StructField('Home_Ownership', StringType(), True),\n",
    "                     StructField('Purpose', StringType(), True),\n",
    "                     StructField('Monthly_Debt', DoubleType(), True),\n",
    "                     StructField('Years_of_Credit_History', DoubleType(), True),\n",
    "                     StructField('Months_since_last_delinquent', DoubleType(), True),\n",
    "                     StructField('Number_of_Open_Accounts', DoubleType(), True),\n",
    "                     StructField('Number_of_Credit_Problems', DoubleType(), True),\n",
    "                     StructField('Current_Credit_Balance', DoubleType(), True),\n",
    "                     StructField('Maximum_Open_Credit', DoubleType(), True),\n",
    "                     StructField('Bankruptcies', DoubleType(), True),\n",
    "                     StructField('Tax_Liens', DoubleType(), True)\n",
    "                    ])"
   ]
  },
  {
   "cell_type": "markdown",
   "metadata": {},
   "source": [
    "Cuando cargues una base de datos, lo recomendable es que solo selecciones las columnas que vas a necesitar, como en el siguiente ejemplo:"
   ]
  },
  {
   "cell_type": "code",
   "execution_count": 4,
   "metadata": {},
   "outputs": [],
   "source": [
    "df = sqlContext.read.csv('../data/credit_train_v2.csv', sep=',', header=True, schema=schema).select('Customer_ID',\n",
    "                                                                                                    'Loan_Status',\n",
    "                                                                                                    'Current_Loan_Amount',\n",
    "                                                                                                    'Annual_Income',\n",
    "                                                                                                    'Current_Credit_Balance')"
   ]
  },
  {
   "cell_type": "code",
   "execution_count": 5,
   "metadata": {},
   "outputs": [
    {
     "name": "stdout",
     "output_type": "stream",
     "text": [
      "root\n",
      " |-- Customer_ID: string (nullable = true)\n",
      " |-- Loan_Status: string (nullable = true)\n",
      " |-- Current_Loan_Amount: double (nullable = true)\n",
      " |-- Annual_Income: double (nullable = true)\n",
      " |-- Current_Credit_Balance: double (nullable = true)\n",
      "\n"
     ]
    }
   ],
   "source": [
    "df.printSchema()"
   ]
  },
  {
   "cell_type": "code",
   "execution_count": 6,
   "metadata": {},
   "outputs": [
    {
     "name": "stdout",
     "output_type": "stream",
     "text": [
      "+--------------------+-----------+-------------------+-------------+----------------------+\n",
      "|         Customer_ID|Loan_Status|Current_Loan_Amount|Annual_Income|Current_Credit_Balance|\n",
      "+--------------------+-----------+-------------------+-------------+----------------------+\n",
      "|981165ec-3274-42f...| Fully Paid|           445412.0|    1167493.0|              228190.0|\n",
      "|2de017a3-2e01-49c...| Fully Paid|           262328.0|         null|              229976.0|\n",
      "|5efb2b2b-bf11-4df...| Fully Paid|        9.9999999E7|    2231892.0|              297996.0|\n",
      "|e777faab-98ae-45a...| Fully Paid|           347666.0|     806949.0|              256329.0|\n",
      "|81536ad9-5ccf-4eb...| Fully Paid|           176220.0|         null|              253460.0|\n",
      "+--------------------+-----------+-------------------+-------------+----------------------+\n",
      "only showing top 5 rows\n",
      "\n"
     ]
    }
   ],
   "source": [
    "df.show(5)"
   ]
  },
  {
   "cell_type": "markdown",
   "metadata": {},
   "source": [
    "# Realizamos algunos cálculos"
   ]
  },
  {
   "cell_type": "code",
   "execution_count": 7,
   "metadata": {},
   "outputs": [],
   "source": [
    "from pyspark.sql.functions import col as c, greatest, when, lit, rand"
   ]
  },
  {
   "cell_type": "code",
   "execution_count": 8,
   "metadata": {},
   "outputs": [],
   "source": [
    "tmp = df.select('*',\n",
    "                when(c('Current_Loan_Amount')==99999999, c('Annual_Income')\n",
    "                    ).otherwise(greatest(c('Current_Loan_Amount'),c('Annual_Income'))).cast(DecimalType(20,1)).alias('max_column'),\n",
    "                (c('Current_Credit_Balance')/c('Annual_Income')).cast(DecimalType(10,5)).alias('ratio'),\n",
    "                (when(rand()<0.5,0).otherwise(1)).alias('aux'))"
   ]
  },
  {
   "cell_type": "code",
   "execution_count": 9,
   "metadata": {},
   "outputs": [],
   "source": [
    "tmp = tmp.select('*',\n",
    "                 when(c('aux')==0, lit('2018-11-01').cast(DateType())\n",
    "                     ).otherwise(lit('2018-12-01').cast(DateType())).alias('date')\n",
    "                ).drop('aux')"
   ]
  },
  {
   "cell_type": "code",
   "execution_count": 10,
   "metadata": {},
   "outputs": [
    {
     "name": "stdout",
     "output_type": "stream",
     "text": [
      "+--------------------+-----------+-------------------+-------------+----------------------+----------+-------+----------+\n",
      "|         Customer_ID|Loan_Status|Current_Loan_Amount|Annual_Income|Current_Credit_Balance|max_column|  ratio|      date|\n",
      "+--------------------+-----------+-------------------+-------------+----------------------+----------+-------+----------+\n",
      "|981165ec-3274-42f...| Fully Paid|           445412.0|    1167493.0|              228190.0| 1167493.0|0.19545|2018-11-01|\n",
      "|2de017a3-2e01-49c...| Fully Paid|           262328.0|         null|              229976.0|  262328.0|   null|2018-12-01|\n",
      "|5efb2b2b-bf11-4df...| Fully Paid|        9.9999999E7|    2231892.0|              297996.0| 2231892.0|0.13352|2018-11-01|\n",
      "|e777faab-98ae-45a...| Fully Paid|           347666.0|     806949.0|              256329.0|  806949.0|0.31765|2018-12-01|\n",
      "|81536ad9-5ccf-4eb...| Fully Paid|           176220.0|         null|              253460.0|  176220.0|   null|2018-12-01|\n",
      "+--------------------+-----------+-------------------+-------------+----------------------+----------+-------+----------+\n",
      "only showing top 5 rows\n",
      "\n"
     ]
    }
   ],
   "source": [
    "tmp.show(5)"
   ]
  },
  {
   "cell_type": "markdown",
   "metadata": {},
   "source": [
    "Cuando se tienen tablas muy grandes (millones de registros) **no se recomienda hacer esto**:"
   ]
  },
  {
   "cell_type": "markdown",
   "metadata": {},
   "source": [
    "```python\n",
    "tmp.write.parquet('../output/example6')\n",
    "```"
   ]
  },
  {
   "cell_type": "markdown",
   "metadata": {},
   "source": [
    "En su lugar se deberá usar el siguiente código:\n",
    "\n",
    "* `df.write.parquet(ruta)`\n",
    "\n",
    "Usando las opciones `partitionBy()` y `mode()`.\n",
    "\n",
    "Pero antes vamos a desarrollar una función que nos vaya mostrando el avance de nuestro proceso de guardado."
   ]
  },
  {
   "cell_type": "code",
   "execution_count": 11,
   "metadata": {},
   "outputs": [],
   "source": [
    "import datetime\n",
    "import pytz\n",
    "import calendar"
   ]
  },
  {
   "cell_type": "code",
   "execution_count": 12,
   "metadata": {},
   "outputs": [],
   "source": [
    "def progress_time(str_log):\n",
    "    currdate = datetime.datetime.strftime(datetime.datetime.now(pytz.timezone('America/Mexico_City')), '%Y-%m-%d %T')\n",
    "    print('[' + currdate + ']: ' + str_log)"
   ]
  },
  {
   "cell_type": "code",
   "execution_count": 13,
   "metadata": {},
   "outputs": [],
   "source": [
    "def delete_info(sc, path):\n",
    "    fs = (sc._jvm.org.apache.hadoop.fs.FileSystem.get(sc._jsc.hadoopConfiguration()))\n",
    "    fs.delete(sc._jvm.org.apache.hadoop.fs.Path(path), True)"
   ]
  },
  {
   "cell_type": "code",
   "execution_count": 14,
   "metadata": {},
   "outputs": [],
   "source": [
    "def saving_data(table, path_file, table_name, partition, dates_list):\n",
    "    for x in dates_list:\n",
    "        delete_info(sc, path_file+table_name+'/'+partition+'='+str(x))\n",
    "        progress_time(table_name+' >> '+partition+' = '+str(x))\n",
    "        table.filter(c(partition)==x).write.partitionBy(partition).mode('append').parquet(path_file+table_name)\n",
    "    print('Done!')"
   ]
  },
  {
   "cell_type": "code",
   "execution_count": 15,
   "metadata": {},
   "outputs": [],
   "source": [
    "path_file = '../output/'\n",
    "file_name = 'example6'"
   ]
  },
  {
   "cell_type": "code",
   "execution_count": 17,
   "metadata": {},
   "outputs": [
    {
     "name": "stdout",
     "output_type": "stream",
     "text": [
      "[2020-12-19 20:28:40]: example6 >> date = 2018-11-01\n",
      "[2020-12-19 20:28:41]: example6 >> date = 2018-12-01\n",
      "Done!\n"
     ]
    }
   ],
   "source": [
    "saving_data(tmp, path_file, file_name, 'date', ['2018-11-01','2018-12-01'])"
   ]
  },
  {
   "cell_type": "markdown",
   "metadata": {},
   "source": [
    "Verificamos que la tabla se haya guardado correctamente"
   ]
  },
  {
   "cell_type": "markdown",
   "metadata": {},
   "source": [
    "<img src=\"../output/example6.png\" width=\"450\">"
   ]
  },
  {
   "cell_type": "markdown",
   "metadata": {},
   "source": [
    "## Revisamos los resultados"
   ]
  },
  {
   "cell_type": "code",
   "execution_count": 18,
   "metadata": {},
   "outputs": [],
   "source": [
    "df = sqlContext.read.parquet(path_file + file_name)"
   ]
  },
  {
   "cell_type": "code",
   "execution_count": 19,
   "metadata": {},
   "outputs": [
    {
     "name": "stdout",
     "output_type": "stream",
     "text": [
      "+--------------------+-----------+-------------------+-------------+----------------------+----------+-------+----------+\n",
      "|         Customer_ID|Loan_Status|Current_Loan_Amount|Annual_Income|Current_Credit_Balance|max_column|  ratio|      date|\n",
      "+--------------------+-----------+-------------------+-------------+----------------------+----------+-------+----------+\n",
      "|981165ec-3274-42f...| Fully Paid|           445412.0|    1167493.0|              228190.0| 1167493.0|0.19545|2018-11-01|\n",
      "|5efb2b2b-bf11-4df...| Fully Paid|        9.9999999E7|    2231892.0|              297996.0| 2231892.0|0.13352|2018-11-01|\n",
      "|4ffe99d3-7f2a-44d...|Charged Off|           206602.0|     896857.0|              215308.0|  896857.0|0.24007|2018-11-01|\n",
      "|90a75dde-34d5-419...| Fully Paid|           217646.0|    1184194.0|              122170.0| 1184194.0|0.10317|2018-11-01|\n",
      "|018973c9-e316-495...|Charged Off|           648714.0|         null|              193306.0|  648714.0|   null|2018-11-01|\n",
      "+--------------------+-----------+-------------------+-------------+----------------------+----------+-------+----------+\n",
      "only showing top 5 rows\n",
      "\n"
     ]
    }
   ],
   "source": [
    "df.show(5)"
   ]
  },
  {
   "cell_type": "markdown",
   "metadata": {},
   "source": [
    "<div style=\"color:black; font-size:40px\">\n",
    "<strong>Gracias!</strong>\n",
    "</div>"
   ]
  },
  {
   "cell_type": "code",
   "execution_count": null,
   "metadata": {},
   "outputs": [],
   "source": []
  },
  {
   "cell_type": "code",
   "execution_count": null,
   "metadata": {},
   "outputs": [],
   "source": []
  },
  {
   "cell_type": "code",
   "execution_count": null,
   "metadata": {},
   "outputs": [],
   "source": []
  }
 ],
 "metadata": {
  "kernelspec": {
   "display_name": "Python 3",
   "language": "python",
   "name": "python3"
  },
  "language_info": {
   "codemirror_mode": {
    "name": "ipython",
    "version": 3
   },
   "file_extension": ".py",
   "mimetype": "text/x-python",
   "name": "python",
   "nbconvert_exporter": "python",
   "pygments_lexer": "ipython3",
   "version": "3.9.1"
  }
 },
 "nbformat": 4,
 "nbformat_minor": 4
}
