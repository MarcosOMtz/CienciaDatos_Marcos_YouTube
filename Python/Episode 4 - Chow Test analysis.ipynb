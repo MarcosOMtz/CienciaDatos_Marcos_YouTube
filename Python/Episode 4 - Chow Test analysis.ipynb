{
 "cells": [
  {
   "cell_type": "markdown",
   "metadata": {},
   "source": [
    "<div style=\"background-color:white; text-align:center; padding:10px; color:black; margin-left:0px; border-radius: 10px; font-family:Trebuchet MS; font-size:45px\">\n",
    "<strong>Mejores prácticas en Ciencia de Datos</strong>\n",
    "</div>"
   ]
  },
  {
   "cell_type": "markdown",
   "metadata": {},
   "source": [
    "<center><img src=\"../images/python_logo.png\" width=\"200\"></center>"
   ]
  },
  {
   "cell_type": "markdown",
   "metadata": {},
   "source": [
    "<div style=\"background-color:lightblue; text-align:center; padding:1px; color:black; margin-left:0px; border-radius: 5px; font-family:Trebuchet MS; font-size:35px\">\n",
    "Cambio estructural con Python\n",
    "</div>"
   ]
  },
  {
   "cell_type": "markdown",
   "metadata": {},
   "source": [
    "Autor                               | Fecha                | Ciudad\n",
    "----------------------------------- | -------------------- | ----------------------------\n",
    "Marcos, Científico de Datos (ITAM)  | Septiembre de 2020   | Ciudad de México, México"
   ]
  },
  {
   "cell_type": "markdown",
   "metadata": {},
   "source": [
    "Creamos un par de variables financieras con distintas tendencias y para ello importamos dos librerias muy populares en `PYTHON`"
   ]
  },
  {
   "cell_type": "markdown",
   "metadata": {},
   "source": [
    "<center><img src=\"../images/pandas.png\" width=\"1000\"></center>\n",
    "\n",
    "***"
   ]
  },
  {
   "cell_type": "markdown",
   "metadata": {},
   "source": [
    "<center><img src=\"../images/numpy.png\" width=\"1000\"></center>"
   ]
  },
  {
   "cell_type": "code",
   "execution_count": 1,
   "metadata": {},
   "outputs": [],
   "source": [
    "import pandas as pd\n",
    "import numpy as np\n",
    "import matplotlib.pyplot as plt\n",
    "%config InlineBackend.figure_format = \"retina\""
   ]
  },
  {
   "cell_type": "code",
   "execution_count": 2,
   "metadata": {},
   "outputs": [],
   "source": [
    "df1 = pd.DataFrame({'date': np.random.randint(201801,201813,1200), 'var_fin': np.random.normal(3,1,1200)})\n",
    "df2 = pd.DataFrame({'date': np.random.randint(201901,201905, 400), 'var_fin': np.random.normal(3,1,400)})\n",
    "df3 = pd.DataFrame({'date': np.random.randint(201905,201913, 800), 'var_fin': np.random.normal(4,1,800)})"
   ]
  },
  {
   "cell_type": "code",
   "execution_count": 3,
   "metadata": {},
   "outputs": [],
   "source": [
    "df = pd.concat([df1,df2,df3])\n",
    "df = df.sort_values(by=['date'])\n",
    "df.reset_index(drop=True, inplace=True)"
   ]
  },
  {
   "cell_type": "code",
   "execution_count": 4,
   "metadata": {},
   "outputs": [
    {
     "data": {
      "text/plain": [
       "(2400, 2)"
      ]
     },
     "execution_count": 4,
     "metadata": {},
     "output_type": "execute_result"
    }
   ],
   "source": [
    "df.shape"
   ]
  },
  {
   "cell_type": "code",
   "execution_count": 5,
   "metadata": {},
   "outputs": [
    {
     "data": {
      "text/html": [
       "<div>\n",
       "<style scoped>\n",
       "    .dataframe tbody tr th:only-of-type {\n",
       "        vertical-align: middle;\n",
       "    }\n",
       "\n",
       "    .dataframe tbody tr th {\n",
       "        vertical-align: top;\n",
       "    }\n",
       "\n",
       "    .dataframe thead th {\n",
       "        text-align: right;\n",
       "    }\n",
       "</style>\n",
       "<table border=\"1\" class=\"dataframe\">\n",
       "  <thead>\n",
       "    <tr style=\"text-align: right;\">\n",
       "      <th></th>\n",
       "      <th>date</th>\n",
       "      <th>var_fin</th>\n",
       "    </tr>\n",
       "  </thead>\n",
       "  <tbody>\n",
       "    <tr>\n",
       "      <th>0</th>\n",
       "      <td>201801</td>\n",
       "      <td>4.111987</td>\n",
       "    </tr>\n",
       "    <tr>\n",
       "      <th>1</th>\n",
       "      <td>201801</td>\n",
       "      <td>2.319343</td>\n",
       "    </tr>\n",
       "    <tr>\n",
       "      <th>2</th>\n",
       "      <td>201801</td>\n",
       "      <td>2.749157</td>\n",
       "    </tr>\n",
       "  </tbody>\n",
       "</table>\n",
       "</div>"
      ],
      "text/plain": [
       "     date   var_fin\n",
       "0  201801  4.111987\n",
       "1  201801  2.319343\n",
       "2  201801  2.749157"
      ]
     },
     "execution_count": 5,
     "metadata": {},
     "output_type": "execute_result"
    }
   ],
   "source": [
    "df.head(3)"
   ]
  },
  {
   "cell_type": "markdown",
   "metadata": {},
   "source": [
    "# Análisis temporal usando la media"
   ]
  },
  {
   "cell_type": "code",
   "execution_count": 6,
   "metadata": {},
   "outputs": [],
   "source": [
    "summary = df.groupby('date', as_index=False).mean()"
   ]
  },
  {
   "cell_type": "code",
   "execution_count": 7,
   "metadata": {},
   "outputs": [
    {
     "data": {
      "text/html": [
       "<div>\n",
       "<style scoped>\n",
       "    .dataframe tbody tr th:only-of-type {\n",
       "        vertical-align: middle;\n",
       "    }\n",
       "\n",
       "    .dataframe tbody tr th {\n",
       "        vertical-align: top;\n",
       "    }\n",
       "\n",
       "    .dataframe thead th {\n",
       "        text-align: right;\n",
       "    }\n",
       "</style>\n",
       "<table border=\"1\" class=\"dataframe\">\n",
       "  <thead>\n",
       "    <tr style=\"text-align: right;\">\n",
       "      <th></th>\n",
       "      <th>date</th>\n",
       "      <th>var_fin</th>\n",
       "    </tr>\n",
       "  </thead>\n",
       "  <tbody>\n",
       "    <tr>\n",
       "      <th>0</th>\n",
       "      <td>201801</td>\n",
       "      <td>2.911952</td>\n",
       "    </tr>\n",
       "    <tr>\n",
       "      <th>1</th>\n",
       "      <td>201802</td>\n",
       "      <td>2.898861</td>\n",
       "    </tr>\n",
       "    <tr>\n",
       "      <th>2</th>\n",
       "      <td>201803</td>\n",
       "      <td>2.945730</td>\n",
       "    </tr>\n",
       "    <tr>\n",
       "      <th>3</th>\n",
       "      <td>201804</td>\n",
       "      <td>2.958398</td>\n",
       "    </tr>\n",
       "    <tr>\n",
       "      <th>4</th>\n",
       "      <td>201805</td>\n",
       "      <td>2.966720</td>\n",
       "    </tr>\n",
       "  </tbody>\n",
       "</table>\n",
       "</div>"
      ],
      "text/plain": [
       "     date   var_fin\n",
       "0  201801  2.911952\n",
       "1  201802  2.898861\n",
       "2  201803  2.945730\n",
       "3  201804  2.958398\n",
       "4  201805  2.966720"
      ]
     },
     "execution_count": 7,
     "metadata": {},
     "output_type": "execute_result"
    }
   ],
   "source": [
    "summary.head()"
   ]
  },
  {
   "cell_type": "markdown",
   "metadata": {},
   "source": [
    "La escala para presentar resultados es importante"
   ]
  },
  {
   "cell_type": "code",
   "execution_count": 8,
   "metadata": {},
   "outputs": [
    {
     "data": {
      "image/png": "[encoded data removed]",
      "text/plain": [
       "<Figure size 720x360 with 1 Axes>"
      ]
     },
     "metadata": {
      "image/png": {
       "height": 340,
       "width": 595
      },
      "needs_background": "light"
     },
     "output_type": "display_data"
    }
   ],
   "source": [
    "ax = summary.plot.line(y='var_fin', marker='o', rot=90, figsize=(10,5), title='ANALSIS DE MEDIAS', color='tab:blue')\n",
    "plt.xticks(range(24), summary['date'], size='small')\n",
    "ax.set_ylim([1,5]);"
   ]
  },
  {
   "cell_type": "markdown",
   "metadata": {},
   "source": [
    "# Chow test\n",
    "\n",
    "Prueba estadística para identificar cambio estructural en un set de datos mediante la verificación de igualdad entre los coeficientes de dos regresiones lineales.\n",
    "\n",
    "El estadístico del Test de Chow es el siguiente:\n",
    "\n",
    "$$Chow Test = \\frac{( RSS_c - (RSS_1 + RSS_2)) \\text{ / } k}{(RSS_1 + RSS_2) \\text{ / } (N_1 + N_2 - 2k)}$$\n",
    "\n",
    "donde:\n",
    "\n",
    "- $RSS_c$ = Suma de cuadrados de los residuos usando todos los datos\n",
    "- $RSS_1$ = Suma de cuadrados de los residuos usando la primera parte de los datos\n",
    "- $RSS_2$ = Suma de cuadrados de los residuos usando la segunda parte de los datos\n",
    "- $N_1$ = Número de observaciones de la primera parte de los datos\n",
    "- $N_2$ = Número de observaciones de la segunda parte de los datos\n",
    "- $k$ = Número de parámetros de la regresión\n",
    "\n",
    "Supongamos que las dos regresiones a evaluar son:\n",
    "\n",
    "- $y_i = \\alpha_1 + \\beta_1 x_{1i} + \\epsilon$\n",
    "- $y_i = \\alpha_2 + \\beta_2 x_{2i} + \\epsilon$\n",
    "\n",
    "Por lo que la hipótesis nula (HO) del test de Chow será que los coeficientes de las regresiones son iguales, es decir, $\\alpha_1 = \\alpha_2 \\text{ y } \\beta_1 = \\beta_2$.\n",
    "\n",
    "El estadístico del test se comporta como una **distribución F** con $k \\text{ y } N_1 + N_2 - 2k$ grados de libertad.\n",
    "\n",
    "### Regla de decisión\n",
    "\n",
    "- Si `p_value` < 0.05 entonces rechazamos HO"
   ]
  },
  {
   "cell_type": "markdown",
   "metadata": {},
   "source": [
    "<img src=\"../images/scatter_plot_1.png\" width=\"480\">\n",
    "<img src=\"../images/scatter_plot_2.png\" width=\"550\">\n",
    "<img src=\"../images/scatter_plot_3.png\" width=\"500\">"
   ]
  },
  {
   "cell_type": "markdown",
   "metadata": {},
   "source": [
    "# Funciones para calcular el Chow Test"
   ]
  },
  {
   "cell_type": "code",
   "execution_count": 9,
   "metadata": {},
   "outputs": [],
   "source": [
    "from sklearn.linear_model import LinearRegression\n",
    "from scipy.stats import f"
   ]
  },
  {
   "cell_type": "code",
   "execution_count": 10,
   "metadata": {},
   "outputs": [],
   "source": [
    "def get_residual_sum_of_squares(dataset, var_obj, var_interes):\n",
    "    X = dataset[var_interes]\n",
    "    y = dataset[var_obj]\n",
    "    reg = LinearRegression().fit(X,y)\n",
    "    residual = y - reg.predict(X)\n",
    "    RSS = np.sum(residual**2)\n",
    "    return RSS"
   ]
  },
  {
   "cell_type": "code",
   "execution_count": 11,
   "metadata": {},
   "outputs": [],
   "source": [
    "def chow_test(dataset, seg1, seg2, var_obj, var_interes):\n",
    "    rss  = get_residual_sum_of_squares(dataset, var_obj, var_interes)\n",
    "    rss1 = get_residual_sum_of_squares(seg1, var_obj, var_interes)\n",
    "    rss2 = get_residual_sum_of_squares(seg2, var_obj, var_interes)\n",
    "    n1 = seg1.shape[0]\n",
    "    n2 = seg2.shape[0]\n",
    "    k = len(var_interes)+1\n",
    "    ct = ((rss - rss1 - rss2) / k) / ((rss1 + rss2) / (n1 + n2 -2*k))\n",
    "    p_value = 1-f.cdf(ct, k, n1 + n2 -2*k)\n",
    "    return [ct,p_value]"
   ]
  },
  {
   "cell_type": "markdown",
   "metadata": {},
   "source": [
    "La función entrega una lista con dos elementos:\n",
    "\n",
    "- El valor del estadístico `ct`\n",
    "- `p_value`"
   ]
  },
  {
   "cell_type": "markdown",
   "metadata": {},
   "source": [
    "# Ejemplo 1"
   ]
  },
  {
   "cell_type": "code",
   "execution_count": 12,
   "metadata": {},
   "outputs": [],
   "source": [
    "mat1 = {'x1': [1.2,1.6,3.5,4.0,5.6,5.7,6.7,7.5,8.5,9.7],\n",
    "        'x2': [1.9,2.7,3.7,3.1,3.5,7.5,1.2,3.7,0.6,5.1],\n",
    "        'y':  [0.9,1.3,2.0,1.8,2.2,3.5,1.9,2.7,2.1,3.6]}\n",
    "\n",
    "mat2 = {'x1': [1.4,1.5,3.1,4.4,5.1,5.2,6.5,7.8,8.1,9.5],\n",
    "        'x2': [1.3,2.3,3.2,3.6,3.1,7.3,1.5,3.2,0.1,5.6],\n",
    "        'y':  [0.5,1.3,2.5,1.1,2.8,3.3,1.3,2.2,2.8,3.9]}"
   ]
  },
  {
   "cell_type": "code",
   "execution_count": 13,
   "metadata": {},
   "outputs": [],
   "source": [
    "dat1 = pd.DataFrame(mat1)\n",
    "dat2 = pd.DataFrame(mat2)"
   ]
  },
  {
   "cell_type": "code",
   "execution_count": 14,
   "metadata": {},
   "outputs": [],
   "source": [
    "complete = pd.concat([dat1,dat2], ignore_index=True)"
   ]
  },
  {
   "cell_type": "code",
   "execution_count": 15,
   "metadata": {},
   "outputs": [
    {
     "data": {
      "text/html": [
       "<div>\n",
       "<style scoped>\n",
       "    .dataframe tbody tr th:only-of-type {\n",
       "        vertical-align: middle;\n",
       "    }\n",
       "\n",
       "    .dataframe tbody tr th {\n",
       "        vertical-align: top;\n",
       "    }\n",
       "\n",
       "    .dataframe thead th {\n",
       "        text-align: right;\n",
       "    }\n",
       "</style>\n",
       "<table border=\"1\" class=\"dataframe\">\n",
       "  <thead>\n",
       "    <tr style=\"text-align: right;\">\n",
       "      <th></th>\n",
       "      <th>x1</th>\n",
       "      <th>x2</th>\n",
       "      <th>y</th>\n",
       "    </tr>\n",
       "  </thead>\n",
       "  <tbody>\n",
       "    <tr>\n",
       "      <th>0</th>\n",
       "      <td>1.2</td>\n",
       "      <td>1.9</td>\n",
       "      <td>0.9</td>\n",
       "    </tr>\n",
       "    <tr>\n",
       "      <th>1</th>\n",
       "      <td>1.6</td>\n",
       "      <td>2.7</td>\n",
       "      <td>1.3</td>\n",
       "    </tr>\n",
       "    <tr>\n",
       "      <th>2</th>\n",
       "      <td>3.5</td>\n",
       "      <td>3.7</td>\n",
       "      <td>2.0</td>\n",
       "    </tr>\n",
       "    <tr>\n",
       "      <th>3</th>\n",
       "      <td>4.0</td>\n",
       "      <td>3.1</td>\n",
       "      <td>1.8</td>\n",
       "    </tr>\n",
       "    <tr>\n",
       "      <th>4</th>\n",
       "      <td>5.6</td>\n",
       "      <td>3.5</td>\n",
       "      <td>2.2</td>\n",
       "    </tr>\n",
       "  </tbody>\n",
       "</table>\n",
       "</div>"
      ],
      "text/plain": [
       "    x1   x2    y\n",
       "0  1.2  1.9  0.9\n",
       "1  1.6  2.7  1.3\n",
       "2  3.5  3.7  2.0\n",
       "3  4.0  3.1  1.8\n",
       "4  5.6  3.5  2.2"
      ]
     },
     "execution_count": 15,
     "metadata": {},
     "output_type": "execute_result"
    }
   ],
   "source": [
    "complete.head()"
   ]
  },
  {
   "cell_type": "code",
   "execution_count": 16,
   "metadata": {},
   "outputs": [
    {
     "data": {
      "text/plain": [
       "[0.07154752544572586, 0.9742318542171963]"
      ]
     },
     "execution_count": 16,
     "metadata": {},
     "output_type": "execute_result"
    }
   ],
   "source": [
    "chow_test(complete,dat1,dat2,'y',['x1','x2'])"
   ]
  },
  {
   "cell_type": "markdown",
   "metadata": {},
   "source": [
    "### Regla de decisión\n",
    "\n",
    "Recordemos que si `p_value` < 0.05 entonces rechazamos HO (Son iguales los **coeficientes**) en favor de HA (son distintas las **Betas**).\n",
    "\n",
    "### Resultado\n",
    "\n",
    "Como `p_value` es igual a 0.974231..., entonces aceptamos la HO y concluimos que **NO HAY CAMBIO ESTRUCTURAL**"
   ]
  },
  {
   "cell_type": "markdown",
   "metadata": {},
   "source": [
    "# Ejemplo 2"
   ]
  },
  {
   "cell_type": "code",
   "execution_count": 17,
   "metadata": {},
   "outputs": [],
   "source": [
    "df = pd.read_csv('../data/chowtest_data.csv')"
   ]
  },
  {
   "cell_type": "code",
   "execution_count": 18,
   "metadata": {},
   "outputs": [
    {
     "data": {
      "text/html": [
       "<div>\n",
       "<style scoped>\n",
       "    .dataframe tbody tr th:only-of-type {\n",
       "        vertical-align: middle;\n",
       "    }\n",
       "\n",
       "    .dataframe tbody tr th {\n",
       "        vertical-align: top;\n",
       "    }\n",
       "\n",
       "    .dataframe thead th {\n",
       "        text-align: right;\n",
       "    }\n",
       "</style>\n",
       "<table border=\"1\" class=\"dataframe\">\n",
       "  <thead>\n",
       "    <tr style=\"text-align: right;\">\n",
       "      <th></th>\n",
       "      <th>year</th>\n",
       "      <th>saving</th>\n",
       "      <th>income</th>\n",
       "    </tr>\n",
       "  </thead>\n",
       "  <tbody>\n",
       "    <tr>\n",
       "      <th>0</th>\n",
       "      <td>1970</td>\n",
       "      <td>61.0</td>\n",
       "      <td>727.1</td>\n",
       "    </tr>\n",
       "    <tr>\n",
       "      <th>1</th>\n",
       "      <td>1971</td>\n",
       "      <td>68.6</td>\n",
       "      <td>790.2</td>\n",
       "    </tr>\n",
       "    <tr>\n",
       "      <th>2</th>\n",
       "      <td>1972</td>\n",
       "      <td>63.6</td>\n",
       "      <td>855.3</td>\n",
       "    </tr>\n",
       "    <tr>\n",
       "      <th>3</th>\n",
       "      <td>1973</td>\n",
       "      <td>89.6</td>\n",
       "      <td>965.0</td>\n",
       "    </tr>\n",
       "    <tr>\n",
       "      <th>4</th>\n",
       "      <td>1974</td>\n",
       "      <td>97.6</td>\n",
       "      <td>1054.2</td>\n",
       "    </tr>\n",
       "  </tbody>\n",
       "</table>\n",
       "</div>"
      ],
      "text/plain": [
       "   year  saving  income\n",
       "0  1970    61.0   727.1\n",
       "1  1971    68.6   790.2\n",
       "2  1972    63.6   855.3\n",
       "3  1973    89.6   965.0\n",
       "4  1974    97.6  1054.2"
      ]
     },
     "execution_count": 18,
     "metadata": {},
     "output_type": "execute_result"
    }
   ],
   "source": [
    "df.head()"
   ]
  },
  {
   "cell_type": "code",
   "execution_count": 19,
   "metadata": {},
   "outputs": [],
   "source": [
    "df1 = df[df['year']<1982]\n",
    "df2 = df[df['year']>=1982]"
   ]
  },
  {
   "cell_type": "code",
   "execution_count": 20,
   "metadata": {},
   "outputs": [
    {
     "data": {
      "text/plain": [
       "[10.690059062817632, 0.0005707572752082779]"
      ]
     },
     "execution_count": 20,
     "metadata": {},
     "output_type": "execute_result"
    }
   ],
   "source": [
    "chow_test(df,df1,df2,'saving',['income'])"
   ]
  },
  {
   "cell_type": "markdown",
   "metadata": {},
   "source": [
    "### Regla de decisión\n",
    "\n",
    "Recordemos que si `p_value` < 0.05 entonces rechazamos HO (Son iguales los **coeficientes**) en favor de HA (son distintas las **Betas**).\n",
    "\n",
    "### Resultado\n",
    "\n",
    "Como `p_value` es igual a 0.000570..., entonces rechazamos la HO y concluimos que **SI HAY CAMBIO ESTRUCTURAL**"
   ]
  },
  {
   "cell_type": "markdown",
   "metadata": {},
   "source": [
    "Gracias!"
   ]
  },
  {
   "cell_type": "code",
   "execution_count": null,
   "metadata": {},
   "outputs": [],
   "source": []
  },
  {
   "cell_type": "code",
   "execution_count": null,
   "metadata": {},
   "outputs": [],
   "source": []
  },
  {
   "cell_type": "code",
   "execution_count": null,
   "metadata": {},
   "outputs": [],
   "source": []
  }
 ],
 "metadata": {
  "kernelspec": {
   "display_name": "Python 3",
   "language": "python",
   "name": "python3"
  },
  "language_info": {
   "codemirror_mode": {
    "name": "ipython",
    "version": 3
   },
   "file_extension": ".py",
   "mimetype": "text/x-python",
   "name": "python",
   "nbconvert_exporter": "python",
   "pygments_lexer": "ipython3",
   "version": "3.9.1"
  }
 },
 "nbformat": 4,
 "nbformat_minor": 4
}
